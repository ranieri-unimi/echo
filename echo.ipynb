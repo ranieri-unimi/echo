{
  "cells": [
    {
      "cell_type": "markdown",
      "metadata": {
        "colab_type": "text",
        "id": "view-in-github"
      },
      "source": [
        "<a href=\"https://colab.research.google.com/github/ranieri-unimi/lsh-malchiodi-2022/blob/main/faces.ipynb\" target=\"_parent\"><img src=\"https://colab.research.google.com/assets/colab-badge.svg\" alt=\"Open In Colab\"/></a>"
      ]
    },
    {
      "cell_type": "code",
      "execution_count": 44,
      "metadata": {
        "id": "7mH3gc9TWKCM"
      },
      "outputs": [],
      "source": [
        "import os\n",
        "\n",
        "os.environ[\"KAGGLE_USERNAME\"] = \"ranieriunimi\"\n",
        "os.environ[\"KAGGLE_KEY\"] = str(hex(232307088475198570779809482024044346960))[2:]"
      ]
    },
    {
      "cell_type": "code",
      "execution_count": 45,
      "metadata": {
        "colab": {
          "base_uri": "https://localhost:8080/"
        },
        "id": "ngXoXE4KWKCN",
        "outputId": "8167fbdb-9c7a-4477-9c64-544a3e9d9f15"
      },
      "outputs": [
        {
          "name": "stdout",
          "output_type": "stream",
          "text": [
            "Downloading ukraine-russian-crisis-twitter-dataset-1-2-m-rows.zip to .\n",
            "100% 12.0G/12.0G [01:56<00:00, 127MB/s]\n",
            "100% 12.0G/12.0G [01:56<00:00, 111MB/s]\n"
          ]
        }
      ],
      "source": [
        "ref = \"bwandowando/ukraine-russian-crisis-twitter-dataset-1-2-m-rows\"\n",
        "\n",
        "!kaggle datasets download $ref --unzip -p ."
      ]
    },
    {
      "cell_type": "code",
      "execution_count": 46,
      "metadata": {
        "colab": {
          "base_uri": "https://localhost:8080/"
        },
        "id": "2uhwYor6WVuT",
        "outputId": "adfd67be-24ff-4bb9-81af-d1954e1737db"
      },
      "outputs": [
        {
          "name": "stdout",
          "output_type": "stream",
          "text": [
            "Looking in indexes: https://pypi.org/simple, https://us-python.pkg.dev/colab-wheels/public/simple/\n",
            "Requirement already satisfied: pyspark in /usr/local/lib/python3.7/dist-packages (3.3.0)\n",
            "Requirement already satisfied: py4j==0.10.9.5 in /usr/local/lib/python3.7/dist-packages (from pyspark) (0.10.9.5)\n",
            "Looking in indexes: https://pypi.org/simple, https://us-python.pkg.dev/colab-wheels/public/simple/\n",
            "Requirement already satisfied: findspark in /usr/local/lib/python3.7/dist-packages (2.0.1)\n"
          ]
        }
      ],
      "source": [
        "!pip install pyspark\n",
        "!pip install findspark"
      ]
    },
    {
      "cell_type": "code",
      "execution_count": 47,
      "metadata": {
        "id": "fQNZM77zauIw"
      },
      "outputs": [],
      "source": [
        "import pyspark\n",
        "import findspark"
      ]
    },
    {
      "cell_type": "code",
      "execution_count": 48,
      "metadata": {
        "id": "sqGrV6XdWKCI"
      },
      "outputs": [],
      "source": [
        "import numpy as np\n",
        "import pandas as pd\n",
        "import csv\n",
        "import re\n",
        "import string\n",
        "import random"
      ]
    },
    {
      "cell_type": "markdown",
      "metadata": {
        "id": "oAR7LusA5ZOK"
      },
      "source": [
        "# echo"
      ]
    },
    {
      "cell_type": "markdown",
      "metadata": {
        "id": "cuVNl3dFbedu"
      },
      "source": [
        "set a number cap of tweets (0 to skip)"
      ]
    },
    {
      "cell_type": "code",
      "execution_count": 49,
      "metadata": {
        "id": "c1FjJN8F6ejg"
      },
      "outputs": [],
      "source": [
        "SAMPLE_SIZE = 40 * 1000"
      ]
    },
    {
      "cell_type": "markdown",
      "metadata": {
        "id": "REaNAuF2WKCS"
      },
      "source": [
        "hadoop instance"
      ]
    },
    {
      "cell_type": "code",
      "execution_count": 50,
      "metadata": {
        "id": "NrOTb9eEWSpB"
      },
      "outputs": [],
      "source": [
        "from pyspark.sql import SparkSession"
      ]
    },
    {
      "cell_type": "code",
      "execution_count": 51,
      "metadata": {
        "id": "1gMPGu1YWKCS"
      },
      "outputs": [],
      "source": [
        "spark = SparkSession.builder.master(\"local[*]\").getOrCreate()\n",
        "sc = spark.sparkContext"
      ]
    },
    {
      "cell_type": "markdown",
      "metadata": {
        "id": "epsbJzfebnMd"
      },
      "source": [
        "load the dataset"
      ]
    },
    {
      "cell_type": "code",
      "execution_count": 53,
      "metadata": {
        "id": "v_QSaRR7dP2r"
      },
      "outputs": [],
      "source": [
        "csv_list = [\n",
        "    os.path.join(dirname, filename)\n",
        "    for dirname, _, filenames in os.walk(\".\")\n",
        "    for filename in filenames\n",
        "    if filename.startswith(\"09\")  # only September\n",
        "]"
      ]
    },
    {
      "cell_type": "code",
      "execution_count": 56,
      "metadata": {
        "id": "ZnVVxauQdY4-"
      },
      "outputs": [],
      "source": [
        "df_list = [\n",
        "    pd.read_csv(\n",
        "        csv_file,\n",
        "        engine='python',\n",
        "        compression='gzip',\n",
        "        encoding='utf-8',\n",
        "        quoting=csv.QUOTE_ALL,\n",
        "        usecols=lambda x: x in [\"text\",\"language\",\"tweetid\"]\n",
        "        )\n",
        "    for csv_file in csv_list\n",
        "]"
      ]
    },
    {
      "cell_type": "code",
      "execution_count": 57,
      "metadata": {
        "id": "2HmiSsm4dqqD"
      },
      "outputs": [],
      "source": [
        "df = (pd\n",
        "      .concat(df_list, axis=0)\n",
        "      .reset_index(drop=True)\n",
        "      .drop_duplicates([\"tweetid\"], keep='last')\n",
        "      )"
      ]
    },
    {
      "cell_type": "code",
      "execution_count": 58,
      "metadata": {
        "id": "B4CKSaCqAqIw"
      },
      "outputs": [],
      "source": [
        "del df_list"
      ]
    },
    {
      "cell_type": "code",
      "execution_count": 59,
      "metadata": {
        "id": "_frlylt5WKCP"
      },
      "outputs": [],
      "source": [
        "df = df[df.language == \"en\"]"
      ]
    },
    {
      "cell_type": "code",
      "execution_count": 60,
      "metadata": {
        "id": "FCWDtxA26udo"
      },
      "outputs": [],
      "source": [
        "dl = df.text.tolist()\n",
        "dl = random.sample(dl, SAMPLE_SIZE) if SAMPLE_SIZE else dl"
      ]
    },
    {
      "cell_type": "code",
      "execution_count": 61,
      "metadata": {
        "colab": {
          "base_uri": "https://localhost:8080/"
        },
        "id": "iUkPp6uoa0O4",
        "outputId": "d3df02f5-45a4-46d8-8dfb-bbcd9906242b"
      },
      "outputs": [
        {
          "data": {
            "text/plain": [
              "[(0,\n",
              "  'And Russia’s at it again. Seems like a trend with them.Anytime the Russians have to retreat they commit mass genocide to innocent civilians.This is a war crime yet nobody did anything during the #BuchaMassacre will this be any different. Probably not. When will justice be served? https://t.co/xKj5lC5QsB'),\n",
              " (1,\n",
              "  \"@nexta_tv Peacekeepers....  If it wasn't for #Lavrov and #Putler there would be peace....\"),\n",
              " (2,\n",
              "  'In a matter of days, Ukrainian forces seized over 1,000 sq. km. of land back, forcing the withdrawal of #russian troops from the majority of the region. Amid this turn of events, Premise asked our Contributors in #ukraine whether they had heard the news, and what they make of it.'),\n",
              " (3,\n",
              "  '@BenCourts1 @Zhijie78 @GastonFoubert @blackintheempir Lol, no evidence of promise from anyone, who isn’t from Russia. No Russian protests before recent years. And the guy still believes this corrupted killer Putin, who is in charge for 20+ years)'),\n",
              " (4,\n",
              "  \"As long as they are on the move, #Russia has few options. The only thing that would have a chance to hit these moving targets is UAV-adjusted gun artillery (assuming they have the same abilities as #Ukraine). Outside of regular gun aritllery, Russia can't do anything. 1/5 https://t.co/sB3hZyAS6i\"),\n",
              " (5,\n",
              "  'There will be a hard fight for every centimeter of #Luhansk land.\\nThe enemy is preparing for defense, so we will not enter in a \"parade\".\\n\\nPeople are waiting for us. We are preparing. The #Ukrainian authorities will immediately start working in the de-occupied communities.'),\n",
              " (6,\n",
              "  'As #CounterAttacks SPIRAL &amp; Russians FLEE for their lives, #Putin opens a Ferris Wheel in #Moscow! 🇷🇺🎡😊🇺🇦👏✌️🗽 \\n https://t.co/jHct3nouNM')]"
            ]
          },
          "execution_count": 61,
          "metadata": {},
          "output_type": "execute_result"
        }
      ],
      "source": [
        "rdd = sc.parallelize(enumerate(dl))\n",
        "\n",
        "rdd.take(7)"
      ]
    },
    {
      "cell_type": "markdown",
      "metadata": {
        "id": "i3RapMVFenPc"
      },
      "source": [
        "## data cleaning"
      ]
    },
    {
      "cell_type": "code",
      "execution_count": 62,
      "metadata": {
        "id": "5i9KWOCjWKCR"
      },
      "outputs": [],
      "source": [
        "def preprocess_tweet_text(tweet):\n",
        "\n",
        "    # opt for a case insensite analysis\n",
        "    tweet = tweet.lower()\n",
        "\n",
        "    # remove URLs\n",
        "    tweet = re.sub(r\"http\\S+|www\\S+|https\\S+\", \"\", tweet, flags=re.MULTILINE)\n",
        "\n",
        "    # remove #hastags and @mentions\n",
        "    tweet = re.sub(\"@[A-Za-z0-9_]+\",\"\", tweet)\n",
        "    tweet = re.sub(\"#[A-Za-z0-9_]+\",\"\", tweet)\n",
        "\n",
        "    # translate puntctuation to spaces\n",
        "    tweet = tweet.translate(\n",
        "        str.maketrans(string.punctuation + \"…’”“‘\", \" \" * (len(string.punctuation) + 5))\n",
        "    )\n",
        "\n",
        "    # remove extra spaces\n",
        "    tweet = \" \".join(tweet.strip().split())\n",
        "\n",
        "    return tweet"
      ]
    },
    {
      "cell_type": "code",
      "execution_count": 63,
      "metadata": {
        "id": "X7ncVMmc_sI6"
      },
      "outputs": [],
      "source": [
        "def shift_key_value(x):\n",
        "    return (x[-1], x[0])"
      ]
    },
    {
      "cell_type": "code",
      "execution_count": 64,
      "metadata": {
        "colab": {
          "base_uri": "https://localhost:8080/"
        },
        "id": "6FwCMGxhcb4K",
        "outputId": "8038a184-8bfc-4f07-e7d2-a6ed93df5019"
      },
      "outputs": [
        {
          "data": {
            "text/plain": [
              "[(2,\n",
              "  'in a matter of days ukrainian forces seized over 1 000 sq km of land back forcing the withdrawal of troops from the majority of the region amid this turn of events premise asked our contributors in whether they had heard the news and what they make of it'),\n",
              " (19,\n",
              "  'ukraine must prevail ukraine will prevail putler s fascist empire must fail puler s fascist empire will fail'),\n",
              " (41,\n",
              "  'the us weapon beating the russians in ukraine russian ukraine nato latest news today'),\n",
              " (45,\n",
              "  'this is how ukrainians greet the ukrainians liberators after 6 months of russian hell ïni ukraine armed forces 🇺🇦 seems like they cuddle with god'),\n",
              " (63,\n",
              "  'all i want for christmas is 1 trump in prison 2 ukraine winning the war and the fall of putin s regime 3 the collapse of iran s evil regime 4 maga republicans losing the midterms is that too much to ask'),\n",
              " (81,\n",
              "  'over 30 31 august 2022 ukrainian armed forces continued offensive operations in southern ukraine read full british intelligence update as of sep 1'),\n",
              " (85,\n",
              "  'what if uses nuclear or chemical weapons against tidal wave of global condemnation amp us domestic pressure to give ukrainians everything that means will take war to claims of limited special operation will be unsustainable روسيا اوكرانيا')]"
            ]
          },
          "execution_count": 64,
          "metadata": {},
          "output_type": "execute_result"
        }
      ],
      "source": [
        "dataPipe = (\n",
        "    rdd\n",
        "    #    clean tweets\n",
        "    .mapValues(preprocess_tweet_text)\n",
        "    #    remove duplicates\n",
        "    .map(shift_key_value)\n",
        "    .reduceByKey(min)\n",
        "    .map(shift_key_value)\n",
        "    # # nvm\n",
        "    # .filter(lambda x : 'ukrain' in x[-1])\n",
        ")\n",
        "\n",
        "dataPipe.take(7)"
      ]
    },
    {
      "cell_type": "code",
      "execution_count": 65,
      "metadata": {
        "colab": {
          "base_uri": "https://localhost:8080/"
        },
        "id": "qTypdpUNpOX_",
        "outputId": "e9b0d627-38c0-4bb3-9ae0-6f383eb17f50"
      },
      "outputs": [
        {
          "data": {
            "text/plain": [
              "5941"
            ]
          },
          "execution_count": 65,
          "metadata": {},
          "output_type": "execute_result"
        }
      ],
      "source": [
        "dataPipe.count()"
      ]
    },
    {
      "cell_type": "markdown",
      "metadata": {
        "id": "aEl3HXq_t3BN"
      },
      "source": [
        "## shingles"
      ]
    },
    {
      "cell_type": "code",
      "execution_count": 66,
      "metadata": {
        "id": "Kd6TFHOnzwH5"
      },
      "outputs": [],
      "source": [
        "SH_LEN = 5"
      ]
    },
    {
      "cell_type": "code",
      "execution_count": 67,
      "metadata": {
        "colab": {
          "base_uri": "https://localhost:8080/"
        },
        "id": "bIpn4oQ1ciK6",
        "outputId": "8373f47b-b8d4-4b51-e221-a8e0d51076a3"
      },
      "outputs": [
        {
          "data": {
            "text/plain": [
              "[(2, 'in a '),\n",
              " (2, ' a ma'),\n",
              " (2, 'a mat'),\n",
              " (2, 'tter '),\n",
              " (2, 'r of '),\n",
              " (2, ' of d'),\n",
              " (2, 'f day')]"
            ]
          },
          "execution_count": 67,
          "metadata": {},
          "output_type": "execute_result"
        }
      ],
      "source": [
        "shigles = dataPipe.flatMap(\n",
        "    # use a `SH_LEN` sliding window and list all shingles from each tweet `x`\n",
        "    lambda x: [(x[0], x[-1][i : i + SH_LEN]) for i in range(len(x[-1]) - SH_LEN)]\n",
        ").distinct()\n",
        "\n",
        "shigles.take(7)"
      ]
    },
    {
      "cell_type": "code",
      "execution_count": 68,
      "metadata": {
        "id": "sYUS1RzSpJeA"
      },
      "outputs": [],
      "source": [
        "import binascii"
      ]
    },
    {
      "cell_type": "code",
      "execution_count": 69,
      "metadata": {
        "id": "x_K47yb2hhxW"
      },
      "outputs": [],
      "source": [
        "def hash_value(v):\n",
        "    b = bytes(v, \"utf-8\") # from string to bytes\n",
        "    h = binascii.crc32(b) # hashing to 4 bytes\n",
        "    return h"
      ]
    },
    {
      "cell_type": "code",
      "execution_count": 70,
      "metadata": {
        "colab": {
          "base_uri": "https://localhost:8080/"
        },
        "id": "Lriu-tTsc3FG",
        "outputId": "c16cea18-baa3-4de6-908f-4f726be930b7"
      },
      "outputs": [
        {
          "data": {
            "text/plain": [
              "[(2, 2848174446),\n",
              " (2, 1180087470),\n",
              " (2, 2923465592),\n",
              " (2, 1786980940),\n",
              " (2, 2535141870),\n",
              " (2, 4212066642),\n",
              " (2, 80402308)]"
            ]
          },
          "execution_count": 70,
          "metadata": {},
          "output_type": "execute_result"
        }
      ],
      "source": [
        "charactMx = shigles.mapValues(hash_value).distinct()\n",
        "\n",
        "charactMx.take(7)"
      ]
    },
    {
      "cell_type": "markdown",
      "metadata": {
        "id": "Cml_wQ0DO28d"
      },
      "source": [
        "## MinHashing"
      ]
    },
    {
      "cell_type": "code",
      "execution_count": 71,
      "metadata": {
        "id": "LT3TGML3simt"
      },
      "outputs": [],
      "source": [
        "def RN(stop, start=1):\n",
        "    \"\"\"\n",
        "        simple alias for random.randrange\n",
        "        but `start` is set to 1 by default\n",
        "    \"\"\"\n",
        "    return random.randrange(start, stop)\n",
        "\n",
        "\n",
        "def RB(B=4):\n",
        "    \"\"\"\n",
        "        Generate a odd number smaller than `B` bytes\n",
        "    \"\"\"\n",
        "    return RN(2 ** (8 * B - 1), 0) * 2 + 1\n",
        "\n",
        "\n",
        "def PF(x, scale, shift, base):\n",
        "    \"\"\"\n",
        "        Permutation Function:\n",
        "        Permute `x` by given parameters\n",
        "    \"\"\"\n",
        "    return (scale * x + shift) % base\n"
      ]
    },
    {
      "cell_type": "code",
      "execution_count": 72,
      "metadata": {
        "colab": {
          "base_uri": "https://localhost:8080/"
        },
        "id": "1PH-NSL2JB7q",
        "outputId": "fdd81690-4c44-4fb1-9506-f5d6f3749321"
      },
      "outputs": [
        {
          "data": {
            "text/plain": [
              "0.7799771419043033"
            ]
          },
          "execution_count": 72,
          "metadata": {},
          "output_type": "execute_result"
        }
      ],
      "source": [
        "n_permfoo, b_bands = 120, 12\n",
        "\n",
        "(1 / b_bands) ** (1 / (n_permfoo // b_bands)) \n",
        "# approximation of similarity threshold"
      ]
    },
    {
      "cell_type": "code",
      "execution_count": 73,
      "metadata": {
        "colab": {
          "base_uri": "https://localhost:8080/"
        },
        "id": "9KTeytyy49L2",
        "outputId": "f3cdf9a7-4c3d-4fc6-e490-b4cde40a8bff"
      },
      "outputs": [
        {
          "data": {
            "text/plain": [
              "[{'shift': 2379111221, 'scale': 3900511489, 'base': 4294967296},\n",
              " {'shift': 445239449, 'scale': 518418609, 'base': 4294967296},\n",
              " {'shift': 3028619029, 'scale': 3958610497, 'base': 4294967296},\n",
              " {'shift': 2689406765, 'scale': 347507381, 'base': 4294967296},\n",
              " {'shift': 2267584307, 'scale': 2994529517, 'base': 4294967296},\n",
              " {'shift': 4076036023, 'scale': 2949604343, 'base': 4294967296},\n",
              " {'shift': 3637167983, 'scale': 3034253755, 'base': 4294967296}]"
            ]
          },
          "execution_count": 73,
          "metadata": {},
          "output_type": "execute_result"
        }
      ],
      "source": [
        "params = [ \n",
        "    {\"shift\": RB(), \"scale\": RB(), \"base\": 2 ** (8 * 4)}\n",
        "    for _ in range(n_permfoo)\n",
        "    # list of 120 linear congruential generators\n",
        "]\n",
        "\n",
        "params[:7]"
      ]
    },
    {
      "cell_type": "code",
      "execution_count": 74,
      "metadata": {
        "id": "rU2c-Bt6mHi-"
      },
      "outputs": [],
      "source": [
        "def multi_enum(x):\n",
        "    doc, shingle = x\n",
        "    return [((doc, h), (shingle, h)) for h in range(n_permfoo)]\n",
        "    # enumerate 120 times each key-value pair, for future computations"
      ]
    },
    {
      "cell_type": "code",
      "execution_count": 75,
      "metadata": {
        "colab": {
          "base_uri": "https://localhost:8080/"
        },
        "id": "lt-9O9HGd2Uy",
        "outputId": "b89158a7-4b20-4f9b-aada-7e102dfd0adf"
      },
      "outputs": [
        {
          "data": {
            "text/plain": [
              "[((2, 0), 2540208936),\n",
              " ((2, 2), 789266766),\n",
              " ((2, 4), 3191334155),\n",
              " ((2, 6), 4163760227),\n",
              " ((2, 8), 499326825),\n",
              " ((2, 10), 2518392153),\n",
              " ((2, 12), 3516760539)]"
            ]
          },
          "execution_count": 75,
          "metadata": {},
          "output_type": "execute_result"
        }
      ],
      "source": [
        "minHashSignMx = (\n",
        "    charactMx.flatMap(multi_enum)\n",
        "    .reduceByKey(\n",
        "        lambda a, b: a if PF(a[0], **params[a[-1]]) < PF(b[0], **params[a[-1]]) else b\n",
        "        # permute `PF` both `a` and `b`, and keep the one which return the smallest output\n",
        "    )\n",
        "    .mapValues(lambda v: v[0])\n",
        "    # drop enumeration\n",
        ")\n",
        "\n",
        "minHashSignMx.take(7)\n",
        "# (doc, h) , shingle"
      ]
    },
    {
      "cell_type": "markdown",
      "metadata": {
        "id": "7Co_sAauPB29"
      },
      "source": [
        "## LSH"
      ]
    },
    {
      "cell_type": "code",
      "execution_count": 76,
      "metadata": {
        "id": "5xL6VFo_Wil-"
      },
      "outputs": [],
      "source": [
        "scale, shift = RN(b_bands), RN(b_bands)\n",
        "bandmap = lambda x: PF(x, scale, shift, b_bands)"
      ]
    },
    {
      "cell_type": "code",
      "execution_count": 77,
      "metadata": {
        "id": "ZQ4H_GDeQmw3"
      },
      "outputs": [],
      "source": [
        "def band_expand(x):\n",
        "  (doc, h), shingle = x\n",
        "  # map each hash to band\n",
        "  return ((doc, bandmap(h)), (h, shingle))"
      ]
    },
    {
      "cell_type": "code",
      "execution_count": 78,
      "metadata": {
        "colab": {
          "base_uri": "https://localhost:8080/"
        },
        "id": "xTDLgH0hHnoP",
        "outputId": "aa973866-a574-4c7e-d05a-b875c25dbf7c"
      },
      "outputs": [
        {
          "data": {
            "text/plain": [
              "[((2, 10),\n",
              "  [1544024082,\n",
              "   4026399056,\n",
              "   1026882825,\n",
              "   218462603,\n",
              "   2535141870,\n",
              "   236475740,\n",
              "   3267864145,\n",
              "   1962208152,\n",
              "   4212066642,\n",
              "   2914159121,\n",
              "   4205663052,\n",
              "   1836651710,\n",
              "   2839980760,\n",
              "   2560504928,\n",
              "   1822166547,\n",
              "   2021151087,\n",
              "   4026399056,\n",
              "   1004840252,\n",
              "   1413222931,\n",
              "   122402601,\n",
              "   1976169923,\n",
              "   4131151583,\n",
              "   452695273,\n",
              "   1366381447,\n",
              "   3437516573,\n",
              "   23674158,\n",
              "   3009834554,\n",
              "   122402601,\n",
              "   637951864,\n",
              "   499326825]),\n",
              " ((2, 4),\n",
              "  [22495342,\n",
              "   4131151583,\n",
              "   1054255490,\n",
              "   2761320979,\n",
              "   2890015951,\n",
              "   2790009549,\n",
              "   2608946951,\n",
              "   1905304219,\n",
              "   3516760539,\n",
              "   2234235648,\n",
              "   675254994,\n",
              "   448958865,\n",
              "   284929611,\n",
              "   2790009549,\n",
              "   1601459314,\n",
              "   118370699,\n",
              "   2665402115,\n",
              "   972749395,\n",
              "   1013674347,\n",
              "   2481466753,\n",
              "   1180087470,\n",
              "   576791929,\n",
              "   2112752380,\n",
              "   2721141291,\n",
              "   2646012664,\n",
              "   1822166547,\n",
              "   3603298554,\n",
              "   4218411702,\n",
              "   895764605,\n",
              "   665135834]),\n",
              " ((19, 1),\n",
              "  [2143539719,\n",
              "   2907865542,\n",
              "   351080511,\n",
              "   994163019,\n",
              "   2014578746,\n",
              "   2014659948,\n",
              "   1173571689,\n",
              "   1173571689,\n",
              "   3396756290,\n",
              "   2692754508,\n",
              "   417530562,\n",
              "   3662675685,\n",
              "   2649084538,\n",
              "   1619700970,\n",
              "   2220751562,\n",
              "   80402308,\n",
              "   1357564584,\n",
              "   3968423256,\n",
              "   2143539719,\n",
              "   223325263,\n",
              "   630535086,\n",
              "   1114180332,\n",
              "   2685564595,\n",
              "   7964752,\n",
              "   2020543231,\n",
              "   7964752,\n",
              "   2588249936,\n",
              "   833700799,\n",
              "   3662675685,\n",
              "   2617289703]),\n",
              " ((19, 7),\n",
              "  [994163019,\n",
              "   1170168400,\n",
              "   509802719,\n",
              "   3662675685,\n",
              "   2814168384,\n",
              "   351080511,\n",
              "   7964752,\n",
              "   1854941860,\n",
              "   2148715270,\n",
              "   567414734,\n",
              "   943515340,\n",
              "   2752017201,\n",
              "   2143539719,\n",
              "   1854941860,\n",
              "   2875759217,\n",
              "   994163019,\n",
              "   2261730240,\n",
              "   3492715690,\n",
              "   1328942180,\n",
              "   1114180332,\n",
              "   1191901061,\n",
              "   3488596588,\n",
              "   1173571689,\n",
              "   2521244502,\n",
              "   743973763,\n",
              "   1346709329,\n",
              "   896824783,\n",
              "   2814168384,\n",
              "   567414734,\n",
              "   3968423256]),\n",
              " ((41, 1),\n",
              "  [3913890171,\n",
              "   55654661,\n",
              "   3230738293,\n",
              "   3925074215,\n",
              "   3913890171,\n",
              "   683946619,\n",
              "   1508970502,\n",
              "   3913890171,\n",
              "   1508970502,\n",
              "   1601459314,\n",
              "   4114862219,\n",
              "   150260769,\n",
              "   2182761768,\n",
              "   1366381447,\n",
              "   3913890171,\n",
              "   1514750571,\n",
              "   3078296189,\n",
              "   3474310692,\n",
              "   3078296189,\n",
              "   520097816,\n",
              "   2182761768,\n",
              "   1652909506,\n",
              "   1518600280,\n",
              "   1159270963,\n",
              "   4083024281,\n",
              "   166484563,\n",
              "   1424444835,\n",
              "   3913890171,\n",
              "   3474310692,\n",
              "   1659293655]),\n",
              " ((41, 7),\n",
              "  [4083024281,\n",
              "   3917732950,\n",
              "   4167762727,\n",
              "   3966394216,\n",
              "   389113144,\n",
              "   358508551,\n",
              "   2382776202,\n",
              "   389113144,\n",
              "   974088411,\n",
              "   4227051797,\n",
              "   3060737963,\n",
              "   3966394216,\n",
              "   641217916,\n",
              "   2883809989,\n",
              "   520097816,\n",
              "   589353113,\n",
              "   997498453,\n",
              "   683946619,\n",
              "   3913890171,\n",
              "   1322517127,\n",
              "   1191901061,\n",
              "   3913890171,\n",
              "   1173571689,\n",
              "   1518600280,\n",
              "   1514750571,\n",
              "   3966394216,\n",
              "   997498453,\n",
              "   1322517127,\n",
              "   2419098726,\n",
              "   2897190544]),\n",
              " ((45, 1),\n",
              "  [2193072588,\n",
              "   3191334155,\n",
              "   446060868,\n",
              "   403932167,\n",
              "   2193072588,\n",
              "   1052702216,\n",
              "   1508970502,\n",
              "   894474963,\n",
              "   2550810072,\n",
              "   1138371475,\n",
              "   2011813490,\n",
              "   1758731958,\n",
              "   2110101919,\n",
              "   771233627,\n",
              "   3497261703,\n",
              "   3714662656,\n",
              "   852953711,\n",
              "   469523623,\n",
              "   3078296189,\n",
              "   4115896700,\n",
              "   1375531231,\n",
              "   446060868,\n",
              "   1285067948,\n",
              "   2613967911,\n",
              "   1978265371,\n",
              "   459403300,\n",
              "   2861539032,\n",
              "   3159608261,\n",
              "   3474310692,\n",
              "   499326825])]"
            ]
          },
          "execution_count": 78,
          "metadata": {},
          "output_type": "execute_result"
        }
      ],
      "source": [
        "bandMx = (minHashSignMx #                              # (doc, h_hash) , shingle\n",
        "          .map(band_expand) # map each hash to band    # (doc, band) , (h_hash , shingle) \n",
        "          .groupByKey().mapValues(list) # group        # (doc, band) , [(h_hash , shingle), (h_hash , shingle), ... ]\n",
        "          .mapValues(lambda a : sorted(a, key=lambda x: x[0])) # as above, but sorted\n",
        "          .mapValues(lambda a : [v for _, v in a] ) # drop `h_hash` # (doc, band) , [shingle, shingle, ...]\n",
        ")\n",
        "\n",
        "bandMx.take(7)"
      ]
    },
    {
      "cell_type": "code",
      "execution_count": null,
      "metadata": {},
      "outputs": [],
      "source": [
        "def band_reduce(x):\n",
        "  (doc, band), a = x\n",
        "  return ((hash(tuple(a)), band), doc) # hashing / bucketing shingle list"
      ]
    },
    {
      "cell_type": "code",
      "execution_count": 79,
      "metadata": {
        "id": "3_XTgeXSHoON"
      },
      "outputs": [],
      "source": [
        "bandBuckets = (bandMx # (doc, band) , [shingle, shingle, ...]\n",
        "    .map(band_reduce) # (sh_lst_hash, band), doc\n",
        "    .groupByKey()\n",
        "    .mapValues(list)  # (sh_lst_hash, band), [doc, doc, ...]\n",
        ")"
      ]
    },
    {
      "cell_type": "code",
      "execution_count": 80,
      "metadata": {
        "colab": {
          "base_uri": "https://localhost:8080/"
        },
        "id": "12MxsRNpz8wJ",
        "outputId": "6c8b8afe-ce70-4af3-9da3-18c3e2644653"
      },
      "outputs": [
        {
          "data": {
            "text/plain": [
              "[((-4424218269515868677, 10), [1640, 4426]),\n",
              " ((1488581101982547862, 10), [2950, 3204]),\n",
              " ((-6684715038001079823, 1), [6549, 8349]),\n",
              " ((2292679500768926280, 4), [9478, 14009]),\n",
              " ((5094125652322457331, 7), [15865, 19888]),\n",
              " ((-7731442979876610255, 4), [16102, 27331]),\n",
              " ((3882246829740074603, 10), [27812, 29099])]"
            ]
          },
          "execution_count": 80,
          "metadata": {},
          "output_type": "execute_result"
        }
      ],
      "source": [
        "lst = bandBuckets.filter(lambda x: len(x[1]) > 1).collect()\n",
        "\n",
        "lst[:7]"
      ]
    },
    {
      "cell_type": "markdown",
      "metadata": {
        "id": "6cbo7GVrXyj9"
      },
      "source": [
        "## results"
      ]
    },
    {
      "cell_type": "code",
      "execution_count": 81,
      "metadata": {
        "id": "Dzl25ZjYMqkP"
      },
      "outputs": [],
      "source": [
        "adj_lst = {\n",
        "    tuple(sorted([v[i], v[j]]))\n",
        "    for k, v in lst\n",
        "    for i in range(len(v) - 1)\n",
        "    for j in range(i + 1, len(v))\n",
        "}"
      ]
    },
    {
      "cell_type": "code",
      "execution_count": 82,
      "metadata": {
        "id": "lzqVoTjRN7HR"
      },
      "outputs": [],
      "source": [
        "import networkx as nx"
      ]
    },
    {
      "cell_type": "code",
      "execution_count": 83,
      "metadata": {
        "id": "LZA4gRrAXyj-"
      },
      "outputs": [],
      "source": [
        "G = nx.Graph()\n",
        "G.add_edges_from(adj_lst)\n",
        "canditates = [cc for cc in nx.connected_components(G) if len(cc) > 1]"
      ]
    },
    {
      "cell_type": "code",
      "execution_count": 84,
      "metadata": {
        "colab": {
          "base_uri": "https://localhost:8080/"
        },
        "id": "GRNGvYx7XVIZ",
        "outputId": "658c1679-4f04-49c0-f1a6-413c06401ccb"
      },
      "outputs": [
        {
          "data": {
            "text/plain": [
              "35"
            ]
          },
          "execution_count": 84,
          "metadata": {},
          "output_type": "execute_result"
        }
      ],
      "source": [
        "len(canditates)"
      ]
    },
    {
      "cell_type": "code",
      "execution_count": 86,
      "metadata": {
        "colab": {
          "base_uri": "https://localhost:8080/"
        },
        "id": "SbaLIYSw-rK2",
        "outputId": "70891fea-3d8b-4eff-873a-cb8d3c713944"
      },
      "outputs": [
        {
          "name": "stdout",
          "output_type": "stream",
          "text": [
            "@POTUS Liberation of the territories of #Ukraine🥹 People meet Ukrainian soldiers. \n",
            "For info: \"oladyi\" is kind of local \"pancakes\" 🤗\n",
            "#Balakliia #UkraineWillWin https://t.co/H0POVs52qs\n",
            "---------------\n",
            "Liberation of the territories of #Ukraine.  People meet Ukrainian soldiers. \n",
            "For info: \"oladyi\" is kind of local \"pancakes\"\n",
            "#Balakliia #UkraineWillWin https://t.co/48sTn3lMLQ\n",
            "---------------\n",
            "___________________________________________________________________________________________\n",
            "Glory to Ukraine and its soldiers 🇺🇦\n",
            "\n",
            "Death to enemies🔥\n",
            "\n",
            "#UkrainianArmy #Ukraine https://t.co/mFfh7VoW5f\n",
            "---------------\n",
            "Glory to Ukraine and its soldiers 🇺🇦\n",
            "\n",
            "Death to enemies🔥\n",
            "#UkraineRussiaWar #Ukraine #SlavaUkraïni https://t.co/O4raJcVISo\n",
            "---------------\n",
            "___________________________________________________________________________________________\n",
            "@ResistersUniteX @MTHRGODDESS @Wipapa5 @QuinnLeone4 @ticdanurse @dmillerwats @calcara_tina @GratefulJjd @Dalocoengineer @RoxineKing @MahtogLv @billybreaux13 @LorraineJDion @subk1977 @jefffarias @amFUNtes @Gspirithorse @Terypat @VernaHe62791816 @Mary1Kathy @LoveMyKiaraM 😷Donald Trump has admired Putin for a long time. Rudy Giuliani said of Putin, “That’s what you call a leader.”\n",
            "  🌊#Putin’s forces were driven into a panicked retreat, leaving behind large amounts of equipment and supplies that Ukrainian forces can use.🇺🇦\n",
            "https://t.co/u1EMaBf7WN\n",
            "---------------\n",
            "@PaulDereume @vegix @Bec_yeg @kenya282 @SMHeath1 @JMottier16 @sonkevllen @Kristinafh9 @soose66ny @thing_just1 @xinemahon @50Colleen2 @RebBrooks1 @ResisterChic @kristinresistin @WaysideLeslie @QuippieChick @SARA2001NOOR 😷Donald Trump has admired Putin for a long time. Rudy Giuliani said of Putin, “That’s what you call a leader.”\n",
            "🇺🇦#Putin’s forces were driven into a panicked retreat, leaving behind large amounts of equipment and supplies that Ukrainian forces can use.🌊\n",
            "https://t.co/u1EMaBf7WN\n",
            "---------------\n",
            "___________________________________________________________________________________________\n",
            "Ukraine\n",
            "\n",
            " #russia|n #WarCrimes https://t.co/fo2jBTYzbx\n",
            "---------------\n",
            "#BREAKING: UKraine\n",
            "\n",
            "#Ukraina #ukrainecounteroffensive #UkrainianArmy #Ukrainian #Ukraine️ #UkraineUnderAttack #ukraineinvasion #UkraineWarNews #UkrainianCounteroffensive #Ukrainians #UkraineArmy #RussianArmy #Russia #Russians #RussianUkrainianWar #RussiaUkraineConflict https://t.co/fUnFWaFMRY\n",
            "---------------\n",
            "___________________________________________________________________________________________\n",
            "@letheisslow The world has to provide Ukraine with ALL necessary weapons to WIN the war #StandWithUkraine #russiaisanazistate #ArmUkraineNow #ATACMSForUkraine #F16ForUkraine #A10ForUkraine #UkrainianHeroes #SlavaUkraini 🇺🇦\n",
            "---------------\n",
            "@visegrad24 @Dads_Army_UKF @GLandsbergis Exactly!! The world has to provide Ukraine with ALL necessary weapons to WIN the war #StandWithUkraine #ArmUkraineNow #AbramsForUkraine #ATACMSForUkraine #F16ForUkraine #A10ForUkraine #UkrainianHeroes #SlavaUkraini 🇺🇦\n",
            "---------------\n",
            "___________________________________________________________________________________________\n",
            "SHOCKING MOMENT: RUSSIAN SOLDIERS ABANDON ALLY HIT BY UKRAINIAN STRIKE DRONE \n",
            "RUSSIA-UKRAINE NATO WAR LATEST NEWS\n",
            "#Russia #Ukraine #RussianArmy #NATO #Russian #RussiaUkraineWar #UkraineRussiaWar #UkraineRussianWar #UkraineWar #Ukrainian \n",
            "https://t.co/mMwA4oHCGG\n",
            "---------------\n",
            "SHOCKING MOMENT: RUSSIAN SOLDIERS ABANDON ALLY HIT BY UKRAINIAN STRIKE DRONE \n",
            "RUSSIA-UKRAINE NATO WAR LATEST NEWS, 2022 \n",
            "#Russians #Ukraine️ #Russia #NATO #UkraineRussiaWar #RussianArmy #Russian #UkraineRussianWar #RussiaUkraineWar #UkraineWar \n",
            "https://t.co/mMwA4oH4R8\n",
            "---------------\n",
            "SHOCKING MOMENT: RUSSIAN SOLDIERS ABANDON ALLY HIT BY UKRAINIAN STRIKE DRONE \n",
            "RUSSIA-UKRAINE NATO WAR LATEST NEWS, 2022 \n",
            "#Russia #Ukraine #RussianArmy #NATO #Russian #RussiaUkraineWar #UkraineRussiaWar #UkraineRussianWar #UkraineWar \n",
            "https://t.co/mMwA4oH4R8\n",
            "---------------\n",
            "___________________________________________________________________________________________\n",
            "1️⃣9️⃣3️⃣ days of full-scale #Russia’s war on #Ukraine.\n",
            "\n",
            "Information on #Russian invasion.\n",
            "Losses of the Russian armed forces in Ukraine, September 4. https://t.co/9WNE3RuwcZ\n",
            "---------------\n",
            "1️⃣9️⃣6️⃣ days of full-scale #Russia’s war on #Ukraine.\n",
            "\n",
            "Information on #Russian invasion.\n",
            "Losses of the Russian armed forces in Ukraine, September 7. https://t.co/QQCZQxFtOB\n",
            "---------------\n",
            "2️⃣0️⃣0️⃣ days of full-scale #russia’s war on #Ukraine.\n",
            "Information on #russian invasion.\n",
            "Losses of the russian armed forces in Ukraine, September 11. https://t.co/fFRhiFBINh\n",
            "---------------\n",
            "___________________________________________________________________________________________\n"
          ]
        }
      ],
      "source": [
        "for v in random.sample(canditates, 7):\n",
        "  for i in v:\n",
        "    print(dl[i])\n",
        "    print('---------------')\n",
        "  print('___________________________________________________________________________________________')"
      ]
    },
    {
      "cell_type": "code",
      "execution_count": 85,
      "metadata": {
        "id": "gn0HGjWC-zX5"
      },
      "outputs": [],
      "source": []
    }
  ],
  "metadata": {
    "colab": {
      "include_colab_link": true,
      "name": "ukraine.ipynb",
      "provenance": []
    },
    "gpuClass": "standard",
    "kernelspec": {
      "display_name": "Python 3.10.2 ('venv': venv)",
      "language": "python",
      "name": "python3"
    },
    "language_info": {
      "codemirror_mode": {
        "name": "ipython",
        "version": 3
      },
      "file_extension": ".py",
      "mimetype": "text/x-python",
      "name": "python",
      "nbconvert_exporter": "python",
      "pygments_lexer": "ipython3",
      "version": "3.10.2"
    },
    "orig_nbformat": 4,
    "vscode": {
      "interpreter": {
        "hash": "6cb79c56556105f70b816d0fc1c0ed9aa393ed0bd100d1447e7250787036fb4a"
      }
    }
  },
  "nbformat": 4,
  "nbformat_minor": 0
}
