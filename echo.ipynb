{
  "cells": [
    {
      "cell_type": "markdown",
      "metadata": {
        "id": "view-in-github",
        "colab_type": "text"
      },
      "source": [
        "<a href=\"https://colab.research.google.com/github/ranieri-unimi/echo-malchiodi-2022/blob/main/echo.ipynb\" target=\"_parent\"><img src=\"https://colab.research.google.com/assets/colab-badge.svg\" alt=\"Open In Colab\"/></a>"
      ]
    },
    {
      "cell_type": "code",
      "execution_count": 163,
      "metadata": {
        "id": "7mH3gc9TWKCM"
      },
      "outputs": [],
      "source": [
        "import os\n",
        "\n",
        "os.environ[\"KAGGLE_USERNAME\"] = \"ranieriunimi\"\n",
        "os.environ[\"KAGGLE_KEY\"] = str(hex(232307088475198570779809482024044346960))[2:]"
      ]
    },
    {
      "cell_type": "code",
      "execution_count": 164,
      "metadata": {
        "colab": {
          "base_uri": "https://localhost:8080/"
        },
        "id": "ngXoXE4KWKCN",
        "outputId": "5cddf7a2-045d-423c-a23c-a72798f2d554"
      },
      "outputs": [
        {
          "output_type": "stream",
          "name": "stdout",
          "text": [
            "Downloading ukraine-russian-crisis-twitter-dataset-1-2-m-rows.zip to .\n",
            "100% 12.6G/12.6G [01:20<00:00, 239MB/s]\n",
            "100% 12.6G/12.6G [01:20<00:00, 169MB/s]\n"
          ]
        }
      ],
      "source": [
        "ref = \"bwandowando/ukraine-russian-crisis-twitter-dataset-1-2-m-rows\"\n",
        "\n",
        "!kaggle datasets download $ref --unzip -p ."
      ]
    },
    {
      "cell_type": "code",
      "execution_count": 165,
      "metadata": {
        "colab": {
          "base_uri": "https://localhost:8080/"
        },
        "id": "2uhwYor6WVuT",
        "outputId": "25478d53-2933-41d5-f098-8606bfa7eaf7"
      },
      "outputs": [
        {
          "output_type": "stream",
          "name": "stdout",
          "text": [
            "Looking in indexes: https://pypi.org/simple, https://us-python.pkg.dev/colab-wheels/public/simple/\n",
            "Requirement already satisfied: pyspark in /usr/local/lib/python3.7/dist-packages (3.3.1)\n",
            "Requirement already satisfied: py4j==0.10.9.5 in /usr/local/lib/python3.7/dist-packages (from pyspark) (0.10.9.5)\n",
            "Looking in indexes: https://pypi.org/simple, https://us-python.pkg.dev/colab-wheels/public/simple/\n",
            "Requirement already satisfied: findspark in /usr/local/lib/python3.7/dist-packages (2.0.1)\n"
          ]
        }
      ],
      "source": [
        "!pip install pyspark\n",
        "!pip install findspark"
      ]
    },
    {
      "cell_type": "code",
      "execution_count": 166,
      "metadata": {
        "id": "fQNZM77zauIw"
      },
      "outputs": [],
      "source": [
        "import pyspark\n",
        "import findspark"
      ]
    },
    {
      "cell_type": "code",
      "execution_count": 167,
      "metadata": {
        "id": "sqGrV6XdWKCI"
      },
      "outputs": [],
      "source": [
        "import numpy as np\n",
        "import pandas as pd\n",
        "import csv\n",
        "import re\n",
        "import string\n",
        "import random"
      ]
    },
    {
      "cell_type": "markdown",
      "metadata": {
        "id": "oAR7LusA5ZOK"
      },
      "source": [
        "# echo"
      ]
    },
    {
      "cell_type": "markdown",
      "metadata": {
        "id": "cuVNl3dFbedu"
      },
      "source": [
        "set a number cap of tweets (0 to skip)"
      ]
    },
    {
      "cell_type": "code",
      "execution_count": 168,
      "metadata": {
        "id": "c1FjJN8F6ejg"
      },
      "outputs": [],
      "source": [
        "SAMPLE_SIZE = 0 * 1000"
      ]
    },
    {
      "cell_type": "markdown",
      "metadata": {
        "id": "REaNAuF2WKCS"
      },
      "source": [
        "hadoop instance"
      ]
    },
    {
      "cell_type": "code",
      "execution_count": 169,
      "metadata": {
        "id": "NrOTb9eEWSpB"
      },
      "outputs": [],
      "source": [
        "from pyspark.sql import SparkSession"
      ]
    },
    {
      "cell_type": "code",
      "execution_count": 170,
      "metadata": {
        "id": "1gMPGu1YWKCS"
      },
      "outputs": [],
      "source": [
        "spark = SparkSession.builder.master(\"local[*]\").getOrCreate()\n",
        "sc = spark.sparkContext"
      ]
    },
    {
      "cell_type": "markdown",
      "metadata": {
        "id": "epsbJzfebnMd"
      },
      "source": [
        "load the dataset"
      ]
    },
    {
      "cell_type": "code",
      "execution_count": 171,
      "metadata": {
        "id": "v_QSaRR7dP2r"
      },
      "outputs": [],
      "source": [
        "csv_list = [\n",
        "    os.path.join(dirname, filename)\n",
        "    for dirname, _, filenames in os.walk(\".\")\n",
        "    for filename in filenames\n",
        "    if filename.startswith(\"09\")  # only September\n",
        "]"
      ]
    },
    {
      "cell_type": "code",
      "execution_count": 172,
      "metadata": {
        "id": "ZnVVxauQdY4-"
      },
      "outputs": [],
      "source": [
        "df_list = [\n",
        "    pd.read_csv(\n",
        "        csv_file,\n",
        "        engine='python',\n",
        "        compression='gzip',\n",
        "        encoding='utf-8',\n",
        "        quoting=csv.QUOTE_ALL,\n",
        "        usecols=lambda x: x in [\"text\",\"language\",\"tweetid\"]\n",
        "        )\n",
        "    for csv_file in csv_list\n",
        "]"
      ]
    },
    {
      "cell_type": "code",
      "execution_count": 173,
      "metadata": {
        "id": "2HmiSsm4dqqD"
      },
      "outputs": [],
      "source": [
        "df = (pd\n",
        "      .concat(df_list, axis=0)\n",
        "      .reset_index(drop=True)\n",
        "      .drop_duplicates([\"tweetid\"], keep='last')\n",
        "      )"
      ]
    },
    {
      "cell_type": "code",
      "execution_count": 174,
      "metadata": {
        "id": "B4CKSaCqAqIw"
      },
      "outputs": [],
      "source": [
        "del df_list"
      ]
    },
    {
      "cell_type": "code",
      "execution_count": 175,
      "metadata": {
        "id": "_frlylt5WKCP"
      },
      "outputs": [],
      "source": [
        "df = df[df.language == \"en\"]"
      ]
    },
    {
      "cell_type": "code",
      "execution_count": 176,
      "metadata": {
        "id": "FCWDtxA26udo"
      },
      "outputs": [],
      "source": [
        "dl = df.text.tolist()\n",
        "dl = random.sample(dl, SAMPLE_SIZE) if SAMPLE_SIZE else dl"
      ]
    },
    {
      "cell_type": "code",
      "execution_count": 177,
      "metadata": {
        "colab": {
          "base_uri": "https://localhost:8080/"
        },
        "id": "iUkPp6uoa0O4",
        "outputId": "8fdf812b-162b-462f-a345-7999f6c1cc7a"
      },
      "outputs": [
        {
          "output_type": "execute_result",
          "data": {
            "text/plain": [
              "[(0,\n",
              "  'HIMARS work on 🇷🇺base in #Kupyansk/ east #Kharkiv https://t.co/6v9vEZU3MT'),\n",
              " (1,\n",
              "  '@DarthPutinKGB Funny how that is! 🧐\\n#UkraineWillWin\\n#SlavaUkraïni\\n#StandUpForUkraine\\n#UkraineEU\\n#ArmUkraineNow\\n#RussiaIsLosing\\n#russianinvasionofukraine\\n#RussianWarCrimesInUkraine\\n#RussianWarCriminals\\n🛑#RussiaStateSponsorOfTerrorism\\n#RussiaIsATerroristState\\n🆘 #StopRussianAggression 🆘'),\n",
              " (2,\n",
              "  'The #XiJinping Thought that has emerged as the guiding ideology to lead #China down the path of national rejuvenation exemplifies the ideology-authority relationship, states @am_i_t_kumar https://t.co/RqThnKSl6G'),\n",
              " (3,\n",
              "  '@UNHumanRights says 38,000 🇺🇦children forcibly deported to 🇷🇺/ occupied territories…\\n\\nSTOP #Putin, NOW! ❌🚫 \\n\\n#RussiaUkraineWar #UkraineWillWin https://t.co/xyRtFn4WoP'),\n",
              " (4,\n",
              "  '@EwanMacKenna @TheMiloExp @Goldfinger180 We are here to denazify this region and annex it. A referendum has already shown that 100% of the population agreed to join NAFO. \\n#ArmUkraineNow #NAFOexpansion https://t.co/yNrp8wdG13'),\n",
              " (5,\n",
              "  '🍀🍓“Rabbit in a strawberry” is an original oil painting on canvas\\n, available &gt;&gt;&gt; https://t.co/xbigXWUzTP\\n\\n🎨 Thank you for being interested in and buying Ukrainian art, you support Ukrainian culture and the identity of the Ukrainian people.\\n\\n#art #painting #Ukraine  #Animals https://t.co/REGPkYTymX'),\n",
              " (6,\n",
              "  'The Biden Regime Invites The Invasion Of Our Country #biden #covid #energy #hunterbiden #immigration #laptop #msm https://t.co/w653BvZQ4x')]"
            ]
          },
          "metadata": {},
          "execution_count": 177
        }
      ],
      "source": [
        "rdd = sc.parallelize(enumerate(dl))\n",
        "\n",
        "rdd.take(7)"
      ]
    },
    {
      "cell_type": "markdown",
      "metadata": {
        "id": "i3RapMVFenPc"
      },
      "source": [
        "## data cleaning"
      ]
    },
    {
      "cell_type": "code",
      "execution_count": 178,
      "metadata": {
        "id": "5i9KWOCjWKCR"
      },
      "outputs": [],
      "source": [
        "def preprocess_tweet_text(tweet):\n",
        "\n",
        "    # opt for a case insensite analysis\n",
        "    tweet = tweet.lower()\n",
        "\n",
        "    # remove URLs\n",
        "    tweet = re.sub(r\"http\\S+|www\\S+|https\\S+\", \"\", tweet, flags=re.MULTILINE)\n",
        "\n",
        "    # remove #hastags and @mentions\n",
        "    tweet = re.sub(\"@[A-Za-z0-9_]+\",\"\", tweet)\n",
        "    tweet = re.sub(\"#[A-Za-z0-9_]+\",\"\", tweet)\n",
        "\n",
        "    # translate puntctuation to spaces\n",
        "    tweet = tweet.translate(\n",
        "        str.maketrans(string.punctuation + \"…’”“‘\", \" \" * (len(string.punctuation) + 5))\n",
        "    )\n",
        "\n",
        "    # remove extra spaces\n",
        "    tweet = \" \".join(tweet.strip().split())\n",
        "\n",
        "    return tweet"
      ]
    },
    {
      "cell_type": "code",
      "execution_count": 179,
      "metadata": {
        "id": "X7ncVMmc_sI6"
      },
      "outputs": [],
      "source": [
        "def shift_key_value(x):\n",
        "    return (x[-1], x[0])"
      ]
    },
    {
      "cell_type": "code",
      "execution_count": 180,
      "metadata": {
        "colab": {
          "base_uri": "https://localhost:8080/"
        },
        "id": "6FwCMGxhcb4K",
        "outputId": "d725aee2-f9de-4eeb-9598-0aebac447ff3"
      },
      "outputs": [
        {
          "output_type": "execute_result",
          "data": {
            "text/plain": [
              "[(31, 'freeland has ukrainian roots her mother halyna khomiak is by origin'),\n",
              " (61,\n",
              "  'with the international spotlight on the ukrainian crisis we are doing our part to highlight the arts produced by the former soviet country'),\n",
              " (125,\n",
              "  'st petersburg local councilors call for putin to be tried for treason the new voice of ukraine'),\n",
              " (135,\n",
              "  'biggest propaganda lie ever but these people want to join russia just watch a liberation video and see how tight the babushkas hug ukrainian soldiers oh wait i forgot they re propaganda videos'),\n",
              " (140,\n",
              "  'in 2014 russians first attacked later did a voting amp 97 vote was given for staying with that time also gave nuclear threat or i will say they did the same what they doing now so voting will be done in eastern ukraine amp result will decide'),\n",
              " (165,\n",
              "  'i really hope ukraine will get all its citizens back who were abducted by russia 😢🇺🇦🌻 maybe exchange them for pows the damage done to a beautiful country cannot be forgiven ïni 💖'),\n",
              " (168,\n",
              "  'article link everything you wanted to know about state sponsor of terrorism status please follow us to help the people of ukraine')]"
            ]
          },
          "metadata": {},
          "execution_count": 180
        }
      ],
      "source": [
        "dataPipe = (\n",
        "    rdd\n",
        "    #    clean tweets\n",
        "    .mapValues(preprocess_tweet_text)\n",
        "    #    remove duplicates\n",
        "    .map(shift_key_value)\n",
        "    .reduceByKey(min)\n",
        "    .map(shift_key_value)\n",
        "    # nvm\n",
        "    .filter(lambda x : 'ukrain' in x[-1])\n",
        ")\n",
        "\n",
        "dataPipe.take(7)"
      ]
    },
    {
      "cell_type": "markdown",
      "metadata": {
        "id": "aEl3HXq_t3BN"
      },
      "source": [
        "## shingles"
      ]
    },
    {
      "cell_type": "code",
      "execution_count": 182,
      "metadata": {
        "id": "Kd6TFHOnzwH5"
      },
      "outputs": [],
      "source": [
        "SH_LEN = 5"
      ]
    },
    {
      "cell_type": "code",
      "execution_count": 183,
      "metadata": {
        "colab": {
          "base_uri": "https://localhost:8080/"
        },
        "id": "bIpn4oQ1ciK6",
        "outputId": "0fd763d6-efdc-453e-f80d-c5ae0775813f"
      },
      "outputs": [
        {
          "output_type": "execute_result",
          "data": {
            "text/plain": [
              "[(31, 'reela'),\n",
              " (31, 'd has'),\n",
              " (31, ' has '),\n",
              " (31, 'as uk'),\n",
              " (31, ' ukra'),\n",
              " (31, 'raini'),\n",
              " (31, 'an ro')]"
            ]
          },
          "metadata": {},
          "execution_count": 183
        }
      ],
      "source": [
        "shigles = dataPipe.flatMap(\n",
        "    # use a `SH_LEN` sliding window and list all shingles from each tweet `x`\n",
        "    lambda x: [(x[0], x[-1][i : i + SH_LEN]) for i in range(len(x[-1]) - SH_LEN)]\n",
        ").distinct()\n",
        "\n",
        "shigles.take(7)"
      ]
    },
    {
      "cell_type": "code",
      "execution_count": 184,
      "metadata": {
        "id": "sYUS1RzSpJeA"
      },
      "outputs": [],
      "source": [
        "import binascii"
      ]
    },
    {
      "cell_type": "code",
      "execution_count": 185,
      "metadata": {
        "id": "x_K47yb2hhxW"
      },
      "outputs": [],
      "source": [
        "def hash_value(v):\n",
        "    b = bytes(v, \"utf-8\") # from string to bytes\n",
        "    h = binascii.crc32(b) # hashing to 4 bytes\n",
        "    return h"
      ]
    },
    {
      "cell_type": "code",
      "execution_count": 186,
      "metadata": {
        "colab": {
          "base_uri": "https://localhost:8080/"
        },
        "id": "Lriu-tTsc3FG",
        "outputId": "a7f6e45a-4cd8-4e88-9537-c5ecd4fd9825"
      },
      "outputs": [
        {
          "output_type": "execute_result",
          "data": {
            "text/plain": [
              "[(31, 4096343853),\n",
              " (31, 2400758815),\n",
              " (31, 2879378705),\n",
              " (31, 1103104141),\n",
              " (31, 3531684517),\n",
              " (31, 3108453259),\n",
              " (31, 1553554569)]"
            ]
          },
          "metadata": {},
          "execution_count": 186
        }
      ],
      "source": [
        "charactMx = shigles.mapValues(hash_value).distinct()\n",
        "\n",
        "charactMx.take(7)"
      ]
    },
    {
      "cell_type": "markdown",
      "metadata": {
        "id": "Cml_wQ0DO28d"
      },
      "source": [
        "## MinHashing"
      ]
    },
    {
      "cell_type": "code",
      "execution_count": 187,
      "metadata": {
        "id": "LT3TGML3simt"
      },
      "outputs": [],
      "source": [
        "def RN(stop, start=1):\n",
        "    \"\"\"\n",
        "        simple alias for random.randrange\n",
        "        but `start` is set to 1 by default\n",
        "    \"\"\"\n",
        "    return random.randrange(start, stop)\n",
        "\n",
        "\n",
        "def RB(B=4):\n",
        "    \"\"\"\n",
        "        Generate a odd number smaller than `B` bytes\n",
        "    \"\"\"\n",
        "    return RN(2 ** (8 * B - 1), 0) * 2 + 1\n",
        "\n",
        "\n",
        "def PF(x, scale, shift, base):\n",
        "    \"\"\"\n",
        "        Permutation Function:\n",
        "        Permute `x` by given parameters\n",
        "    \"\"\"\n",
        "    return (scale * x + shift) % base\n"
      ]
    },
    {
      "cell_type": "code",
      "execution_count": 188,
      "metadata": {
        "colab": {
          "base_uri": "https://localhost:8080/"
        },
        "id": "1PH-NSL2JB7q",
        "outputId": "e7363247-4b9a-4834-d339-ff8b38e5d982"
      },
      "outputs": [
        {
          "output_type": "execute_result",
          "data": {
            "text/plain": [
              "0.7799771419043033"
            ]
          },
          "metadata": {},
          "execution_count": 188
        }
      ],
      "source": [
        "n_permfoo, b_bands = 120, 12\n",
        "\n",
        "# approximation of similarity threshold\n",
        "THRESHOLD = (1 / b_bands) ** (1 / (n_permfoo // b_bands)) \n",
        "THRESHOLD"
      ]
    },
    {
      "cell_type": "code",
      "execution_count": 189,
      "metadata": {
        "colab": {
          "base_uri": "https://localhost:8080/"
        },
        "id": "9KTeytyy49L2",
        "outputId": "74b30051-f6c4-45f3-88a9-e564133e75fb"
      },
      "outputs": [
        {
          "output_type": "execute_result",
          "data": {
            "text/plain": [
              "[{'shift': 2109066455, 'scale': 3466147859, 'base': 4294967296},\n",
              " {'shift': 3254629851, 'scale': 1536077513, 'base': 4294967296},\n",
              " {'shift': 1309449615, 'scale': 1248170303, 'base': 4294967296},\n",
              " {'shift': 4063276759, 'scale': 3436356535, 'base': 4294967296},\n",
              " {'shift': 3084788331, 'scale': 2348595653, 'base': 4294967296},\n",
              " {'shift': 3757424555, 'scale': 2861559543, 'base': 4294967296},\n",
              " {'shift': 1341591263, 'scale': 100297629, 'base': 4294967296}]"
            ]
          },
          "metadata": {},
          "execution_count": 189
        }
      ],
      "source": [
        "params = [ \n",
        "    {\"shift\": RB(), \"scale\": RB(), \"base\": 2 ** (8 * 4)}\n",
        "    for _ in range(n_permfoo)\n",
        "    # list of 120 linear congruential generators\n",
        "]\n",
        "\n",
        "params[:7]"
      ]
    },
    {
      "cell_type": "code",
      "execution_count": 190,
      "metadata": {
        "id": "rU2c-Bt6mHi-"
      },
      "outputs": [],
      "source": [
        "def multi_enum(x):\n",
        "    doc, shingle = x\n",
        "    return [((doc, h), (shingle, h)) for h in range(n_permfoo)]\n",
        "    # enumerate 120 times each key-value pair, for future computations"
      ]
    },
    {
      "cell_type": "code",
      "execution_count": 191,
      "metadata": {
        "colab": {
          "base_uri": "https://localhost:8080/"
        },
        "id": "lt-9O9HGd2Uy",
        "outputId": "1732a847-fec3-406b-d45c-96a9a379b027"
      },
      "outputs": [
        {
          "output_type": "execute_result",
          "data": {
            "text/plain": [
              "[((31, 1), 1472470462),\n",
              " ((31, 3), 1320991662),\n",
              " ((31, 5), 789266766),\n",
              " ((31, 7), 1553554569),\n",
              " ((31, 9), 3201754352),\n",
              " ((31, 11), 2233347650),\n",
              " ((31, 13), 80402308)]"
            ]
          },
          "metadata": {},
          "execution_count": 191
        }
      ],
      "source": [
        "minHashSignMx = (\n",
        "    charactMx.flatMap(multi_enum)\n",
        "    .reduceByKey(\n",
        "        lambda a, b: a if PF(a[0], **params[a[-1]]) < PF(b[0], **params[a[-1]]) else b\n",
        "        # permute `PF` both `a` and `b`, and keep the one which return the smallest output\n",
        "    )\n",
        "    .mapValues(lambda v: v[0])\n",
        "    # drop enumeration\n",
        ")\n",
        "\n",
        "minHashSignMx.take(7)\n",
        "# (doc, h) , shingle"
      ]
    },
    {
      "cell_type": "markdown",
      "metadata": {
        "id": "7Co_sAauPB29"
      },
      "source": [
        "## LSH"
      ]
    },
    {
      "cell_type": "code",
      "execution_count": 192,
      "metadata": {
        "id": "5xL6VFo_Wil-"
      },
      "outputs": [],
      "source": [
        "scale, shift = RN(b_bands), RN(b_bands)\n",
        "bandmap = lambda x: PF(x, scale, shift, b_bands)"
      ]
    },
    {
      "cell_type": "code",
      "execution_count": 193,
      "metadata": {
        "id": "ZQ4H_GDeQmw3"
      },
      "outputs": [],
      "source": [
        "def band_expand(x):\n",
        "  (doc, h), shingle = x\n",
        "  # map each hash to band\n",
        "  return ((doc, bandmap(h)), (h, shingle))"
      ]
    },
    {
      "cell_type": "code",
      "execution_count": 194,
      "metadata": {
        "colab": {
          "base_uri": "https://localhost:8080/"
        },
        "id": "xTDLgH0hHnoP",
        "outputId": "46119ce4-15d0-4846-cc32-534b616e7f9b"
      },
      "outputs": [
        {
          "output_type": "execute_result",
          "data": {
            "text/plain": [
              "[((31, 9),\n",
              "  [1472470462,\n",
              "   80402308,\n",
              "   942135126,\n",
              "   403932167,\n",
              "   3902633571,\n",
              "   888318936,\n",
              "   558010959,\n",
              "   3646436640,\n",
              "   4142514041,\n",
              "   3886134158]),\n",
              " ((31, 7),\n",
              "  [1320991662,\n",
              "   2660742065,\n",
              "   1168288677,\n",
              "   888318936,\n",
              "   2660742065,\n",
              "   403932167,\n",
              "   1674922228,\n",
              "   4119603910,\n",
              "   3093078239,\n",
              "   66365117]),\n",
              " ((31, 5),\n",
              "  [789266766,\n",
              "   262548719,\n",
              "   789266766,\n",
              "   1168288677,\n",
              "   1910779558,\n",
              "   3646436640,\n",
              "   366792667,\n",
              "   4179268022,\n",
              "   549095396,\n",
              "   2233347650]),\n",
              " ((31, 3),\n",
              "  [1553554569,\n",
              "   4025010422,\n",
              "   2305533283,\n",
              "   1103104141,\n",
              "   4096343853,\n",
              "   2087081998,\n",
              "   1910779558,\n",
              "   1640797558,\n",
              "   1413130087,\n",
              "   3902633571]),\n",
              " ((31, 1),\n",
              "  [3201754352,\n",
              "   3265328535,\n",
              "   2879378705,\n",
              "   515114468,\n",
              "   3531684517,\n",
              "   2087081998,\n",
              "   204025068,\n",
              "   4164850696,\n",
              "   4025010422,\n",
              "   2433365378]),\n",
              " ((31, 11),\n",
              "  [2233347650,\n",
              "   2602829441,\n",
              "   262548719,\n",
              "   810810974,\n",
              "   3265328535,\n",
              "   3902633571,\n",
              "   2305533283,\n",
              "   1358253009,\n",
              "   3093078239,\n",
              "   4190168915]),\n",
              " ((61, 9),\n",
              "  [1345723898,\n",
              "   2855797699,\n",
              "   2570633398,\n",
              "   403932167,\n",
              "   3371537546,\n",
              "   3617776464,\n",
              "   846585589,\n",
              "   3804947136,\n",
              "   1993911815,\n",
              "   284929611])]"
            ]
          },
          "metadata": {},
          "execution_count": 194
        }
      ],
      "source": [
        "bandMx = (minHashSignMx #                              # (doc, h_hash) , shingle\n",
        "          .map(band_expand) # map each hash to band    # (doc, band) , (h_hash , shingle) \n",
        "          .groupByKey().mapValues(list) # group        # (doc, band) , [(h_hash , shingle), (h_hash , shingle), ... ]\n",
        "          .mapValues(lambda a : sorted(a, key=lambda x: x[0])) # as above, but sorted\n",
        "          .mapValues(lambda a : [v for _, v in a] ) # drop `h_hash` # (doc, band) , [shingle, shingle, ...]\n",
        ")\n",
        "\n",
        "bandMx.take(7)"
      ]
    },
    {
      "cell_type": "code",
      "execution_count": 195,
      "metadata": {
        "id": "0n3BDfGYKS8O"
      },
      "outputs": [],
      "source": [
        "def band_reduce(x):\n",
        "  (doc, band), a = x\n",
        "  return ((hash(tuple(a)), band), doc) # hashing / bucketing shingle list"
      ]
    },
    {
      "cell_type": "code",
      "execution_count": 196,
      "metadata": {
        "id": "3_XTgeXSHoON"
      },
      "outputs": [],
      "source": [
        "bandBuckets = (bandMx # (doc, band) , [shingle, shingle, ...]\n",
        "    .map(band_reduce) # (sh_lst_hash, band), doc\n",
        "    .groupByKey()\n",
        "    .mapValues(list)  # (sh_lst_hash, band), [doc, doc, ...]\n",
        ")"
      ]
    },
    {
      "cell_type": "code",
      "execution_count": 197,
      "metadata": {
        "colab": {
          "base_uri": "https://localhost:8080/"
        },
        "id": "12MxsRNpz8wJ",
        "outputId": "a000995d-7f77-4813-9bae-c807a6311eb1"
      },
      "outputs": [
        {
          "output_type": "execute_result",
          "data": {
            "text/plain": [
              "[[339, 10136],\n",
              " [1352, 10164],\n",
              " [1583, 5294],\n",
              " [2593, 10577],\n",
              " [5536, 17124, 14215, 16969],\n",
              " [5536, 16298, 17124, 14215, 16969],\n",
              " [5536, 14215, 16969]]"
            ]
          },
          "metadata": {},
          "execution_count": 197
        }
      ],
      "source": [
        "bucketList = bandBuckets.filter(lambda x: len(x[1]) > 1).map(lambda x : x[-1])\n",
        "\n",
        "buckets = bucketList.collect()\n",
        "buckets[:7]"
      ]
    },
    {
      "cell_type": "markdown",
      "metadata": {
        "id": "6cbo7GVrXyj9"
      },
      "source": [
        "## jaccard"
      ]
    },
    {
      "cell_type": "markdown",
      "source": [
        "collision may occurred, jaccard similarity has been computed to discard spourious couples"
      ],
      "metadata": {
        "id": "nknpMTsSpX64"
      }
    },
    {
      "cell_type": "code",
      "source": [
        "def add(a,b) : return a+b"
      ],
      "metadata": {
        "id": "VX60BZjHZWyL"
      },
      "execution_count": 198,
      "outputs": []
    },
    {
      "cell_type": "code",
      "execution_count": 199,
      "metadata": {
        "id": "Dzl25ZjYMqkP"
      },
      "outputs": [],
      "source": [
        "adj_lst = {\n",
        "    tuple(sorted([b[i], b[j]]))\n",
        "    for b in buckets\n",
        "    for i in range(len(b) - 1)\n",
        "    for j in range(i + 1, len(b))\n",
        "}"
      ]
    },
    {
      "cell_type": "code",
      "source": [
        "merry_keys = set(bucketList.reduce(add))"
      ],
      "metadata": {
        "id": "wK4M3qHjfhu_"
      },
      "execution_count": 200,
      "outputs": []
    },
    {
      "cell_type": "code",
      "source": [
        "merry_shingles = shigles.filter(lambda x: x[0] in merry_keys).distinct()"
      ],
      "metadata": {
        "id": "vexuuQAyebQN"
      },
      "execution_count": 201,
      "outputs": []
    },
    {
      "cell_type": "code",
      "source": [
        "cardinalities = merry_shingles.countByKey()\n",
        "cardinalities"
      ],
      "metadata": {
        "colab": {
          "base_uri": "https://localhost:8080/"
        },
        "id": "4w8FBcOoh1A1",
        "outputId": "b3121bb2-a309-4328-f378-74dad7dce40b"
      },
      "execution_count": 202,
      "outputs": [
        {
          "output_type": "execute_result",
          "data": {
            "text/plain": [
              "defaultdict(int,\n",
              "            {339: 72,\n",
              "             1352: 75,\n",
              "             1583: 117,\n",
              "             2593: 41,\n",
              "             3342: 225,\n",
              "             4408: 108,\n",
              "             5437: 57,\n",
              "             5536: 100,\n",
              "             5876: 196,\n",
              "             6322: 103,\n",
              "             7219: 59,\n",
              "             7856: 72,\n",
              "             8403: 38,\n",
              "             8516: 233,\n",
              "             8769: 73,\n",
              "             9008: 54,\n",
              "             9253: 90,\n",
              "             10164: 73,\n",
              "             12097: 15,\n",
              "             13142: 224,\n",
              "             14024: 52,\n",
              "             16298: 105,\n",
              "             16897: 72,\n",
              "             16919: 35,\n",
              "             16976: 13,\n",
              "             17124: 102,\n",
              "             17378: 77,\n",
              "             18451: 210,\n",
              "             18687: 202,\n",
              "             18892: 72,\n",
              "             18925: 57,\n",
              "             19542: 172,\n",
              "             826: 78,\n",
              "             1774: 13,\n",
              "             2191: 212,\n",
              "             2213: 56,\n",
              "             2526: 77,\n",
              "             2817: 112,\n",
              "             3437: 41,\n",
              "             3501: 112,\n",
              "             3580: 61,\n",
              "             3706: 85,\n",
              "             3991: 60,\n",
              "             4272: 114,\n",
              "             5179: 211,\n",
              "             5267: 108,\n",
              "             5294: 111,\n",
              "             5307: 53,\n",
              "             5327: 69,\n",
              "             5460: 58,\n",
              "             5861: 32,\n",
              "             6298: 120,\n",
              "             6495: 98,\n",
              "             6817: 71,\n",
              "             6914: 17,\n",
              "             7296: 37,\n",
              "             7507: 15,\n",
              "             8434: 59,\n",
              "             9213: 73,\n",
              "             9585: 230,\n",
              "             9591: 40,\n",
              "             10136: 76,\n",
              "             10577: 50,\n",
              "             10690: 110,\n",
              "             11886: 43,\n",
              "             12049: 94,\n",
              "             12836: 51,\n",
              "             13293: 75,\n",
              "             14215: 99,\n",
              "             14792: 13,\n",
              "             16341: 113,\n",
              "             16660: 80,\n",
              "             16969: 96,\n",
              "             17665: 57,\n",
              "             17712: 90,\n",
              "             17827: 63,\n",
              "             17844: 171,\n",
              "             18541: 96,\n",
              "             19240: 201,\n",
              "             19802: 70})"
            ]
          },
          "metadata": {},
          "execution_count": 202
        }
      ]
    },
    {
      "cell_type": "code",
      "source": [
        "cardinality_of_intersections = (merry_shingles\n",
        "    .cartesian(merry_shingles) # all combos\n",
        "    .map(lambda x: ((x[0][0],x[1][0]) , (x[0][1], x[1][1])) ) # swap (k1,v1):(k2:v2) -> (k1,k2):(v1:v2)\n",
        "    .filter(lambda x : x[0] in adj_lst) # not all combos\n",
        "    .filter(lambda x : x[1][0] == x[1][1]) # intersected shingles\n",
        "    .countByKey()\n",
        ")\n",
        "cardinality_of_intersections"
      ],
      "metadata": {
        "colab": {
          "base_uri": "https://localhost:8080/"
        },
        "id": "rabXVzEriWD2",
        "outputId": "1d8daf6c-5fdd-459a-8887-23e27d844b94"
      },
      "execution_count": 203,
      "outputs": [
        {
          "output_type": "execute_result",
          "data": {
            "text/plain": [
              "defaultdict(int,\n",
              "            {(1352, 10164): 64,\n",
              "             (1583, 3501): 104,\n",
              "             (3342, 13142): 179,\n",
              "             (2593, 10577): 38,\n",
              "             (4408, 6322): 100,\n",
              "             (5536, 16298): 96,\n",
              "             (5536, 17124): 98,\n",
              "             (5437, 17665): 47,\n",
              "             (5876, 19240): 193,\n",
              "             (8769, 16897): 66,\n",
              "             (8769, 9213): 65,\n",
              "             (16298, 17124): 98,\n",
              "             (826, 3706): 78,\n",
              "             (2191, 18687): 200,\n",
              "             (2526, 19802): 70,\n",
              "             (2817, 16341): 108,\n",
              "             (3437, 9591): 40,\n",
              "             (3580, 8434): 55,\n",
              "             (3991, 5327): 60,\n",
              "             (5267, 9253): 90,\n",
              "             (5179, 18451): 193,\n",
              "             (5861, 16919): 32,\n",
              "             (9213, 16897): 67,\n",
              "             (16660, 17378): 72,\n",
              "             (17844, 19542): 161,\n",
              "             (4272, 6298): 106,\n",
              "             (5460, 12836): 46,\n",
              "             (6914, 14792): 13,\n",
              "             (12049, 18541): 90,\n",
              "             (14215, 16969): 96,\n",
              "             (339, 10136): 67,\n",
              "             (1352, 8769): 65,\n",
              "             (1352, 16897): 64,\n",
              "             (1352, 9213): 64,\n",
              "             (1583, 5294): 104,\n",
              "             (5536, 14215): 98,\n",
              "             (5536, 16969): 96,\n",
              "             (10164, 16897): 64,\n",
              "             (12097, 16976): 13,\n",
              "             (7219, 8434): 54,\n",
              "             (8516, 9585): 223,\n",
              "             (2213, 9008): 46,\n",
              "             (14024, 18925): 52,\n",
              "             (16298, 16969): 96,\n",
              "             (1774, 7507): 13,\n",
              "             (3437, 11886): 41,\n",
              "             (3501, 5294): 104,\n",
              "             (3580, 17827): 55,\n",
              "             (6817, 7856): 64,\n",
              "             (7296, 8403): 37,\n",
              "             (9213, 10164): 65,\n",
              "             (14215, 16298): 96,\n",
              "             (6817, 18892): 61,\n",
              "             (14215, 17124): 99,\n",
              "             (16969, 17124): 96,\n",
              "             (5307, 5460): 46,\n",
              "             (5307, 12836): 51,\n",
              "             (6495, 10690): 91,\n",
              "             (8434, 17827): 55,\n",
              "             (9591, 11886): 40,\n",
              "             (12049, 17712): 84,\n",
              "             (13293, 19802): 70,\n",
              "             (17712, 18541): 90})"
            ]
          },
          "metadata": {},
          "execution_count": 203
        }
      ]
    },
    {
      "cell_type": "code",
      "source": [
        "def jaccard(a, b):\n",
        "    intersection = cardinality_of_intersections[(a,b)]\n",
        "    union = cardinalities[a] + cardinalities[b] - intersection\n",
        "    return (intersection / union)"
      ],
      "metadata": {
        "id": "IiQTgOzhWmov"
      },
      "execution_count": 204,
      "outputs": []
    },
    {
      "cell_type": "code",
      "source": [
        "jaccard_dict = { (a,b):jaccard(a,b) for a, b in adj_lst}"
      ],
      "metadata": {
        "id": "I4hJ8TizWSwh"
      },
      "execution_count": 205,
      "outputs": []
    },
    {
      "cell_type": "markdown",
      "source": [
        "## results"
      ],
      "metadata": {
        "id": "Nkezj2Krz8kv"
      }
    },
    {
      "cell_type": "code",
      "execution_count": 206,
      "metadata": {
        "id": "lzqVoTjRN7HR"
      },
      "outputs": [],
      "source": [
        "import networkx as nx"
      ]
    },
    {
      "cell_type": "code",
      "execution_count": 207,
      "metadata": {
        "id": "LZA4gRrAXyj-"
      },
      "outputs": [],
      "source": [
        "G = nx.Graph()\n",
        "G.add_edges_from([ k for k, v in jaccard_dict.items() if v > THRESHOLD]) # filter out\n",
        "canditates = list(nx.connected_components(G)) # "
      ]
    },
    {
      "cell_type": "code",
      "execution_count": 218,
      "metadata": {
        "colab": {
          "base_uri": "https://localhost:8080/"
        },
        "id": "SbaLIYSw-rK2",
        "outputId": "727d788e-e2bd-49bd-877a-8ebd4fc46d76"
      },
      "outputs": [
        {
          "output_type": "stream",
          "name": "stdout",
          "text": [
            "Glory to Ukraine and it's Soldiers 🇺🇦\n",
            "#UkraineRussiaWar https://t.co/IhBKMaEQrc\n",
            "---------------\n",
            "🇺🇦 Glory to Ukraine and it's Soldiers 🇺🇦\n",
            "#UkraineRussiaWar https://t.co/IO2y8SnX5F\n",
            "---------------\n",
            "___________________________________________________________________________________________\n",
            "@OzKaterji The world has to provide Ukraine with ALL necessary weapons to WIN the war #StandWithUkraine #russiaisanazistate #ArmUkraineNow #ATACMSForUkraine #F16ForUkraine #A10ForUkraine #UkrainianHeroes #SlavaUkraini 🇺🇦\n",
            "---------------\n",
            "@WarMonitor3 Great!! The world has to provide Ukraine with ALL necessary weapons to WIN the war #StandWithUkraine #AbramsForUkraine #ArmUkraineNow #ATACMSForUkraine #F16ForUkraine #A10ForUkraine #UkrainianHeroes #SlavaUkraini 🇺🇦\n",
            "---------------\n",
            "@ukraine_map @KyivIndependent Exactly! The world has to provide Ukraine with ALL necessary weapons to WIN the war #StandWithUkraine #AbramsForUkraine #ArmUkraineNow #ATACMSForUkraine #F16ForUkraine #A10ForUkraine #UkrainianHeroes #SlavaUkraini 🇺🇦\n",
            "---------------\n",
            "___________________________________________________________________________________________\n",
            "@SpeakerPelosi @ArmeniaMODTeam Armenia sends aid to #Russia-occupied Donbas of Ukraine.\n",
            "Azerbaijan sends humanitarian aid to Kyiv, #Ukraine \n",
            " https://t.co/bShVbWTelj\n",
            "---------------\n",
            "@spicciar @Azeri_Mamedov @Doranimated 10/Azerbaijan sends humanitarian aid to Kyiv, #Ukraine \n",
            "Armenia sends aid to #Russia-occupied Donbas of Ukraine. https://t.co/bShVbWTelj\n",
            "---------------\n",
            "___________________________________________________________________________________________\n"
          ]
        }
      ],
      "source": [
        "for v in random.sample(canditates, 3):\n",
        "  for i in v:\n",
        "    print(dl[i])\n",
        "    print('---------------')\n",
        "  print('___________________________________________________________________________________________')"
      ]
    }
  ],
  "metadata": {
    "colab": {
      "name": "echo.ipynb",
      "provenance": [],
      "include_colab_link": true
    },
    "gpuClass": "standard",
    "kernelspec": {
      "display_name": "Python 3.10.2 ('venv': venv)",
      "language": "python",
      "name": "python3"
    },
    "language_info": {
      "codemirror_mode": {
        "name": "ipython",
        "version": 3
      },
      "file_extension": ".py",
      "mimetype": "text/x-python",
      "name": "python",
      "nbconvert_exporter": "python",
      "pygments_lexer": "ipython3",
      "version": "3.10.2"
    },
    "orig_nbformat": 4,
    "vscode": {
      "interpreter": {
        "hash": "6cb79c56556105f70b816d0fc1c0ed9aa393ed0bd100d1447e7250787036fb4a"
      }
    }
  },
  "nbformat": 4,
  "nbformat_minor": 0
}