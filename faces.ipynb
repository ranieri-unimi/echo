{
  "cells": [
    {
      "cell_type": "markdown",
      "metadata": {
        "id": "view-in-github",
        "colab_type": "text"
      },
      "source": [
        "<a href=\"https://colab.research.google.com/github/ranieri-unimi/faces-malchiodi-2022/blob/main/faces.ipynb\" target=\"_parent\"><img src=\"https://colab.research.google.com/assets/colab-badge.svg\" alt=\"Open In Colab\"/></a>"
      ]
    },
    {
      "cell_type": "markdown",
      "metadata": {
        "id": "RgQoZYRAWKCK"
      },
      "source": [
        "### run once"
      ]
    },
    {
      "cell_type": "code",
      "source": [
        "!pip install pyspark\n",
        "!pip install findspark"
      ],
      "metadata": {
        "id": "2uhwYor6WVuT"
      },
      "execution_count": null,
      "outputs": []
    },
    {
      "cell_type": "code",
      "execution_count": null,
      "metadata": {
        "id": "7mH3gc9TWKCM"
      },
      "outputs": [],
      "source": [
        "import os\n",
        "os.environ[\"KAGGLE_USERNAME\"] = 'ranieriunimi'\n",
        "os.environ[\"KAGGLE_KEY\"] = str(hex(232307088475198570779809482024044346960))[2:]"
      ]
    },
    {
      "cell_type": "code",
      "execution_count": null,
      "metadata": {
        "id": "ngXoXE4KWKCN"
      },
      "outputs": [],
      "source": [
        "ref = 'bwandowando/ukraine-russian-crisis-twitter-dataset-1-2-m-rows'\n",
        "!mkdir datasets\n",
        "!kaggle datasets download $ref --unzip -p ./datasets"
      ]
    },
    {
      "cell_type": "markdown",
      "source": [
        "## ukraine"
      ],
      "metadata": {
        "id": "oAR7LusA5ZOK"
      }
    },
    {
      "cell_type": "code",
      "source": [
        "SAMPLE_SIZE = 2048"
      ],
      "metadata": {
        "id": "c1FjJN8F6ejg"
      },
      "execution_count": null,
      "outputs": []
    },
    {
      "cell_type": "code",
      "execution_count": null,
      "metadata": {
        "id": "sqGrV6XdWKCI"
      },
      "outputs": [],
      "source": [
        "import numpy as np\n",
        "import pandas as pd\n",
        "import csv\n",
        "import re\n",
        "import string\n",
        "import random"
      ]
    },
    {
      "cell_type": "code",
      "source": [
        "import pyspark\n",
        "import findspark"
      ],
      "metadata": {
        "id": "NrOTb9eEWSpB"
      },
      "execution_count": null,
      "outputs": []
    },
    {
      "cell_type": "code",
      "execution_count": null,
      "metadata": {
        "id": "VoA9_EouWKCO"
      },
      "outputs": [],
      "source": [
        "# load dataset \n",
        "filename = r\"./datasets/UkraineCombinedTweetsDeduped20220227-131611.csv.gzip\"\n",
        "pd.set_option(\"display.max_columns\", None)\n",
        "df = pd.read_csv(filename, compression='gzip', index_col=0, encoding='utf-8', quoting=csv.QUOTE_ALL)"
      ]
    },
    {
      "cell_type": "markdown",
      "source": [
        "## data cleaning"
      ],
      "metadata": {
        "id": "i3RapMVFenPc"
      }
    },
    {
      "cell_type": "code",
      "execution_count": null,
      "metadata": {
        "id": "_frlylt5WKCP"
      },
      "outputs": [],
      "source": [
        "df = df[df.language == 'en']\n",
        "df = df.text.tolist()"
      ]
    },
    {
      "cell_type": "code",
      "source": [
        "df.insert(0, 'lorem ipsum dolor sit amet')\n",
        "df.insert(0, 'lorem ipsum dolor sit amet')"
      ],
      "metadata": {
        "id": "Z-o_B_qVooWs"
      },
      "execution_count": null,
      "outputs": []
    },
    {
      "cell_type": "code",
      "source": [
        "len(df)"
      ],
      "metadata": {
        "id": "Xt_Q1FR3pu_L"
      },
      "execution_count": null,
      "outputs": []
    },
    {
      "cell_type": "code",
      "source": [
        "try: df = random.sample(df, SAMPLE_SIZE)\n",
        "except: pass"
      ],
      "metadata": {
        "id": "FCWDtxA26udo"
      },
      "execution_count": null,
      "outputs": []
    },
    {
      "cell_type": "code",
      "execution_count": null,
      "metadata": {
        "id": "5i9KWOCjWKCR"
      },
      "outputs": [],
      "source": [
        "def preprocess_tweet_text(tweet):\n",
        "    index, tweet = tweet\n",
        "    tweet = tweet.lower()\n",
        "    tweet = re.sub(r\"http\\S+|www\\S+|https\\S+\", '', tweet, flags=re.MULTILINE)\n",
        "    tweet = tweet.translate(str.maketrans(string.punctuation+'…’”“', ' '*(len(string.punctuation)+4)))  # puntctuation to spaces\n",
        "    tweet = ' '.join(tweet.strip().split())\n",
        "    return (index, tweet)"
      ]
    },
    {
      "cell_type": "markdown",
      "metadata": {
        "id": "REaNAuF2WKCS"
      },
      "source": [
        "## hadoop instance"
      ]
    },
    {
      "cell_type": "code",
      "execution_count": null,
      "metadata": {
        "id": "1gMPGu1YWKCS"
      },
      "outputs": [],
      "source": [
        "from pyspark.sql import SparkSession\n",
        "\n",
        "spark = SparkSession.builder.master(\"local[*]\").getOrCreate()\n",
        "sc = spark.sparkContext"
      ]
    },
    {
      "cell_type": "code",
      "source": [
        "rdd = sc.parallelize(enumerate(df))"
      ],
      "metadata": {
        "id": "_Kll5uQHB5hg"
      },
      "execution_count": null,
      "outputs": []
    },
    {
      "cell_type": "code",
      "source": [
        "dataPipe = rdd.map(preprocess_tweet_text)"
      ],
      "metadata": {
        "id": "8TJTiM7aB-vO"
      },
      "execution_count": null,
      "outputs": []
    },
    {
      "cell_type": "code",
      "source": [
        "dataPipe.take(10)"
      ],
      "metadata": {
        "id": "Wk0H5gR9vXIP"
      },
      "execution_count": null,
      "outputs": []
    },
    {
      "cell_type": "code",
      "source": [
        "# indexing = dataset.flatMap(lambda _, v : [(e,e) for e in v]).reduceByKey(lambda k, v : k)"
      ],
      "metadata": {
        "id": "qweNpiR__zu4"
      },
      "execution_count": null,
      "outputs": []
    },
    {
      "cell_type": "markdown",
      "source": [
        "### foos"
      ],
      "metadata": {
        "id": "5KLgYMu3DFUg"
      }
    },
    {
      "cell_type": "code",
      "source": [
        "!pip install crc16\n",
        "import crc16\n",
        "import binascii"
      ],
      "metadata": {
        "id": "sYUS1RzSpJeA"
      },
      "execution_count": null,
      "outputs": []
    },
    {
      "cell_type": "markdown",
      "source": [
        "### shingles"
      ],
      "metadata": {
        "id": "aEl3HXq_t3BN"
      }
    },
    {
      "cell_type": "code",
      "source": [
        "SH_LEN = 5"
      ],
      "metadata": {
        "id": "Kd6TFHOnzwH5"
      },
      "execution_count": null,
      "outputs": []
    },
    {
      "cell_type": "code",
      "source": [
        "shigles = dataPipe.flatMap(lambda x : [(x[-1][i:i+SH_LEN], x[0]) for i in range(0, len(x[-1])-SH_LEN)]).distinct()"
      ],
      "metadata": {
        "id": "DiKs3Kllt2MB"
      },
      "execution_count": null,
      "outputs": []
    },
    {
      "cell_type": "code",
      "source": [
        "def shingling(x):\n",
        "  k, v = x\n",
        "  shingles = []\n",
        "  for i in range(len(v) - SH_LEN):\n",
        "    shingle = v[i:i+SH_LEN]\n",
        "    bshingle = bytes(shingle, 'utf-8') \n",
        "    hshingle = binascii.crc32(bshingle) # 4 bytes\n",
        "    # hshingle = crc16.crc16xmodem(bshingle) # 2 bytes\n",
        "    shingles.append( (hshingle, k) )\n",
        "  return shingles"
      ],
      "metadata": {
        "id": "pwe7op1Drj3f"
      },
      "execution_count": null,
      "outputs": []
    },
    {
      "cell_type": "code",
      "source": [
        "charactMx = dataPipe.flatMap(shingling).distinct()"
      ],
      "metadata": {
        "id": "g3WFSZm67kyk"
      },
      "execution_count": null,
      "outputs": []
    },
    {
      "cell_type": "markdown",
      "source": [
        "### MinHashing"
      ],
      "metadata": {
        "id": "Cml_wQ0DO28d"
      }
    },
    {
      "cell_type": "code",
      "source": [
        "def RN(stop) : return random.randrange(stop)\n",
        "def RB(B = 4) : return RN(2**(8*B-1))*2+1\n",
        "def HF(x, scale, shift, base) : return (scale * x + shift) % base"
      ],
      "metadata": {
        "id": "LT3TGML3simt"
      },
      "execution_count": null,
      "outputs": []
    },
    {
      "cell_type": "code",
      "source": [
        "import random\n",
        "n_hashfoo, b_bands = 120, 40\n",
        "\n",
        "(1 / b_bands)**(1 / (n_hashfoo//b_bands)) # threshold"
      ],
      "metadata": {
        "id": "1PH-NSL2JB7q"
      },
      "execution_count": null,
      "outputs": []
    },
    {
      "cell_type": "code",
      "source": [
        "hash_foos = [(i, (lambda x : HF(x, RB(), RB(), 2**(8*4)))) for i in range(n_hashfoo)]"
      ],
      "metadata": {
        "id": "_etHzYEuIbRF"
      },
      "execution_count": null,
      "outputs": []
    },
    {
      "cell_type": "code",
      "source": [
        "minHashSignMx = charactMx.flatMap(lambda x : [((i, x[-1]), hf(x[0])) for i, hf in hash_foos]).reduceByKey(min)\n",
        "# (nº of hash_foo, ShingleSet aka document nº) , hash_val"
      ],
      "metadata": {
        "id": "SCYUNp8UxSZ3"
      },
      "execution_count": null,
      "outputs": []
    },
    {
      "cell_type": "markdown",
      "source": [
        "### LSH"
      ],
      "metadata": {
        "id": "7Co_sAauPB29"
      }
    },
    {
      "cell_type": "code",
      "source": [
        "bandmap = (lambda x : HF(x, RN(b_bands), RN(b_bands), b_bands))"
      ],
      "metadata": {
        "id": "5xL6VFo_Wil-"
      },
      "execution_count": null,
      "outputs": []
    },
    {
      "cell_type": "code",
      "source": [
        "def band_expand(x):\n",
        "  (h, s), v = x\n",
        "  return ((bandmap(h), s), (h, v))\n",
        "\n",
        "def band_reduct(x):\n",
        "  (b, s), a = x\n",
        "  return ((hash(tuple(a)), b), s)"
      ],
      "metadata": {
        "id": "ZQ4H_GDeQmw3"
      },
      "execution_count": null,
      "outputs": []
    },
    {
      "cell_type": "code",
      "source": [
        "bandMx = ( minHashSignMx\n",
        " .map(band_expand)\n",
        " .groupByKey().mapValues(list)\n",
        " .mapValues(lambda a : sorted(a, key=lambda x: x[0]))\n",
        " .mapValues(lambda a : [v for _, v in a] )\n",
        " .map(band_reduct)\n",
        " .groupByKey().mapValues(list)\n",
        ")"
      ],
      "metadata": {
        "id": "KmTzVfkGQGAp"
      },
      "execution_count": null,
      "outputs": []
    },
    {
      "cell_type": "code",
      "source": [
        " bandMx.filter(lambda x : len(x[1]) > 1 ).collect()"
      ],
      "metadata": {
        "id": "yVNi6BCf8BBZ"
      },
      "execution_count": null,
      "outputs": []
    }
  ],
  "metadata": {
    "interpreter": {
      "hash": "e2cd697ea1a65fb50dbc24e0f8485a2ca518dbc7d7a135f655e94e4f59b8539e"
    },
    "kernelspec": {
      "display_name": "Python 3.10.2 ('venv': venv)",
      "language": "python",
      "name": "python3"
    },
    "language_info": {
      "codemirror_mode": {
        "name": "ipython",
        "version": 3
      },
      "file_extension": ".py",
      "mimetype": "text/x-python",
      "name": "python",
      "nbconvert_exporter": "python",
      "pygments_lexer": "ipython3",
      "version": "3.10.2"
    },
    "orig_nbformat": 4,
    "colab": {
      "name": "ukraine.ipynb",
      "provenance": [],
      "include_colab_link": true
    }
  },
  "nbformat": 4,
  "nbformat_minor": 0
}