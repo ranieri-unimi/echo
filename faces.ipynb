{
  "cells": [
    {
      "cell_type": "markdown",
      "metadata": {
        "id": "view-in-github",
        "colab_type": "text"
      },
      "source": [
        "<a href=\"https://colab.research.google.com/github/ranieri-unimi/faces-malchiodi-2022/blob/main/faces.ipynb\" target=\"_parent\"><img src=\"https://colab.research.google.com/assets/colab-badge.svg\" alt=\"Open In Colab\"/></a>"
      ]
    },
    {
      "cell_type": "markdown",
      "metadata": {
        "id": "RgQoZYRAWKCK"
      },
      "source": [
        "### run once"
      ]
    },
    {
      "cell_type": "code",
      "source": [
        "!pip install pyspark\n",
        "!pip install findspark"
      ],
      "metadata": {
        "id": "2uhwYor6WVuT"
      },
      "execution_count": null,
      "outputs": []
    },
    {
      "cell_type": "code",
      "execution_count": null,
      "metadata": {
        "id": "7mH3gc9TWKCM"
      },
      "outputs": [],
      "source": [
        "import os\n",
        "os.environ[\"KAGGLE_USERNAME\"] = 'ranieriunimi'\n",
        "os.environ[\"KAGGLE_KEY\"] = str(hex(232307088475198570779809482024044346960))[2:]"
      ]
    },
    {
      "cell_type": "code",
      "execution_count": null,
      "metadata": {
        "id": "ngXoXE4KWKCN"
      },
      "outputs": [],
      "source": [
        "ref = 'bwandowando/ukraine-russian-crisis-twitter-dataset-1-2-m-rows'\n",
        "!mkdir datasets\n",
        "!kaggle datasets download $ref --unzip -p ./datasets"
      ]
    },
    {
      "cell_type": "markdown",
      "source": [
        "## ukraine"
      ],
      "metadata": {
        "id": "oAR7LusA5ZOK"
      }
    },
    {
      "cell_type": "code",
      "source": [
        "SAMPLE_SIZE = 10*1000"
      ],
      "metadata": {
        "id": "c1FjJN8F6ejg"
      },
      "execution_count": null,
      "outputs": []
    },
    {
      "cell_type": "code",
      "execution_count": null,
      "metadata": {
        "id": "sqGrV6XdWKCI"
      },
      "outputs": [],
      "source": [
        "import numpy as np\n",
        "import pandas as pd\n",
        "import csv\n",
        "import re\n",
        "import string\n",
        "import random"
      ]
    },
    {
      "cell_type": "code",
      "source": [
        "import pyspark\n",
        "import findspark"
      ],
      "metadata": {
        "id": "NrOTb9eEWSpB"
      },
      "execution_count": null,
      "outputs": []
    },
    {
      "cell_type": "code",
      "execution_count": null,
      "metadata": {
        "id": "VoA9_EouWKCO"
      },
      "outputs": [],
      "source": [
        "# load dataset \n",
        "filename = r\"./datasets/UkraineCombinedTweetsDeduped20220227-131611.csv.gzip\"\n",
        "pd.set_option(\"display.max_columns\", None)\n",
        "df = pd.read_csv(filename, compression='gzip', index_col=0, encoding='utf-8', quoting=csv.QUOTE_ALL)"
      ]
    },
    {
      "cell_type": "markdown",
      "source": [
        "## data cleaning"
      ],
      "metadata": {
        "id": "i3RapMVFenPc"
      }
    },
    {
      "cell_type": "code",
      "execution_count": null,
      "metadata": {
        "id": "_frlylt5WKCP"
      },
      "outputs": [],
      "source": [
        "df = df[df.language == 'en']"
      ]
    },
    {
      "cell_type": "code",
      "source": [
        "df = df.text.tolist()"
      ],
      "metadata": {
        "id": "FCWDtxA26udo"
      },
      "execution_count": null,
      "outputs": []
    },
    {
      "cell_type": "code",
      "source": [
        "df = random.sample(df, SAMPLE_SIZE) if SAMPLE_SIZE else df"
      ],
      "metadata": {
        "id": "emrfoy_gS-33"
      },
      "execution_count": null,
      "outputs": []
    },
    {
      "cell_type": "code",
      "execution_count": null,
      "metadata": {
        "id": "5i9KWOCjWKCR"
      },
      "outputs": [],
      "source": [
        "def preprocess_tweet_text(tweet):\n",
        "    tweet = tweet.lower()\n",
        "    tweet = re.sub(r\"http\\S+|www\\S+|https\\S+\", '', tweet, flags=re.MULTILINE)\n",
        "    tweet = tweet.translate(str.maketrans(string.punctuation+'…’”“‘', ' '*(len(string.punctuation)+5)))  # puntctuation to spaces\n",
        "    tweet = ' '.join(tweet.strip().split())\n",
        "    return tweet"
      ]
    },
    {
      "cell_type": "markdown",
      "metadata": {
        "id": "REaNAuF2WKCS"
      },
      "source": [
        "## hadoop instance"
      ]
    },
    {
      "cell_type": "code",
      "execution_count": null,
      "metadata": {
        "id": "1gMPGu1YWKCS"
      },
      "outputs": [],
      "source": [
        "from pyspark.sql import SparkSession\n",
        "\n",
        "spark = SparkSession.builder.master(\"local[*]\").getOrCreate()\n",
        "sc = spark.sparkContext"
      ]
    },
    {
      "cell_type": "code",
      "source": [
        "rdd = sc.parallelize(enumerate(df))"
      ],
      "metadata": {
        "id": "_Kll5uQHB5hg"
      },
      "execution_count": null,
      "outputs": []
    },
    {
      "cell_type": "code",
      "source": [
        "rdd.take(7)"
      ],
      "metadata": {
        "id": "iUkPp6uoa0O4"
      },
      "execution_count": null,
      "outputs": []
    },
    {
      "cell_type": "code",
      "source": [
        "def shiftkv(x) : return (x[-1], x[0])"
      ],
      "metadata": {
        "id": "X7ncVMmc_sI6"
      },
      "execution_count": null,
      "outputs": []
    },
    {
      "cell_type": "code",
      "source": [
        "dataPipe = (rdd\n",
        "            .mapValues(preprocess_tweet_text)\n",
        "            .map(shiftkv)\n",
        "            .reduceByKey(min)\n",
        "            .map(shiftkv)\n",
        ")"
      ],
      "metadata": {
        "id": "8TJTiM7aB-vO"
      },
      "execution_count": null,
      "outputs": []
    },
    {
      "cell_type": "code",
      "source": [
        "dataPipe.take(7)"
      ],
      "metadata": {
        "id": "6FwCMGxhcb4K"
      },
      "execution_count": null,
      "outputs": []
    },
    {
      "cell_type": "code",
      "source": [
        "dataPipe.count()"
      ],
      "metadata": {
        "id": "qTypdpUNpOX_"
      },
      "execution_count": null,
      "outputs": []
    },
    {
      "cell_type": "markdown",
      "source": [
        "### foos"
      ],
      "metadata": {
        "id": "5KLgYMu3DFUg"
      }
    },
    {
      "cell_type": "code",
      "source": [
        "!pip install crc16\n",
        "import crc16\n",
        "import binascii"
      ],
      "metadata": {
        "id": "sYUS1RzSpJeA"
      },
      "execution_count": null,
      "outputs": []
    },
    {
      "cell_type": "markdown",
      "source": [
        "### shingles"
      ],
      "metadata": {
        "id": "aEl3HXq_t3BN"
      }
    },
    {
      "cell_type": "code",
      "source": [
        "SH_LEN = 9"
      ],
      "metadata": {
        "id": "Kd6TFHOnzwH5"
      },
      "execution_count": null,
      "outputs": []
    },
    {
      "cell_type": "code",
      "source": [
        "shigles = dataPipe.flatMap(lambda x : [(x[0], x[-1][i:i+SH_LEN]) for i in range(len(x[-1])-SH_LEN)]).distinct()"
      ],
      "metadata": {
        "id": "DiKs3Kllt2MB"
      },
      "execution_count": null,
      "outputs": []
    },
    {
      "cell_type": "code",
      "source": [
        "shigles.take(7)"
      ],
      "metadata": {
        "id": "bIpn4oQ1ciK6"
      },
      "execution_count": null,
      "outputs": []
    },
    {
      "cell_type": "code",
      "source": [
        "def hashval(x):\n",
        "  bval = bytes(x, 'utf-8')\n",
        "  hval = binascii.crc32(bval) # 4 bytes\n",
        "  return hval"
      ],
      "metadata": {
        "id": "x_K47yb2hhxW"
      },
      "execution_count": null,
      "outputs": []
    },
    {
      "cell_type": "code",
      "source": [
        "charactMx = shigles.mapValues(hashval).distinct()"
      ],
      "metadata": {
        "id": "GM0QrOF_gznU"
      },
      "execution_count": null,
      "outputs": []
    },
    {
      "cell_type": "code",
      "source": [
        "charactMx.take(7)"
      ],
      "metadata": {
        "id": "Lriu-tTsc3FG"
      },
      "execution_count": null,
      "outputs": []
    },
    {
      "cell_type": "markdown",
      "source": [
        "### MinHashing"
      ],
      "metadata": {
        "id": "Cml_wQ0DO28d"
      }
    },
    {
      "cell_type": "code",
      "source": [
        "def RN(stop, start = 1) : return random.randrange(start,stop)\n",
        "def RB(B = 4) : return RN(2**(8*B-1),0)*2+1\n",
        "def PF(x, scale, shift, base) : return (scale * x + shift) % base"
      ],
      "metadata": {
        "id": "LT3TGML3simt"
      },
      "execution_count": null,
      "outputs": []
    },
    {
      "cell_type": "code",
      "source": [
        "import random\n",
        "n_permfoo, b_bands = 15, 3\n",
        "\n",
        "(1 / b_bands)**(1 / (n_permfoo//b_bands)) # threshold"
      ],
      "metadata": {
        "id": "1PH-NSL2JB7q"
      },
      "execution_count": null,
      "outputs": []
    },
    {
      "cell_type": "code",
      "source": [
        "params = [ {'shift':RB(), 'scale':RB(), 'base':2**(8*4)} for _ in range(n_permfoo) ]\n",
        "params"
      ],
      "metadata": {
        "id": "9KTeytyy49L2"
      },
      "execution_count": null,
      "outputs": []
    },
    {
      "cell_type": "code",
      "source": [
        "def gen_perm(x):\n",
        "  doc, shingle = x\n",
        "  return [ ((doc, h), (shingle, h) ) for h in range(n_permfoo)]"
      ],
      "metadata": {
        "id": "rU2c-Bt6mHi-"
      },
      "execution_count": null,
      "outputs": []
    },
    {
      "cell_type": "code",
      "source": [
        "minHashSignMx = (charactMx\n",
        "                 .flatMap(gen_perm)\n",
        "                 .reduceByKey(lambda a, b : a if PF(a[0], **params[a[-1]]) < PF(b[0], **params[a[-1]]) else b)\n",
        "                 .mapValues(lambda v : v[0])\n",
        ")\n",
        "# (doc, hash) , shingle"
      ],
      "metadata": {
        "id": "aF9vA8Mk7ZOX"
      },
      "execution_count": null,
      "outputs": []
    },
    {
      "cell_type": "code",
      "source": [
        "minHashSignMx.take(7)"
      ],
      "metadata": {
        "id": "lt-9O9HGd2Uy"
      },
      "execution_count": null,
      "outputs": []
    },
    {
      "cell_type": "markdown",
      "source": [
        "### LSH"
      ],
      "metadata": {
        "id": "7Co_sAauPB29"
      }
    },
    {
      "cell_type": "code",
      "source": [
        "scale, shift = RN(b_bands), RN(b_bands)\n",
        "bandmap = (lambda x : PF(x, scale, shift, b_bands))"
      ],
      "metadata": {
        "id": "5xL6VFo_Wil-"
      },
      "execution_count": null,
      "outputs": []
    },
    {
      "cell_type": "code",
      "source": [
        "def band_expand(x):\n",
        "  (doc, h), v = x\n",
        "  return ((doc, bandmap(h)), (h, v))\n",
        "\n",
        "def band_reduct(x):\n",
        "  (doc, band), a = x\n",
        "  return ((hash(tuple(a)), band), doc)"
      ],
      "metadata": {
        "id": "ZQ4H_GDeQmw3"
      },
      "execution_count": null,
      "outputs": []
    },
    {
      "cell_type": "code",
      "source": [
        "bandMx = (minHashSignMx              # (doc, hashperm) , valshin\n",
        "          .map(band_expand)             # (doc, band) , (hashperm , valshin)\n",
        "          .groupByKey().mapValues(list)    # (doc, band) , [ (hashperm , valshin), (hashperm , valshin) ,(hashperm , valshin), ...]\n",
        "          .mapValues(lambda a : sorted(a, key=lambda x: x[0]))   # (doc, band) , [ (hashperm , valshin), (hashperm , valshin) ,(hashperm , valshin), ...] but sorted\n",
        "          .mapValues(lambda a : [v for _, v in a] )      # (doc, band) , [valshin, valshin, valshin]\n",
        ")"
      ],
      "metadata": {
        "id": "KmTzVfkGQGAp"
      },
      "execution_count": null,
      "outputs": []
    },
    {
      "cell_type": "code",
      "source": [
        "bandMx.take(7)"
      ],
      "metadata": {
        "id": "xTDLgH0hHnoP"
      },
      "execution_count": null,
      "outputs": []
    },
    {
      "cell_type": "code",
      "source": [
        "bandBuckets = (bandMx\n",
        "    .map(band_reduct)                           # (HHH_valshin, band), doc\n",
        "    .groupByKey().mapValues(list)           # (HHH_valshin, band), [doc, doc, doc]\n",
        ")"
      ],
      "metadata": {
        "id": "3_XTgeXSHoON"
      },
      "execution_count": null,
      "outputs": []
    },
    {
      "cell_type": "code",
      "source": [
        "lst = bandBuckets.filter(lambda x : len(x[1])>1).collect()"
      ],
      "metadata": {
        "id": "12MxsRNpz8wJ"
      },
      "execution_count": null,
      "outputs": []
    },
    {
      "cell_type": "code",
      "source": [
        "lst"
      ],
      "metadata": {
        "id": "RU7Fve-pHyRG"
      },
      "execution_count": null,
      "outputs": []
    },
    {
      "cell_type": "code",
      "source": [
        "for v in dict(lst).values():\n",
        "  for i in v:\n",
        "    print(df[i])\n",
        "    print('---------------')\n",
        "  print('___________________________________________________________________________________________')"
      ],
      "metadata": {
        "id": "SbaLIYSw-rK2"
      },
      "execution_count": null,
      "outputs": []
    },
    {
      "cell_type": "code",
      "source": [
        ""
      ],
      "metadata": {
        "id": "gn0HGjWC-zX5"
      },
      "execution_count": null,
      "outputs": []
    }
  ],
  "metadata": {
    "interpreter": {
      "hash": "e2cd697ea1a65fb50dbc24e0f8485a2ca518dbc7d7a135f655e94e4f59b8539e"
    },
    "kernelspec": {
      "display_name": "Python 3.10.2 ('venv': venv)",
      "language": "python",
      "name": "python3"
    },
    "language_info": {
      "codemirror_mode": {
        "name": "ipython",
        "version": 3
      },
      "file_extension": ".py",
      "mimetype": "text/x-python",
      "name": "python",
      "nbconvert_exporter": "python",
      "pygments_lexer": "ipython3",
      "version": "3.10.2"
    },
    "orig_nbformat": 4,
    "colab": {
      "name": "ukraine.ipynb",
      "provenance": [],
      "include_colab_link": true
    },
    "accelerator": "GPU",
    "gpuClass": "standard"
  },
  "nbformat": 4,
  "nbformat_minor": 0
}