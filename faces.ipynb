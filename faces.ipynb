{
  "cells": [
    {
      "cell_type": "markdown",
      "metadata": {
        "colab_type": "text",
        "id": "view-in-github"
      },
      "source": [
        "<a href=\"https://colab.research.google.com/github/ranieri-unimi/lsh-malchiodi-2022/blob/main/faces.ipynb\" target=\"_parent\"><img src=\"https://colab.research.google.com/assets/colab-badge.svg\" alt=\"Open In Colab\"/></a>"
      ]
    },
    {
      "cell_type": "code",
      "execution_count": null,
      "metadata": {
        "id": "7mH3gc9TWKCM"
      },
      "outputs": [],
      "source": [
        "import os\n",
        "\n",
        "os.environ[\"KAGGLE_USERNAME\"] = \"ranieriunimi\"\n",
        "os.environ[\"KAGGLE_KEY\"] = str(hex(232307088475198570779809482024044346960))[2:]"
      ]
    },
    {
      "cell_type": "code",
      "execution_count": null,
      "metadata": {
        "colab": {
          "base_uri": "https://localhost:8080/"
        },
        "id": "ngXoXE4KWKCN",
        "outputId": "eb6d911b-7b89-4399-dcdd-dee1be1e842e"
      },
      "outputs": [],
      "source": [
        "ref = \"bwandowando/ukraine-russian-crisis-twitter-dataset-1-2-m-rows\"\n",
        "\n",
        "!mkdir datasets\n",
        "!kaggle datasets download $ref --unzip -p ./datasets"
      ]
    },
    {
      "cell_type": "code",
      "execution_count": null,
      "metadata": {
        "colab": {
          "base_uri": "https://localhost:8080/"
        },
        "id": "2uhwYor6WVuT",
        "outputId": "dedfce4e-98e4-417c-9f5b-8bd10e3a3795"
      },
      "outputs": [],
      "source": [
        "!pip install pyspark\n",
        "!pip install findspark"
      ]
    },
    {
      "cell_type": "code",
      "execution_count": null,
      "metadata": {
        "id": "fQNZM77zauIw"
      },
      "outputs": [],
      "source": [
        "import pyspark\n",
        "import findspark"
      ]
    },
    {
      "cell_type": "code",
      "execution_count": null,
      "metadata": {
        "id": "sqGrV6XdWKCI"
      },
      "outputs": [],
      "source": [
        "import numpy as np\n",
        "import pandas as pd\n",
        "import csv\n",
        "import re\n",
        "import string\n",
        "import random"
      ]
    },
    {
      "cell_type": "markdown",
      "metadata": {
        "id": "oAR7LusA5ZOK"
      },
      "source": [
        "# plagiarism"
      ]
    },
    {
      "cell_type": "markdown",
      "metadata": {
        "id": "cuVNl3dFbedu"
      },
      "source": [
        "set a number cap of tweets (0 to skip)"
      ]
    },
    {
      "cell_type": "code",
      "execution_count": null,
      "metadata": {
        "id": "c1FjJN8F6ejg"
      },
      "outputs": [],
      "source": [
        "SAMPLE_SIZE = 10 * 1000"
      ]
    },
    {
      "cell_type": "markdown",
      "metadata": {
        "id": "REaNAuF2WKCS"
      },
      "source": [
        "hadoop instance"
      ]
    },
    {
      "cell_type": "code",
      "execution_count": null,
      "metadata": {
        "id": "NrOTb9eEWSpB"
      },
      "outputs": [],
      "source": [
        "from pyspark.sql import SparkSession"
      ]
    },
    {
      "cell_type": "code",
      "execution_count": null,
      "metadata": {
        "id": "1gMPGu1YWKCS"
      },
      "outputs": [],
      "source": [
        "spark = SparkSession.builder.master(\"local[*]\").getOrCreate()\n",
        "sc = spark.sparkContext"
      ]
    },
    {
      "cell_type": "markdown",
      "metadata": {
        "id": "epsbJzfebnMd"
      },
      "source": [
        "load the dataset"
      ]
    },
    {
      "cell_type": "code",
      "execution_count": null,
      "metadata": {
        "colab": {
          "base_uri": "https://localhost:8080/"
        },
        "id": "VoA9_EouWKCO",
        "outputId": "062f24f5-9382-4a08-8f10-34fe717a7fb6"
      },
      "outputs": [],
      "source": [
        "filename = r\"./datasets/UkraineCombinedTweetsDeduped20220227-131611.csv.gzip\"\n",
        "pd.set_option(\"display.max_columns\", None)\n",
        "df = pd.read_csv(\n",
        "    filename, compression=\"gzip\", index_col=0, encoding=\"utf-8\", quoting=csv.QUOTE_ALL\n",
        ")"
      ]
    },
    {
      "cell_type": "code",
      "execution_count": null,
      "metadata": {
        "id": "_frlylt5WKCP"
      },
      "outputs": [],
      "source": [
        "df = df[df.language == \"en\"]"
      ]
    },
    {
      "cell_type": "code",
      "execution_count": null,
      "metadata": {
        "id": "FCWDtxA26udo"
      },
      "outputs": [],
      "source": [
        "dl = df.text.tolist()\n",
        "dl = random.sample(dl, SAMPLE_SIZE) if SAMPLE_SIZE else dl"
      ]
    },
    {
      "cell_type": "code",
      "execution_count": null,
      "metadata": {
        "colab": {
          "base_uri": "https://localhost:8080/"
        },
        "id": "iUkPp6uoa0O4",
        "outputId": "db8d4b94-4e2f-4adc-b7c7-48f6d6c21cf3"
      },
      "outputs": [],
      "source": [
        "rdd = sc.parallelize(enumerate(dl))\n",
        "\n",
        "rdd.take(7)"
      ]
    },
    {
      "cell_type": "markdown",
      "metadata": {
        "id": "i3RapMVFenPc"
      },
      "source": [
        "## data cleaning"
      ]
    },
    {
      "cell_type": "code",
      "execution_count": null,
      "metadata": {
        "id": "5i9KWOCjWKCR"
      },
      "outputs": [],
      "source": [
        "def preprocess_tweet_text(tweet):\n",
        "\n",
        "    # opt for a case insensite analysis\n",
        "    tweet = tweet.lower()\n",
        "\n",
        "    # remove URLs\n",
        "    tweet = re.sub(r\"http\\S+|www\\S+|https\\S+\", \"\", tweet, flags=re.MULTILINE)\n",
        "\n",
        "    # translate puntctuation to spaces\n",
        "    tweet = tweet.translate(\n",
        "        str.maketrans(string.punctuation + \"…’”“‘\", \" \" * (len(string.punctuation) + 5))\n",
        "    )\n",
        "\n",
        "    # remove extra spaces\n",
        "    tweet = \" \".join(tweet.strip().split())\n",
        "\n",
        "    return tweet"
      ]
    },
    {
      "cell_type": "code",
      "execution_count": null,
      "metadata": {
        "id": "X7ncVMmc_sI6"
      },
      "outputs": [],
      "source": [
        "def shift_key_value(x):\n",
        "    return (x[-1], x[0])"
      ]
    },
    {
      "cell_type": "code",
      "execution_count": null,
      "metadata": {
        "colab": {
          "base_uri": "https://localhost:8080/"
        },
        "id": "6FwCMGxhcb4K",
        "outputId": "13c73170-3ebe-4643-d379-c89fd02f6456"
      },
      "outputs": [],
      "source": [
        "dataPipe = (\n",
        "    rdd\n",
        "    #    clean tweets\n",
        "    .mapValues(preprocess_tweet_text)\n",
        "    #    remove duplicates\n",
        "    .map(shift_key_value)\n",
        "    .reduceByKey(min)\n",
        "    .map(shift_key_value)\n",
        ")\n",
        "\n",
        "dataPipe.take(7)"
      ]
    },
    {
      "cell_type": "code",
      "execution_count": null,
      "metadata": {
        "colab": {
          "base_uri": "https://localhost:8080/"
        },
        "id": "qTypdpUNpOX_",
        "outputId": "2f486855-38da-4d21-f544-d2f3f75ce5ab"
      },
      "outputs": [],
      "source": [
        "dataPipe.count()"
      ]
    },
    {
      "cell_type": "markdown",
      "metadata": {
        "id": "aEl3HXq_t3BN"
      },
      "source": [
        "## shingles"
      ]
    },
    {
      "cell_type": "code",
      "execution_count": null,
      "metadata": {
        "id": "Kd6TFHOnzwH5"
      },
      "outputs": [],
      "source": [
        "SH_LEN = 5"
      ]
    },
    {
      "cell_type": "code",
      "execution_count": null,
      "metadata": {
        "colab": {
          "base_uri": "https://localhost:8080/"
        },
        "id": "bIpn4oQ1ciK6",
        "outputId": "74ca65d9-7a87-4afe-d92c-2dcf57c435b8"
      },
      "outputs": [],
      "source": [
        "shigles = dataPipe.flatMap(\n",
        "    lambda x: [(x[0], x[-1][i : i + SH_LEN]) for i in range(len(x[-1]) - SH_LEN)]\n",
        ").distinct()\n",
        "\n",
        "shigles.take(7)"
      ]
    },
    {
      "cell_type": "code",
      "execution_count": null,
      "metadata": {
        "colab": {
          "base_uri": "https://localhost:8080/"
        },
        "id": "sYUS1RzSpJeA",
        "outputId": "9cb6569e-403e-4753-8ca6-b705b5c7aae4"
      },
      "outputs": [],
      "source": [
        "!pip install crc16\n",
        "\n",
        "import crc16\n",
        "import binascii"
      ]
    },
    {
      "cell_type": "code",
      "execution_count": null,
      "metadata": {
        "id": "x_K47yb2hhxW"
      },
      "outputs": [],
      "source": [
        "def hash_value(v):\n",
        "    b = bytes(v, \"utf-8\")\n",
        "    h = binascii.crc32(b)  # 4 bytes\n",
        "    return h"
      ]
    },
    {
      "cell_type": "code",
      "execution_count": null,
      "metadata": {
        "colab": {
          "base_uri": "https://localhost:8080/"
        },
        "id": "Lriu-tTsc3FG",
        "outputId": "c72d637e-c626-4cbe-bd2f-d559dcce14bc"
      },
      "outputs": [],
      "source": [
        "charactMx = shigles.mapValues(hash_value).distinct()\n",
        "\n",
        "charactMx.take(7)"
      ]
    },
    {
      "cell_type": "markdown",
      "metadata": {
        "id": "Cml_wQ0DO28d"
      },
      "source": [
        "## MinHashing"
      ]
    },
    {
      "cell_type": "code",
      "execution_count": null,
      "metadata": {
        "id": "LT3TGML3simt"
      },
      "outputs": [],
      "source": [
        "def RN(stop, start=1):\n",
        "    \"\"\"\n",
        "        simple alias for random.randrange\n",
        "        but `start` is set to 1 by default\n",
        "    \"\"\"\n",
        "    return random.randrange(start, stop)\n",
        "\n",
        "\n",
        "def RB(B=4):\n",
        "    \"\"\"\n",
        "        Generate a odd number smaller than `B` bytes\n",
        "    \"\"\"\n",
        "    return RN(2 ** (8 * B - 1), 0) * 2 + 1\n",
        "\n",
        "\n",
        "def PF(x, scale, shift, base):\n",
        "    \"\"\"\n",
        "        Permutation Function:\n",
        "        Permute `x` by given parameters\n",
        "    \"\"\"\n",
        "    return (scale * x + shift) % base\n"
      ]
    },
    {
      "cell_type": "code",
      "execution_count": null,
      "metadata": {
        "colab": {
          "base_uri": "https://localhost:8080/"
        },
        "id": "1PH-NSL2JB7q",
        "outputId": "6fe1b33b-c720-4b9f-a1dd-c3a7d564d6ee"
      },
      "outputs": [],
      "source": [
        "n_permfoo, b_bands = 120, 12\n",
        "\n",
        "(1 / b_bands) ** (1 / (n_permfoo // b_bands))  # threshold"
      ]
    },
    {
      "cell_type": "code",
      "execution_count": null,
      "metadata": {
        "colab": {
          "base_uri": "https://localhost:8080/"
        },
        "id": "9KTeytyy49L2",
        "outputId": "deccfcea-17b7-4129-ea03-702f65873cc4"
      },
      "outputs": [],
      "source": [
        "params = [\n",
        "    {\"shift\": RB(), \"scale\": RB(), \"base\": 2 ** (8 * 4)}\n",
        "    for _ in range(n_permfoo)\n",
        "]\n",
        "\n",
        "params[:7]"
      ]
    },
    {
      "cell_type": "code",
      "execution_count": null,
      "metadata": {
        "id": "rU2c-Bt6mHi-"
      },
      "outputs": [],
      "source": [
        "def gen_perm(x):\n",
        "    doc, shingle = x\n",
        "    return [((doc, h), (shingle, h)) for h in range(n_permfoo)]"
      ]
    },
    {
      "cell_type": "code",
      "execution_count": null,
      "metadata": {
        "colab": {
          "base_uri": "https://localhost:8080/"
        },
        "id": "lt-9O9HGd2Uy",
        "outputId": "4ece3d79-dd72-4e25-f715-faf2bc1c2184"
      },
      "outputs": [],
      "source": [
        "minHashSignMx = (\n",
        "    charactMx.flatMap(gen_perm)\n",
        "    .reduceByKey(\n",
        "        lambda a, b: a if PF(a[0], **params[a[-1]]) < PF(b[0], **params[a[-1]]) else b\n",
        "    )\n",
        "    .mapValues(lambda v: v[0])\n",
        ")\n",
        "\n",
        "minHashSignMx.take(7)\n",
        "# (doc, hash) , shingle"
      ]
    },
    {
      "cell_type": "markdown",
      "metadata": {
        "id": "7Co_sAauPB29"
      },
      "source": [
        "## LSH"
      ]
    },
    {
      "cell_type": "code",
      "execution_count": null,
      "metadata": {
        "id": "5xL6VFo_Wil-"
      },
      "outputs": [],
      "source": [
        "scale, shift = RN(b_bands), RN(b_bands)\n",
        "bandmap = lambda x: PF(x, scale, shift, b_bands)"
      ]
    },
    {
      "cell_type": "code",
      "execution_count": null,
      "metadata": {
        "id": "ZQ4H_GDeQmw3"
      },
      "outputs": [],
      "source": [
        "def band_expand(x):\n",
        "  (doc, h), v = x\n",
        "  return ((doc, bandmap(h)), (h, v))\n",
        "\n",
        "def band_reduct(x):\n",
        "  (doc, band), a = x\n",
        "  return ((hash(tuple(a)), band), doc)"
      ]
    },
    {
      "cell_type": "code",
      "execution_count": null,
      "metadata": {
        "colab": {
          "base_uri": "https://localhost:8080/"
        },
        "id": "xTDLgH0hHnoP",
        "outputId": "77787640-4c2d-4c23-9ce7-996d289043ac"
      },
      "outputs": [],
      "source": [
        "bandMx = (minHashSignMx              # (doc, hashperm) , valshin\n",
        "          .map(band_expand)             # (doc, band) , (hashperm , valshin)\n",
        "          .groupByKey().mapValues(list)    # (doc, band) , [ (hashperm , valshin), (hashperm , valshin) ,(hashperm , valshin), ...]\n",
        "          .mapValues(lambda a : sorted(a, key=lambda x: x[0]))   # (doc, band) , [ (hashperm , valshin), (hashperm , valshin) ,(hashperm , valshin), ...] but sorted\n",
        "          .mapValues(lambda a : [v for _, v in a] )      # (doc, band) , [valshin, valshin, valshin]\n",
        ")\n",
        "\n",
        "bandMx.take(7)"
      ]
    },
    {
      "cell_type": "code",
      "execution_count": null,
      "metadata": {
        "id": "3_XTgeXSHoON"
      },
      "outputs": [],
      "source": [
        "bandBuckets = (\n",
        "    bandMx.map(band_reduct)  # (HHH_valshin, band), doc\n",
        "    .groupByKey()\n",
        "    .mapValues(list)  # (HHH_valshin, band), [doc, doc, doc]\n",
        ")"
      ]
    },
    {
      "cell_type": "code",
      "execution_count": null,
      "metadata": {
        "id": "12MxsRNpz8wJ"
      },
      "outputs": [],
      "source": [
        "lst = bandBuckets.filter(lambda x: len(x[1]) > 1).collect()\n",
        "\n",
        "lst[:7]"
      ]
    },
    {
      "cell_type": "markdown",
      "metadata": {},
      "source": [
        "## results"
      ]
    },
    {
      "cell_type": "code",
      "execution_count": null,
      "metadata": {
        "id": "Dzl25ZjYMqkP"
      },
      "outputs": [],
      "source": [
        "adj_lst = {\n",
        "    tuple(sorted([v[i], v[j]]))\n",
        "    for k, v in lst\n",
        "    for i in range(len(v) - 1)\n",
        "    for j in range(i + 1, len(v))\n",
        "}"
      ]
    },
    {
      "cell_type": "code",
      "execution_count": null,
      "metadata": {
        "id": "lzqVoTjRN7HR"
      },
      "outputs": [],
      "source": [
        "import networkx as nx"
      ]
    },
    {
      "cell_type": "code",
      "execution_count": null,
      "metadata": {},
      "outputs": [],
      "source": [
        "G = nx.Graph()\n",
        "G.add_edges_from(adj_lst)\n",
        "canditates = [cc for cc in nx.connected_components(G) if len(cc) > 3]"
      ]
    },
    {
      "cell_type": "code",
      "execution_count": null,
      "metadata": {
        "colab": {
          "base_uri": "https://localhost:8080/"
        },
        "id": "SbaLIYSw-rK2",
        "outputId": "9acb8654-f72e-492d-a849-a70c83c752cd"
      },
      "outputs": [],
      "source": [
        "for v in canditates:\n",
        "  for i in v:\n",
        "    print(df[i])\n",
        "    print('---------------')\n",
        "  print('___________________________________________________________________________________________')"
      ]
    },
    {
      "cell_type": "code",
      "execution_count": null,
      "metadata": {
        "id": "gn0HGjWC-zX5"
      },
      "outputs": [],
      "source": []
    }
  ],
  "metadata": {
    "accelerator": "GPU",
    "colab": {
      "include_colab_link": true,
      "name": "ukraine.ipynb",
      "provenance": []
    },
    "gpuClass": "standard",
    "kernelspec": {
      "display_name": "Python 3.10.2 ('venv': venv)",
      "language": "python",
      "name": "python3"
    },
    "language_info": {
      "codemirror_mode": {
        "name": "ipython",
        "version": 3
      },
      "file_extension": ".py",
      "mimetype": "text/x-python",
      "name": "python",
      "nbconvert_exporter": "python",
      "pygments_lexer": "ipython3",
      "version": "3.10.2"
    },
    "orig_nbformat": 4,
    "vscode": {
      "interpreter": {
        "hash": "6cb79c56556105f70b816d0fc1c0ed9aa393ed0bd100d1447e7250787036fb4a"
      }
    }
  },
  "nbformat": 4,
  "nbformat_minor": 0
}
