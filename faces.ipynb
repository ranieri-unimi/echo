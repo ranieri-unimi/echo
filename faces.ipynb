{
  "cells": [
    {
      "cell_type": "markdown",
      "metadata": {
        "id": "view-in-github",
        "colab_type": "text"
      },
      "source": [
        "<a href=\"https://colab.research.google.com/github/ranieri-unimi/faces-malchiodi-2022/blob/main/faces.ipynb\" target=\"_parent\"><img src=\"https://colab.research.google.com/assets/colab-badge.svg\" alt=\"Open In Colab\"/></a>"
      ]
    },
    {
      "cell_type": "markdown",
      "metadata": {
        "id": "RgQoZYRAWKCK"
      },
      "source": [
        "### run once"
      ]
    },
    {
      "cell_type": "code",
      "source": [
        "!pip install pyspark\n",
        "!pip install findspark"
      ],
      "metadata": {
        "id": "2uhwYor6WVuT",
        "outputId": "dedfce4e-98e4-417c-9f5b-8bd10e3a3795",
        "colab": {
          "base_uri": "https://localhost:8080/"
        }
      },
      "execution_count": 1,
      "outputs": [
        {
          "output_type": "stream",
          "name": "stdout",
          "text": [
            "Looking in indexes: https://pypi.org/simple, https://us-python.pkg.dev/colab-wheels/public/simple/\n",
            "Collecting pyspark\n",
            "  Downloading pyspark-3.3.0.tar.gz (281.3 MB)\n",
            "\u001b[K     |████████████████████████████████| 281.3 MB 49 kB/s \n",
            "\u001b[?25hCollecting py4j==0.10.9.5\n",
            "  Downloading py4j-0.10.9.5-py2.py3-none-any.whl (199 kB)\n",
            "\u001b[K     |████████████████████████████████| 199 kB 59.0 MB/s \n",
            "\u001b[?25hBuilding wheels for collected packages: pyspark\n",
            "  Building wheel for pyspark (setup.py) ... \u001b[?25l\u001b[?25hdone\n",
            "  Created wheel for pyspark: filename=pyspark-3.3.0-py2.py3-none-any.whl size=281764026 sha256=f1ffb4f3ead9f2d72a02ae255116abcd09a7c3c6da2786c92f4d6371f2a02776\n",
            "  Stored in directory: /root/.cache/pip/wheels/7a/8e/1b/f73a52650d2e5f337708d9f6a1750d451a7349a867f928b885\n",
            "Successfully built pyspark\n",
            "Installing collected packages: py4j, pyspark\n",
            "Successfully installed py4j-0.10.9.5 pyspark-3.3.0\n",
            "Looking in indexes: https://pypi.org/simple, https://us-python.pkg.dev/colab-wheels/public/simple/\n",
            "Collecting findspark\n",
            "  Downloading findspark-2.0.1-py2.py3-none-any.whl (4.4 kB)\n",
            "Installing collected packages: findspark\n",
            "Successfully installed findspark-2.0.1\n"
          ]
        }
      ]
    },
    {
      "cell_type": "code",
      "execution_count": 2,
      "metadata": {
        "id": "7mH3gc9TWKCM"
      },
      "outputs": [],
      "source": [
        "import os\n",
        "os.environ[\"KAGGLE_USERNAME\"] = 'ranieriunimi'\n",
        "os.environ[\"KAGGLE_KEY\"] = str(hex(232307088475198570779809482024044346960))[2:]"
      ]
    },
    {
      "cell_type": "code",
      "execution_count": 3,
      "metadata": {
        "id": "ngXoXE4KWKCN",
        "outputId": "eb6d911b-7b89-4399-dcdd-dee1be1e842e",
        "colab": {
          "base_uri": "https://localhost:8080/"
        }
      },
      "outputs": [
        {
          "output_type": "stream",
          "name": "stdout",
          "text": [
            "Downloading ukraine-russian-crisis-twitter-dataset-1-2-m-rows.zip to ./datasets\n",
            "100% 9.82G/9.85G [00:47<00:00, 233MB/s]\n",
            "100% 9.85G/9.85G [00:47<00:00, 222MB/s]\n"
          ]
        }
      ],
      "source": [
        "ref = 'bwandowando/ukraine-russian-crisis-twitter-dataset-1-2-m-rows'\n",
        "!mkdir datasets\n",
        "!kaggle datasets download $ref --unzip -p ./datasets"
      ]
    },
    {
      "cell_type": "markdown",
      "source": [
        "## ukraine"
      ],
      "metadata": {
        "id": "oAR7LusA5ZOK"
      }
    },
    {
      "cell_type": "code",
      "source": [
        "SAMPLE_SIZE = 10*1000"
      ],
      "metadata": {
        "id": "c1FjJN8F6ejg"
      },
      "execution_count": 4,
      "outputs": []
    },
    {
      "cell_type": "code",
      "execution_count": 5,
      "metadata": {
        "id": "sqGrV6XdWKCI"
      },
      "outputs": [],
      "source": [
        "import numpy as np\n",
        "import pandas as pd\n",
        "import csv\n",
        "import re\n",
        "import string\n",
        "import random"
      ]
    },
    {
      "cell_type": "code",
      "source": [
        "import pyspark\n",
        "import findspark"
      ],
      "metadata": {
        "id": "NrOTb9eEWSpB"
      },
      "execution_count": 6,
      "outputs": []
    },
    {
      "cell_type": "code",
      "execution_count": 7,
      "metadata": {
        "id": "VoA9_EouWKCO",
        "outputId": "062f24f5-9382-4a08-8f10-34fe717a7fb6",
        "colab": {
          "base_uri": "https://localhost:8080/"
        }
      },
      "outputs": [
        {
          "output_type": "stream",
          "name": "stderr",
          "text": [
            "/usr/local/lib/python3.7/dist-packages/IPython/core/interactiveshell.py:2882: DtypeWarning: Columns (15) have mixed types.Specify dtype option on import or set low_memory=False.\n",
            "  exec(code_obj, self.user_global_ns, self.user_ns)\n"
          ]
        }
      ],
      "source": [
        "# load dataset \n",
        "filename = r\"./datasets/UkraineCombinedTweetsDeduped20220227-131611.csv.gzip\"\n",
        "pd.set_option(\"display.max_columns\", None)\n",
        "df = pd.read_csv(filename, compression='gzip', index_col=0, encoding='utf-8', quoting=csv.QUOTE_ALL)"
      ]
    },
    {
      "cell_type": "markdown",
      "source": [
        "## data cleaning"
      ],
      "metadata": {
        "id": "i3RapMVFenPc"
      }
    },
    {
      "cell_type": "code",
      "execution_count": 8,
      "metadata": {
        "id": "_frlylt5WKCP"
      },
      "outputs": [],
      "source": [
        "df = df[df.language == 'en']"
      ]
    },
    {
      "cell_type": "code",
      "source": [
        "df = df.text.tolist()"
      ],
      "metadata": {
        "id": "FCWDtxA26udo"
      },
      "execution_count": 9,
      "outputs": []
    },
    {
      "cell_type": "code",
      "source": [
        "df = random.sample(df, SAMPLE_SIZE) if SAMPLE_SIZE else df"
      ],
      "metadata": {
        "id": "emrfoy_gS-33"
      },
      "execution_count": 10,
      "outputs": []
    },
    {
      "cell_type": "code",
      "execution_count": 11,
      "metadata": {
        "id": "5i9KWOCjWKCR"
      },
      "outputs": [],
      "source": [
        "def preprocess_tweet_text(tweet):\n",
        "    tweet = tweet.lower()\n",
        "    tweet = re.sub(r\"http\\S+|www\\S+|https\\S+\", '', tweet, flags=re.MULTILINE)\n",
        "    tweet = tweet.translate(str.maketrans(string.punctuation+'…’”“‘', ' '*(len(string.punctuation)+5)))  # puntctuation to spaces\n",
        "    tweet = ' '.join(tweet.strip().split())\n",
        "    return tweet"
      ]
    },
    {
      "cell_type": "markdown",
      "metadata": {
        "id": "REaNAuF2WKCS"
      },
      "source": [
        "## hadoop instance"
      ]
    },
    {
      "cell_type": "code",
      "execution_count": 12,
      "metadata": {
        "id": "1gMPGu1YWKCS"
      },
      "outputs": [],
      "source": [
        "from pyspark.sql import SparkSession\n",
        "\n",
        "spark = SparkSession.builder.master(\"local[*]\").getOrCreate()\n",
        "sc = spark.sparkContext"
      ]
    },
    {
      "cell_type": "code",
      "source": [
        "rdd = sc.parallelize(enumerate(df))"
      ],
      "metadata": {
        "id": "_Kll5uQHB5hg"
      },
      "execution_count": 13,
      "outputs": []
    },
    {
      "cell_type": "code",
      "source": [
        "rdd.take(7)"
      ],
      "metadata": {
        "id": "iUkPp6uoa0O4",
        "outputId": "db8d4b94-4e2f-4adc-b7c7-48f6d6c21cf3",
        "colab": {
          "base_uri": "https://localhost:8080/"
        }
      },
      "execution_count": 14,
      "outputs": [
        {
          "output_type": "execute_result",
          "data": {
            "text/plain": [
              "[(0,\n",
              "  '\"DO NOT DESPAIR... THE MISERY THAT IS NOW UPON US IS WORTH THE PASSING OF GREED... \"\\n#WWIII #worldwar3 #china #RussiaUkraine https://t.co/naJHVR0NOl'),\n",
              " (1, 'Atrillery attack from #Russia on #Ukraine https://t.co/svtRxjz8UN'),\n",
              " (2, 'Cut #Russia off from #Swift now'),\n",
              " (3, '#BREAKING: Mayor of Ukraine capital Kyiv orders curfew. (TASS)'),\n",
              " (4,\n",
              "  'On #Ukraine, PM @ImranKhanPTI has shared his belief that disputes should be resolved through dialogue and diplomacy - conflict is not in anyone’s interest. In terms of evacuations of the Pakistani community, @PakinUkraine is working round the clock to ensure safe evacuation.'),\n",
              " (5,\n",
              "  '#Putin has brainwashed the Russian military to attack Ukraine. \\n\\nJust like how #Trump brainwashed the #MAGA cult to attack the US Capitol.'),\n",
              " (6,\n",
              "  'Reports coming out of Ukraine of a soldier being nicknamed as the ‘Ukrainian Reaper’ who has killed over 20 Russian soldiers on his own.\\n\\nFollow us @UkraineRussiaa \\n.\\n#RussiaUkraine #UkraineUnderAttack #Ukrainians #RussiaUkraineWar #Ukraine #russianinvasion #RussiaInvadedUkraine https://t.co/jL88wyJFal')]"
            ]
          },
          "metadata": {},
          "execution_count": 14
        }
      ]
    },
    {
      "cell_type": "code",
      "source": [
        "def shiftkv(x) : return (x[-1], x[0])"
      ],
      "metadata": {
        "id": "X7ncVMmc_sI6"
      },
      "execution_count": 15,
      "outputs": []
    },
    {
      "cell_type": "code",
      "source": [
        "dataPipe = (rdd\n",
        "            .mapValues(preprocess_tweet_text)\n",
        "            .map(shiftkv)\n",
        "            .reduceByKey(min)\n",
        "            .map(shiftkv)\n",
        ")"
      ],
      "metadata": {
        "id": "8TJTiM7aB-vO"
      },
      "execution_count": 16,
      "outputs": []
    },
    {
      "cell_type": "code",
      "source": [
        "dataPipe.take(7)"
      ],
      "metadata": {
        "id": "6FwCMGxhcb4K",
        "outputId": "13c73170-3ebe-4643-d379-c89fd02f6456",
        "colab": {
          "base_uri": "https://localhost:8080/"
        }
      },
      "execution_count": 17,
      "outputs": [
        {
          "output_type": "execute_result",
          "data": {
            "text/plain": [
              "[(0,\n",
              "  'do not despair the misery that is now upon us is worth the passing of greed wwiii worldwar3 china russiaukraine'),\n",
              " (2, 'cut russia off from swift now'),\n",
              " (3, 'breaking mayor of ukraine capital kyiv orders curfew tass'),\n",
              " (6,\n",
              "  'reports coming out of ukraine of a soldier being nicknamed as the ukrainian reaper who has killed over 20 russian soldiers on his own follow us ukrainerussiaa russiaukraine ukraineunderattack ukrainians russiaukrainewar ukraine russianinvasion russiainvadedukraine'),\n",
              " (8, 'iran s calls for political solution to ukraine crisis ukrainerussia'),\n",
              " (10,\n",
              "  'ukraine the man whose car was rammed and crushed by alleged russian strela has been rescued kyiv oblast'),\n",
              " (11, 'find it so true man ukrainerussiawar unsc russiaukrainewar zelensky')]"
            ]
          },
          "metadata": {},
          "execution_count": 17
        }
      ]
    },
    {
      "cell_type": "code",
      "source": [
        "dataPipe.count()"
      ],
      "metadata": {
        "id": "qTypdpUNpOX_",
        "outputId": "2f486855-38da-4d21-f544-d2f3f75ce5ab",
        "colab": {
          "base_uri": "https://localhost:8080/"
        }
      },
      "execution_count": 18,
      "outputs": [
        {
          "output_type": "execute_result",
          "data": {
            "text/plain": [
              "6767"
            ]
          },
          "metadata": {},
          "execution_count": 18
        }
      ]
    },
    {
      "cell_type": "markdown",
      "source": [
        "### foos"
      ],
      "metadata": {
        "id": "5KLgYMu3DFUg"
      }
    },
    {
      "cell_type": "code",
      "source": [
        "!pip install crc16\n",
        "import crc16\n",
        "import binascii"
      ],
      "metadata": {
        "id": "sYUS1RzSpJeA",
        "outputId": "9cb6569e-403e-4753-8ca6-b705b5c7aae4",
        "colab": {
          "base_uri": "https://localhost:8080/"
        }
      },
      "execution_count": 19,
      "outputs": [
        {
          "output_type": "stream",
          "name": "stdout",
          "text": [
            "Looking in indexes: https://pypi.org/simple, https://us-python.pkg.dev/colab-wheels/public/simple/\n",
            "Collecting crc16\n",
            "  Downloading crc16-0.1.1.zip (20 kB)\n",
            "Building wheels for collected packages: crc16\n",
            "  Building wheel for crc16 (setup.py) ... \u001b[?25l\u001b[?25hdone\n",
            "  Created wheel for crc16: filename=crc16-0.1.1-cp37-cp37m-linux_x86_64.whl size=22884 sha256=c3a22f7db6dd2dc26496a42ca87259e7392cefa0d6932d59c6dff1daf29cc347\n",
            "  Stored in directory: /root/.cache/pip/wheels/2b/28/c3/e6303cf55de8a79c8c4b1528bd4b5f577d85debdbe916c0e2c\n",
            "Successfully built crc16\n",
            "Installing collected packages: crc16\n",
            "Successfully installed crc16-0.1.1\n"
          ]
        }
      ]
    },
    {
      "cell_type": "markdown",
      "source": [
        "### shingles"
      ],
      "metadata": {
        "id": "aEl3HXq_t3BN"
      }
    },
    {
      "cell_type": "code",
      "source": [
        "SH_LEN = 5"
      ],
      "metadata": {
        "id": "Kd6TFHOnzwH5"
      },
      "execution_count": 40,
      "outputs": []
    },
    {
      "cell_type": "code",
      "source": [
        "shigles = dataPipe.flatMap(lambda x : [(x[0], x[-1][i:i+SH_LEN]) for i in range(len(x[-1])-SH_LEN)]).distinct()"
      ],
      "metadata": {
        "id": "DiKs3Kllt2MB"
      },
      "execution_count": 41,
      "outputs": []
    },
    {
      "cell_type": "code",
      "source": [
        "shigles.take(7)"
      ],
      "metadata": {
        "id": "bIpn4oQ1ciK6",
        "outputId": "74ca65d9-7a87-4afe-d92c-2dcf57c435b8",
        "colab": {
          "base_uri": "https://localhost:8080/"
        }
      },
      "execution_count": 42,
      "outputs": [
        {
          "output_type": "execute_result",
          "data": {
            "text/plain": [
              "[(0, 'do no'),\n",
              " (0, 'o not'),\n",
              " (0, ' not '),\n",
              " (0, 'ot de'),\n",
              " (0, 't des'),\n",
              " (0, ' desp'),\n",
              " (0, 'despa')]"
            ]
          },
          "metadata": {},
          "execution_count": 42
        }
      ]
    },
    {
      "cell_type": "code",
      "source": [
        "def hashval(x):\n",
        "  bval = bytes(x, 'utf-8')\n",
        "  hval = binascii.crc32(bval) # 4 bytes\n",
        "  return hval"
      ],
      "metadata": {
        "id": "x_K47yb2hhxW"
      },
      "execution_count": 43,
      "outputs": []
    },
    {
      "cell_type": "code",
      "source": [
        "charactMx = shigles.mapValues(hashval).distinct()"
      ],
      "metadata": {
        "id": "GM0QrOF_gznU"
      },
      "execution_count": 44,
      "outputs": []
    },
    {
      "cell_type": "code",
      "source": [
        "charactMx.take(7)"
      ],
      "metadata": {
        "id": "Lriu-tTsc3FG",
        "outputId": "c72d637e-c626-4cbe-bd2f-d559dcce14bc",
        "colab": {
          "base_uri": "https://localhost:8080/"
        }
      },
      "execution_count": 45,
      "outputs": [
        {
          "output_type": "execute_result",
          "data": {
            "text/plain": [
              "[(0, 2318834904),\n",
              " (0, 4021045262),\n",
              " (0, 1025072606),\n",
              " (0, 4095394484),\n",
              " (0, 3847610256),\n",
              " (0, 4060343064),\n",
              " (0, 637951864)]"
            ]
          },
          "metadata": {},
          "execution_count": 45
        }
      ]
    },
    {
      "cell_type": "markdown",
      "source": [
        "### MinHashing"
      ],
      "metadata": {
        "id": "Cml_wQ0DO28d"
      }
    },
    {
      "cell_type": "code",
      "source": [
        "def RN(stop, start = 1) : return random.randrange(start,stop)\n",
        "def RB(B = 4) : return RN(2**(8*B-1),0)*2+1\n",
        "def PF(x, scale, shift, base) : return (scale * x + shift) % base"
      ],
      "metadata": {
        "id": "LT3TGML3simt"
      },
      "execution_count": 68,
      "outputs": []
    },
    {
      "cell_type": "code",
      "source": [
        "import random\n",
        "n_permfoo, b_bands = 120, 12\n",
        "\n",
        "(1 / b_bands)**(1 / (n_permfoo//b_bands)) # threshold"
      ],
      "metadata": {
        "id": "1PH-NSL2JB7q",
        "outputId": "6fe1b33b-c720-4b9f-a1dd-c3a7d564d6ee",
        "colab": {
          "base_uri": "https://localhost:8080/"
        }
      },
      "execution_count": 69,
      "outputs": [
        {
          "output_type": "execute_result",
          "data": {
            "text/plain": [
              "0.7799771419043033"
            ]
          },
          "metadata": {},
          "execution_count": 69
        }
      ]
    },
    {
      "cell_type": "code",
      "source": [
        "params = [ {'shift':RB(), 'scale':RB(), 'base':2**(8*4)} for _ in range(n_permfoo) ]\n",
        "params"
      ],
      "metadata": {
        "id": "9KTeytyy49L2",
        "colab": {
          "base_uri": "https://localhost:8080/"
        },
        "outputId": "deccfcea-17b7-4129-ea03-702f65873cc4"
      },
      "execution_count": 70,
      "outputs": [
        {
          "output_type": "execute_result",
          "data": {
            "text/plain": [
              "[{'base': 4294967296, 'scale': 2013516383, 'shift': 2130726695},\n",
              " {'base': 4294967296, 'scale': 1544659765, 'shift': 1887084175},\n",
              " {'base': 4294967296, 'scale': 2017383223, 'shift': 1327856977},\n",
              " {'base': 4294967296, 'scale': 998478385, 'shift': 441888351},\n",
              " {'base': 4294967296, 'scale': 2946498111, 'shift': 494915693},\n",
              " {'base': 4294967296, 'scale': 1556139163, 'shift': 2874047961},\n",
              " {'base': 4294967296, 'scale': 1082911121, 'shift': 3832844083},\n",
              " {'base': 4294967296, 'scale': 3657518145, 'shift': 30080683},\n",
              " {'base': 4294967296, 'scale': 3388874721, 'shift': 3537795959},\n",
              " {'base': 4294967296, 'scale': 2170844501, 'shift': 715464809},\n",
              " {'base': 4294967296, 'scale': 851762691, 'shift': 1712500825},\n",
              " {'base': 4294967296, 'scale': 3979007389, 'shift': 358842887},\n",
              " {'base': 4294967296, 'scale': 342419601, 'shift': 1555118181},\n",
              " {'base': 4294967296, 'scale': 2978732355, 'shift': 2993760945},\n",
              " {'base': 4294967296, 'scale': 2462155481, 'shift': 1927158107},\n",
              " {'base': 4294967296, 'scale': 179782089, 'shift': 4140875689},\n",
              " {'base': 4294967296, 'scale': 3150086285, 'shift': 2392211559},\n",
              " {'base': 4294967296, 'scale': 3492620735, 'shift': 192724863},\n",
              " {'base': 4294967296, 'scale': 3970283233, 'shift': 2474388821},\n",
              " {'base': 4294967296, 'scale': 90886943, 'shift': 1984769667},\n",
              " {'base': 4294967296, 'scale': 497433445, 'shift': 1502257115},\n",
              " {'base': 4294967296, 'scale': 1502069023, 'shift': 365098921},\n",
              " {'base': 4294967296, 'scale': 1675259911, 'shift': 665836723},\n",
              " {'base': 4294967296, 'scale': 3921284243, 'shift': 3543433765},\n",
              " {'base': 4294967296, 'scale': 2117568717, 'shift': 707535799},\n",
              " {'base': 4294967296, 'scale': 1931222537, 'shift': 2152420607},\n",
              " {'base': 4294967296, 'scale': 4109218317, 'shift': 2288693359},\n",
              " {'base': 4294967296, 'scale': 3440960043, 'shift': 800667479},\n",
              " {'base': 4294967296, 'scale': 437169275, 'shift': 2946759011},\n",
              " {'base': 4294967296, 'scale': 3201844839, 'shift': 3839134211},\n",
              " {'base': 4294967296, 'scale': 3844937207, 'shift': 1836439151},\n",
              " {'base': 4294967296, 'scale': 2853591825, 'shift': 1325258473},\n",
              " {'base': 4294967296, 'scale': 1910743839, 'shift': 505795221},\n",
              " {'base': 4294967296, 'scale': 2703241693, 'shift': 4203873693},\n",
              " {'base': 4294967296, 'scale': 3965435077, 'shift': 889782679},\n",
              " {'base': 4294967296, 'scale': 1970344745, 'shift': 799203251},\n",
              " {'base': 4294967296, 'scale': 3210469797, 'shift': 2622138319},\n",
              " {'base': 4294967296, 'scale': 2054017457, 'shift': 3496324285},\n",
              " {'base': 4294967296, 'scale': 1667034661, 'shift': 4234147143},\n",
              " {'base': 4294967296, 'scale': 3360129931, 'shift': 2310306015},\n",
              " {'base': 4294967296, 'scale': 4239937247, 'shift': 1837014181},\n",
              " {'base': 4294967296, 'scale': 7013323, 'shift': 667808823},\n",
              " {'base': 4294967296, 'scale': 3833593569, 'shift': 156562229},\n",
              " {'base': 4294967296, 'scale': 1913693111, 'shift': 1924426965},\n",
              " {'base': 4294967296, 'scale': 2361116759, 'shift': 4267150395},\n",
              " {'base': 4294967296, 'scale': 2809424143, 'shift': 826250903},\n",
              " {'base': 4294967296, 'scale': 272178481, 'shift': 3086092027},\n",
              " {'base': 4294967296, 'scale': 4029768407, 'shift': 2124463295},\n",
              " {'base': 4294967296, 'scale': 3063649973, 'shift': 1865684137},\n",
              " {'base': 4294967296, 'scale': 159094819, 'shift': 200565705},\n",
              " {'base': 4294967296, 'scale': 1234365059, 'shift': 1306008811},\n",
              " {'base': 4294967296, 'scale': 1121316877, 'shift': 926169853},\n",
              " {'base': 4294967296, 'scale': 1049784507, 'shift': 250039959},\n",
              " {'base': 4294967296, 'scale': 1391639437, 'shift': 2090695145},\n",
              " {'base': 4294967296, 'scale': 2729974139, 'shift': 2892860867},\n",
              " {'base': 4294967296, 'scale': 263218361, 'shift': 4142201847},\n",
              " {'base': 4294967296, 'scale': 3374737235, 'shift': 2221442423},\n",
              " {'base': 4294967296, 'scale': 2683703429, 'shift': 1169466047},\n",
              " {'base': 4294967296, 'scale': 1788176191, 'shift': 3195527759},\n",
              " {'base': 4294967296, 'scale': 400744081, 'shift': 1846914781},\n",
              " {'base': 4294967296, 'scale': 2110823999, 'shift': 549689835},\n",
              " {'base': 4294967296, 'scale': 3507584291, 'shift': 849654941},\n",
              " {'base': 4294967296, 'scale': 1123694981, 'shift': 2910942111},\n",
              " {'base': 4294967296, 'scale': 1937098299, 'shift': 1320032885},\n",
              " {'base': 4294967296, 'scale': 3609005747, 'shift': 161599959},\n",
              " {'base': 4294967296, 'scale': 17288677, 'shift': 648358177},\n",
              " {'base': 4294967296, 'scale': 4167779979, 'shift': 1910831119},\n",
              " {'base': 4294967296, 'scale': 754869233, 'shift': 1547165359},\n",
              " {'base': 4294967296, 'scale': 1781241123, 'shift': 1997702347},\n",
              " {'base': 4294967296, 'scale': 1954500291, 'shift': 2104955313},\n",
              " {'base': 4294967296, 'scale': 2855507069, 'shift': 417326511},\n",
              " {'base': 4294967296, 'scale': 3468342841, 'shift': 3274521701},\n",
              " {'base': 4294967296, 'scale': 1917566819, 'shift': 1918701877},\n",
              " {'base': 4294967296, 'scale': 3365927879, 'shift': 3312997121},\n",
              " {'base': 4294967296, 'scale': 749865415, 'shift': 3157641353},\n",
              " {'base': 4294967296, 'scale': 3367804247, 'shift': 3766554647},\n",
              " {'base': 4294967296, 'scale': 1257137133, 'shift': 2830510439},\n",
              " {'base': 4294967296, 'scale': 3453770277, 'shift': 1502807369},\n",
              " {'base': 4294967296, 'scale': 3738193117, 'shift': 4046478517},\n",
              " {'base': 4294967296, 'scale': 249420755, 'shift': 3233308501},\n",
              " {'base': 4294967296, 'scale': 3635119761, 'shift': 2438868403},\n",
              " {'base': 4294967296, 'scale': 1788686441, 'shift': 2295925769},\n",
              " {'base': 4294967296, 'scale': 572569803, 'shift': 2146876753},\n",
              " {'base': 4294967296, 'scale': 3717760371, 'shift': 2302113317},\n",
              " {'base': 4294967296, 'scale': 4184051637, 'shift': 2180670649},\n",
              " {'base': 4294967296, 'scale': 2722221169, 'shift': 2040804431},\n",
              " {'base': 4294967296, 'scale': 4145012213, 'shift': 4254471233},\n",
              " {'base': 4294967296, 'scale': 2377855227, 'shift': 1956485785},\n",
              " {'base': 4294967296, 'scale': 2911654173, 'shift': 3971848167},\n",
              " {'base': 4294967296, 'scale': 883039739, 'shift': 2493930007},\n",
              " {'base': 4294967296, 'scale': 1927007499, 'shift': 4273867131},\n",
              " {'base': 4294967296, 'scale': 2463512107, 'shift': 197071791},\n",
              " {'base': 4294967296, 'scale': 2388756143, 'shift': 3911347293},\n",
              " {'base': 4294967296, 'scale': 3974725857, 'shift': 23029653},\n",
              " {'base': 4294967296, 'scale': 1037579959, 'shift': 1671076763},\n",
              " {'base': 4294967296, 'scale': 2934720941, 'shift': 2469921845},\n",
              " {'base': 4294967296, 'scale': 2061118935, 'shift': 459745811},\n",
              " {'base': 4294967296, 'scale': 2485513739, 'shift': 920963821},\n",
              " {'base': 4294967296, 'scale': 3301613491, 'shift': 1507141671},\n",
              " {'base': 4294967296, 'scale': 729631819, 'shift': 1041704039},\n",
              " {'base': 4294967296, 'scale': 3911149649, 'shift': 2061090539},\n",
              " {'base': 4294967296, 'scale': 2746592507, 'shift': 3981142123},\n",
              " {'base': 4294967296, 'scale': 3862349763, 'shift': 2678203941},\n",
              " {'base': 4294967296, 'scale': 1545789433, 'shift': 1542665567},\n",
              " {'base': 4294967296, 'scale': 4012363519, 'shift': 4038076625},\n",
              " {'base': 4294967296, 'scale': 2417420767, 'shift': 452042375},\n",
              " {'base': 4294967296, 'scale': 3664623137, 'shift': 697366399},\n",
              " {'base': 4294967296, 'scale': 2609600047, 'shift': 2665629335},\n",
              " {'base': 4294967296, 'scale': 3356878557, 'shift': 2075803931},\n",
              " {'base': 4294967296, 'scale': 388802879, 'shift': 1347851057},\n",
              " {'base': 4294967296, 'scale': 619219591, 'shift': 3300272083},\n",
              " {'base': 4294967296, 'scale': 419898613, 'shift': 4225990669},\n",
              " {'base': 4294967296, 'scale': 2171009615, 'shift': 602535655},\n",
              " {'base': 4294967296, 'scale': 3208972713, 'shift': 1368602317},\n",
              " {'base': 4294967296, 'scale': 1701447167, 'shift': 793640035},\n",
              " {'base': 4294967296, 'scale': 2884992555, 'shift': 4052582463},\n",
              " {'base': 4294967296, 'scale': 1606779543, 'shift': 1350065387},\n",
              " {'base': 4294967296, 'scale': 2277670681, 'shift': 1338242291},\n",
              " {'base': 4294967296, 'scale': 168632265, 'shift': 3256787353},\n",
              " {'base': 4294967296, 'scale': 1911538077, 'shift': 2432578615}]"
            ]
          },
          "metadata": {},
          "execution_count": 70
        }
      ]
    },
    {
      "cell_type": "code",
      "source": [
        "def gen_perm(x):\n",
        "  doc, shingle = x\n",
        "  return [ ((doc, h), (shingle, h) ) for h in range(n_permfoo)]"
      ],
      "metadata": {
        "id": "rU2c-Bt6mHi-"
      },
      "execution_count": 71,
      "outputs": []
    },
    {
      "cell_type": "code",
      "source": [
        "minHashSignMx = (charactMx\n",
        "                 .flatMap(gen_perm)\n",
        "                 .reduceByKey(lambda a, b : a if PF(a[0], **params[a[-1]]) < PF(b[0], **params[a[-1]]) else b)\n",
        "                 .mapValues(lambda v : v[0])\n",
        ")\n",
        "# (doc, hash) , shingle"
      ],
      "metadata": {
        "id": "aF9vA8Mk7ZOX"
      },
      "execution_count": 72,
      "outputs": []
    },
    {
      "cell_type": "code",
      "source": [
        "minHashSignMx.take(7)"
      ],
      "metadata": {
        "id": "lt-9O9HGd2Uy",
        "outputId": "4ece3d79-dd72-4e25-f715-faf2bc1c2184",
        "colab": {
          "base_uri": "https://localhost:8080/"
        }
      },
      "execution_count": 73,
      "outputs": [
        {
          "output_type": "execute_result",
          "data": {
            "text/plain": [
              "[((0, 0), 531944130),\n",
              " ((0, 2), 3847610256),\n",
              " ((0, 4), 1400433706),\n",
              " ((0, 6), 3653533309),\n",
              " ((0, 8), 3585268625),\n",
              " ((0, 10), 4175520368),\n",
              " ((0, 12), 567660810)]"
            ]
          },
          "metadata": {},
          "execution_count": 73
        }
      ]
    },
    {
      "cell_type": "markdown",
      "source": [
        "### LSH"
      ],
      "metadata": {
        "id": "7Co_sAauPB29"
      }
    },
    {
      "cell_type": "code",
      "source": [
        "scale, shift = RN(b_bands), RN(b_bands)\n",
        "bandmap = (lambda x : PF(x, scale, shift, b_bands))"
      ],
      "metadata": {
        "id": "5xL6VFo_Wil-"
      },
      "execution_count": 74,
      "outputs": []
    },
    {
      "cell_type": "code",
      "source": [
        "def band_expand(x):\n",
        "  (doc, h), v = x\n",
        "  return ((doc, bandmap(h)), (h, v))\n",
        "\n",
        "def band_reduct(x):\n",
        "  (doc, band), a = x\n",
        "  return ((hash(tuple(a)), band), doc)"
      ],
      "metadata": {
        "id": "ZQ4H_GDeQmw3"
      },
      "execution_count": 75,
      "outputs": []
    },
    {
      "cell_type": "code",
      "source": [
        "bandMx = (minHashSignMx              # (doc, hashperm) , valshin\n",
        "          .map(band_expand)             # (doc, band) , (hashperm , valshin)\n",
        "          .groupByKey().mapValues(list)    # (doc, band) , [ (hashperm , valshin), (hashperm , valshin) ,(hashperm , valshin), ...]\n",
        "          .mapValues(lambda a : sorted(a, key=lambda x: x[0]))   # (doc, band) , [ (hashperm , valshin), (hashperm , valshin) ,(hashperm , valshin), ...] but sorted\n",
        "          .mapValues(lambda a : [v for _, v in a] )      # (doc, band) , [valshin, valshin, valshin]\n",
        ")"
      ],
      "metadata": {
        "id": "KmTzVfkGQGAp"
      },
      "execution_count": 76,
      "outputs": []
    },
    {
      "cell_type": "code",
      "source": [
        "bandMx.take(7)"
      ],
      "metadata": {
        "id": "xTDLgH0hHnoP",
        "outputId": "77787640-4c2d-4c23-9ce7-996d289043ac",
        "colab": {
          "base_uri": "https://localhost:8080/"
        }
      },
      "execution_count": 77,
      "outputs": [
        {
          "output_type": "execute_result",
          "data": {
            "text/plain": [
              "[((0, 6),\n",
              "  [901026131,\n",
              "   2959325322,\n",
              "   531944130,\n",
              "   2454390766,\n",
              "   2891949024,\n",
              "   1988200157,\n",
              "   518546981,\n",
              "   3847610256,\n",
              "   551827451,\n",
              "   1720809072]),\n",
              " ((0, 4),\n",
              "  [305718398,\n",
              "   2870458300,\n",
              "   76905862,\n",
              "   3473581423,\n",
              "   810485567,\n",
              "   4293022898,\n",
              "   1347333239,\n",
              "   4282597887,\n",
              "   4095394484,\n",
              "   2454390766]),\n",
              " ((0, 2),\n",
              "  [3708505255,\n",
              "   901026131,\n",
              "   2983904561,\n",
              "   3277007011,\n",
              "   3604591150,\n",
              "   2983904561,\n",
              "   1571788597,\n",
              "   2846681743,\n",
              "   231363539,\n",
              "   3296795597]),\n",
              " ((0, 0),\n",
              "  [147679802,\n",
              "   1720809072,\n",
              "   2398395017,\n",
              "   2931046475,\n",
              "   4282597887,\n",
              "   942146670,\n",
              "   1843785225,\n",
              "   637951864,\n",
              "   901026131,\n",
              "   2982624464]),\n",
              " ((0, 10),\n",
              "  [1397413727,\n",
              "   3585268625,\n",
              "   2982624464,\n",
              "   2738985294,\n",
              "   1026278435,\n",
              "   1626325540,\n",
              "   2454390766,\n",
              "   2132423132,\n",
              "   2959325322,\n",
              "   942146670]),\n",
              " ((0, 8),\n",
              "  [687136356,\n",
              "   2685941870,\n",
              "   3051758138,\n",
              "   3653533309,\n",
              "   1571788597,\n",
              "   625309798,\n",
              "   4293022898,\n",
              "   4095394484,\n",
              "   2891949024,\n",
              "   3949197236]),\n",
              " ((2, 6),\n",
              "  [3187861507,\n",
              "   3117458648,\n",
              "   2792558375,\n",
              "   4231793377,\n",
              "   375813966,\n",
              "   1071787255,\n",
              "   22341873,\n",
              "   1060748605,\n",
              "   2792558375,\n",
              "   2942535586])]"
            ]
          },
          "metadata": {},
          "execution_count": 77
        }
      ]
    },
    {
      "cell_type": "code",
      "source": [
        "bandBuckets = (bandMx\n",
        "    .map(band_reduct)                           # (HHH_valshin, band), doc\n",
        "    .groupByKey().mapValues(list)           # (HHH_valshin, band), [doc, doc, doc]\n",
        ")"
      ],
      "metadata": {
        "id": "3_XTgeXSHoON"
      },
      "execution_count": 78,
      "outputs": []
    },
    {
      "cell_type": "code",
      "source": [
        "lst = bandBuckets.filter(lambda x : len(x[1])>1).collect()\n",
        "lst[:7]"
      ],
      "metadata": {
        "id": "12MxsRNpz8wJ"
      },
      "execution_count": 79,
      "outputs": []
    },
    {
      "cell_type": "code",
      "source": [
        "adjlst = {tuple(sorted([v[i],v[j]])) for k, v in lst for i in range(len(v)-1) for j in range(i+1, len(v))}"
      ],
      "metadata": {
        "id": "Dzl25ZjYMqkP"
      },
      "execution_count": 83,
      "outputs": []
    },
    {
      "cell_type": "code",
      "source": [
        "import networkx as nx\n",
        "G = nx.Graph()\n",
        "G.add_edges_from(adjlst)\n",
        "canditates = [cc for cc in nx.connected_components(G) if len(cc) > 3]"
      ],
      "metadata": {
        "id": "lzqVoTjRN7HR"
      },
      "execution_count": 91,
      "outputs": []
    },
    {
      "cell_type": "code",
      "source": [
        "for v in canditates:\n",
        "  for i in v:\n",
        "    print(df[i])\n",
        "    print('---------------')\n",
        "  print('___________________________________________________________________________________________')"
      ],
      "metadata": {
        "id": "SbaLIYSw-rK2",
        "outputId": "9acb8654-f72e-492d-a849-a70c83c752cd",
        "colab": {
          "base_uri": "https://localhost:8080/"
        }
      },
      "execution_count": 92,
      "outputs": [
        {
          "output_type": "stream",
          "name": "stdout",
          "text": [
            "“When you attack us , You will see our faces , not our backs “\n",
            "~ #Ukraine president ✨ https://t.co/t3FuzrOJlQ\n",
            "---------------\n",
            "“When you attack us, You will see our faces, not our backs”\n",
            "\n",
            "~ Ukraine president ✊❤️ 🔥\n",
            "#UkraineRussiaWar #Russia #Ukraine \n",
            "#UkraineRussia #HelpUkraine https://t.co/LOFB2KrhYr\n",
            "---------------\n",
            "“When you attack us, You will see our faces, not our backs”\n",
            "~ Ukraine President Zelensky  🇺🇦 \n",
            "\n",
            "#UkraineRussiaWar #Russia #Ukraine #UkraineUnderAttack #UkraineRussiaConflict #UkraineRussiaCrisis https://t.co/BSNsq8UvH7\n",
            "---------------\n",
            "“When you attack us, You will see our faces, not our backs” #ukraine #Zelensky #UkraineUnderAttack 🌻 🇺🇦 https://t.co/VJUDrgw9gu\n",
            "---------------\n",
            "“When you attack us, You will see our faces, not our backs”\n",
            "\n",
            "~ Ukraine president ✊❤️ 🔥\n",
            "#UkraineRussiaWar #Russia #Ukraine \n",
            "https://t.co/HlYzQwu4rf https://t.co/Yh2elSTMgw\n",
            "---------------\n",
            "“When you attack us, You will see our faces, not our backs”~ Ukraine president ✊❤️ \n",
            "BE STRONG, BE COURAGEOUS 💪\n",
            "#UkraineRussiaWar #Russia #Ukraine https://t.co/in4nkIbbi1#UkraineRussiaWar\n",
            "---------------\n",
            "“When you attack us , You will see our faces , not our backs “\n",
            "~ #Ukraine president 💪❤️ https://t.co/hJMS6tnoMe\n",
            "---------------\n",
            "___________________________________________________________________________________________\n",
            "Two young Ukrainian children sending off soldiers to fight the Russians. The kids holding hands, the girl holds a stuffed animal, the boy (her brother?) salutes. Look what he has on his back. This picture speaks a thousand words.\n",
            "#UkraineUnderAttack \n",
            "#RussiaUkraineWar \n",
            "#worldwar3 https://t.co/sZriIxidzu\n",
            "---------------\n",
            "This photo brought tears to my eyes. Two young Ukrainian children sending off soldiers to fight the Russians. The kids holding hands, the girl holds a stuffed animal, the boy (her brother?) salutes. Look what he has on his back. This picture speaks a thousand words.\n",
            "#ukraine https://t.co/VqC6wccrGh\n",
            "---------------\n",
            "Two young Ukrainian children sending off soldiers to fight the Russians. The kids holding hands, the girl holds a stuffed animal, the boy (her brother?) salutes. Look what he has on his back. This picture speaks a thousand words.\n",
            "#ukraine https://t.co/U1QZ2K24UB\n",
            "---------------\n",
            "This photo brought tears to my eyes. Two young Ukrainian children sending off soldiers to fight the Russians. The kids holding hands, the girl holds a stuffed animal, the boy (her brother?) salutes. Look what he has on his back. This picture speaks a thousand \n",
            "\n",
            "#Ukraine #Russia https://t.co/cBjYUrebSy\n",
            "---------------\n",
            "This photo brought tears to my eyes. Two young Ukrainian children sending off soldiers to fight the Russians.The kids holding hands, the girl holds a stuffed animal,the boy (her brother?) salutes.Look what he has on his back.This picture speaks a thousand words.\n",
            "#ukraine #Russia https://t.co/NkJp3eMIYl\n",
            "---------------\n",
            "This photo brought tears to my eyes. Two young Ukrainian children sending off soldiers to fight the Russians. The kids holding hands, the girl holds a stuffed animal, the boy (her brother?) salutes. This picture speaks a thousand words.\n",
            "#UkraineRussia #RussiaUkraineWar #Russia https://t.co/n7r1BnQMJc\n",
            "---------------\n",
            "___________________________________________________________________________________________\n",
            "It will cost you $0.00 to Retweet and like....save a live♥️🫂\n",
            "Ukraine | Russia | China | NATO | World War III | #worldwar3 |#WWIII | Taiwan| Biden| Putin https://t.co/hmG705IRn4\n",
            "---------------\n",
            "It will cost you $0.00 to Retweet this. \n",
            "💔🥺\n",
            "Ukraine | Russia | China | NATO | World War III #worldwar3 #UkraineRussia https://t.co/u0LY8JkBNS\n",
            "---------------\n",
            "It will cost you $0.00 to Retweet this. \n",
            "\n",
            "Ukraine | Russia | China | NATO | World War III #worldwar3 https://t.co/vPCRkGVmpA\n",
            "---------------\n",
            "It will cost you $0.00 to Retweet this. \n",
            "\n",
            "Ukraine | Russia | China | NATO | World War III #worldwar3\n",
            "\n",
            " #worldwar3 https://t.co/nbZkT5yGFg\n",
            "---------------\n",
            "It will cost you nothing to retweet this\n",
            "\n",
            "Ukraine | Russia | China | NATO | World War III | North Korea \n",
            "\n",
            "#worldwar3 https://t.co/asomAmFR0c\n",
            "---------------\n",
            "___________________________________________________________________________________________\n",
            "#BREAKING | A father who sent his family to a safe zone bid farewell to his little girl and stayed behind to fight.\n",
            "\n",
            " #Ukraine #StopWar #Russia #StopRussianAggression https://t.co/nz5dsNweGa\n",
            "---------------\n",
            "⚠️#BREAKING | A father who sent his family to a safe zone bid farewell to his little girl and stayed behind to fight ...\n",
            "\n",
            " #Ukraine #Ukraina #Russia #Putin #WWIII #worldwar3 #UkraineRussie #RussiaUkraineConflict #RussiaInvadedUkraine https://t.co/vHGaCh6Z2i\n",
            "---------------\n",
            "⚠️#BREAKING | A father who sent his family to a safe zone bid farewell to his little girl and stayed behind to fight ...\n",
            "\n",
            " #Ukraine #Ukraina #Russia #Putin #WWIII #worldwar3 #UkraineRussie #RussiaUkraineConflict https://t.co/h6MKg4MA70\n",
            "---------------\n",
            "#BREAKING | A father who sent his family to a safe zone bid farewell to his little girl and stayed behind to fight ...\n",
            "\n",
            " #Ukraine #Ukraina #Russia #Putin https://t.co/6B2JDTMnGI\n",
            "---------------\n",
            "___________________________________________________________________________________________\n",
            "@KyivIndependent ⚠️⚠️⚠️ If you're in #Ukraine and reading this please turn geolocation off on your phone now. Russia is using it to track gatherings. Tell those around you to do the same.⚠️⚠️⚠️ by: anonymous\n",
            "\n",
            "PLEASE, SHARE! every care is important!!!!\n",
            "---------------\n",
            "⚠️ If you're in #Ukraine and reading this please turn geolocation off on your phone now. Russia is using it to track gatherings. Tell those around you to do the same. -Anonymous https://t.co/mMvpeg1Rdm\n",
            "---------------\n",
            "@nexta_tv ⚠️ If you're in #Ukraine and reading this please turn geolocation off on your phone now. Russia is using it to track gatherings. Tell those around you to do the same.\n",
            "---------------\n",
            "If you're in #Ukraine and reading this please turn geolocation off on your phone now. Russia is using it to track gatherings. Tell those around you to do the same.\n",
            "---------------\n",
            "⚠️ If you're in #Ukraine and reading this please turn geolocation off on your phone now. Russia is using it to track gatherings. Tell those around you to do the same.\n",
            "---------------\n",
            "___________________________________________________________________________________________\n",
            "@_MaiMercado #Ukrainians ask #NATO to bring their forces to #Ukraine ❗️\n",
            "At least to close the sky. To give shelter from the sky 🙏🏻\n",
            "And #CutoffRussiafromSWIFT\n",
            "---------------\n",
            "#Ukrainians ask #NATO to bring their forces to #Ukraine ❗️\n",
            "At least to close the sky. To give shelter from the sky...\n",
            "---------------\n",
            "#Ukrainians ask #NATO to bring their forces to #Ukraine ❗️\n",
            "At least to close the sky. To give shelter from the sky 🙏🏻\n",
            "And #CutoffRussiafromSWIFT\n",
            "---------------\n",
            "@anketka3 #Ukrainians ask #NATO to bring their forces to #Ukraine ❗️\n",
            "At least to close the sky. To give shelter from the sky 🙏🏻\n",
            "And #CutoffRussiafromSWIFT\n",
            "---------------\n",
            "___________________________________________________________________________________________\n",
            "Yesterday,this young amazing Ukrainian Soldier blows himself up to destroy a bridge to prevent Russian tanks from advancing! He is just one of the heroes who should be recognized. My heart breaks for his family&amp;friends\n",
            "#UkraineRussia #Ukraine #RussiaUkraineWar #UkraineUnderAttack https://t.co/luCNdo1Dit\n",
            "---------------\n",
            "This amazing Ukrainian Soldier blows himself up to destroy a bridge to prevent Russian tanks from advancing! He is just one of the heroes who should be recognized. \n",
            "\n",
            "#Ukraine #UkraineRussia #RussiaUkraineWar #UkraineUnderAttack https://t.co/BPkHYG8r5K\n",
            "---------------\n",
            "This young amazing Ukrainian Soldier blows himself up to destroy a bridge to prevent Russian tanks from advancing! He is just one of the heroes who should be recognized. SALUTE YOU 🏆\n",
            "\n",
            "#Ukraine #UkraineRussia #RussiaUkraineWar #UkraineUnderAttack https://t.co/1QiMAoBFYW\n",
            "---------------\n",
            "#RussiaInvadedUkraine\n",
            "This amazing Ukrainian Soldier blows himself up to destroy a bridge to prevent Russian tanks from advancing! He is just one of the heroes who should be recognized. \n",
            "\n",
            "#Ukraine #UkraineRussia #RussiaUkraineWar #UkraineUnderAttack https://t.co/veJR41CB3t\n",
            "---------------\n",
            "___________________________________________________________________________________________\n",
            "An 80-year-old showed up to join the Ukrainian army, carrying with him a small case with 2 t-shirts, a pair of extra pants, a toothbrush and a few sandwiches for lunch. He said he was doing it for his grandkids. 🇺🇦\n",
            "\n",
            "#Ukraine #war #Russia https://t.co/1DfVgxfWCY\n",
            "---------------\n",
            "An 80-year-old showed up to join the Ukrainian army, carrying with him a small case with 2 t-shirts, a pair of extra pants, a toothbrush and a few sandwiches for lunch. He said he was doing it for his grandkids. 🇺🇦\n",
            "\n",
            "#Ukraine #UkraineRussiaWar #Ukrania #Kyiv #Zelensky #Putin https://t.co/oIzjbo5hml\n",
            "---------------\n",
            "An 80-year-old showed up to join the Ukrainian army, carrying with him a small case with 2 t-shirts, a pair of extra pants, a toothbrush and a few sandwiches for lunch. He said he was doing it for his grandkids. \n",
            "\n",
            "#Ukraine 🇺🇦\n",
            "#Russia 🇷🇺\n",
            "#Belarus 🇧🇾 \n",
            "\n",
            "https://t.co/pENSgy6td8\n",
            "---------------\n",
            "An 80-year-old showed up to join the Ukrainian army, carrying with him a small case with 2 t-shirts, a pair of extra pants, a toothbrush and a few sandwiches for lunch. He said he was doing it for his grandkids. 🇺🇦\n",
            "\n",
            "#Ukraine https://t.co/PHo3jNjDZ5\n",
            "---------------\n",
            "This man is 80-year-old, showed up to join the Ukrainian army, carrying with him a small case with 2 t-shirts, a pair of extra pants, a toothbrush and a few sandwiches for lunch.\n",
            "He said he was doing it for his grandkids in #Ukraine https://t.co/8Q0YF6Z7fT\n",
            "---------------\n",
            "An 80-year-old showed up to join the Ukrainian army, carrying with him a small case with 2 t-shirts, a pair of extra pants, a toothbrush and a few sandwiches for lunch. He said he was doing it for his grandkids. 🇺🇦\n",
            "\n",
            "#Ukraine #UkraineRussiaWar #Ukrinian #Kyiv #Zelensky #Anonymous https://t.co/tjMwHgrndm\n",
            "---------------\n",
            "___________________________________________________________________________________________\n",
            "When all world leaders are hiding and afraid of Putin. This great man President Zelensky is defending country with his spirit...\n",
            "\n",
            "The only president in the world right now...\n",
            "\n",
            "#russianinvasion\n",
            "#Ukraine \n",
            "#RussiaUkraineWar \n",
            "#UkraineUnderAttack \n",
            "#IStandWithUkraine https://t.co/hC6hJRE2uK\n",
            "---------------\n",
            "When all world leaders are hiding and afraid of Putin. This great man President Zelensky is defending country with his spirit. 🇺🇦 \n",
            "\n",
            "#russianinvasion\n",
            "#Ukraine \n",
            "#RussiaUkraineWar \n",
            "#UkraineUnderAttack https://t.co/m0HSuhwkTh\n",
            "---------------\n",
            "When all world leaders are hiding and afraid of Putin. This great man President Zelensky is defending country with his spirit. \n",
            "#russianinvasion\n",
            "#Ukraine #RussiaUkraineWar https://t.co/zxC5vcv1Xa\n",
            "---------------\n",
            "When all world leaders are hiding and afraid of Putin. This great man President Zelensky is defending country with his spirit. 🇺🇦 \n",
            "\n",
            "#russianinvasion\n",
            "#Ukraine \n",
            "#RussiaUkraineWar \n",
            "#UkraineUnderAttack \n",
            "#RussiaUkraineWar \n",
            "#RussiaUkraineWarDay3 https://t.co/Gb7Lisxp26\n",
            "---------------\n",
            "___________________________________________________________________________________________\n",
            "In the end!! Only the innocent people and soldiers will pay the price🙂💔\n",
            "#Ukraine #UkraineRussia #Putin #UkraineInvasion #UkrainianArmy #แตงโม #Russia #UkraineRussiaConflict #ยูเครน https://t.co/3XhKMkDPzI https://t.co/qkXiCApPwm\n",
            "---------------\n",
            "In the end!! Only the innocent people and soldiers will pay the price🙂💔\n",
            "#Ukraine #UkraineRussia #Putin #UkraineInvasion #Ukrainian #แตงโม #Russia #UkraineRussiaConflict #ยูเครน https://t.co/tdsGClseJE\n",
            "---------------\n",
            "In the end!! Only the innocent people and soldiers will pay the price🙂💔\n",
            "#Ukraine #UkraineRussia #Putin #UkraineInvasion #Ukrainian #แตงโม #Russia https://t.co/hN4e1Xw1KM\n",
            "---------------\n",
            "In the end!! Only the innocent people and soldiers will pay the price🙂💔\n",
            "#Ukraine #UkraineRussia #Putin #UkraineInvasion #Ukrainian #แตงโม #Russia #UkraineRussiaConflict https://t.co/PIcJ6n4XLB\n",
            "---------------\n",
            "In the end!! Only the innocent people and soldiers will pay the price🙂💔\n",
            "#Ukraine #UkraineRussia #Putin #UkraineInvasion #Ukrainian  #Russia #UkraineRussiaConflict https://t.co/eUHC1bGRqP\n",
            "---------------\n",
            "___________________________________________________________________________________________\n",
            "#Ukraine \n",
            "\n",
            "Ukrainians wrecking Russian Motorized Infantry with Molotov cocktails at improvised roadblocks on the outskirts of Kyiv https://t.co/j8CjfQ0qqw\n",
            "---------------\n",
            "Ukrainians wrecking Russian Motorized Infantry with #Molotov cocktails at improvised roadblocks on the outskirts of #Kyiv, #Ukraine.\n",
            " https://t.co/A7lvr0G6Hh\n",
            "---------------\n",
            "@StreetArtUtopia 🇺🇦Ukrainians wrecking Russian Motorized Infantry with Molotov cocktails at improvised roadblocks on the outskirts of Kyiv, Ukraine.\n",
            "Stay strong Ukraine.💪\n",
            "❤️Ukraine❤️\n",
            "#Ukraine #Kyiv #zelenskiyy #Russian #Putin #NATO #Biden #USA #WorldWarIII https://t.co/5C862X4Yzo\n",
            "---------------\n",
            "@UKRinTR 🇺🇦Ukrainians wrecking Russian Motorized Infantry with Molotov cocktails at improvised roadblocks on the outskirts of Kyiv, Ukraine.\n",
            "Stay strong Ukraine.💪\n",
            "❤️Ukraine❤️\n",
            "#Ukraine #Kyiv #zelenskiyy #Russian #Putin #NATO #Biden #USA #WorldWarIII https://t.co/fEcak029hh\n",
            "---------------\n",
            "___________________________________________________________________________________________\n",
            "\"Bombs costing $100,000 from a plane that costs $100,000,000 flying at a cost of $40,000 an hour to kill people living on less than $1 a day.\"\n",
            "This is the shit they call war. \"\n",
            "#Ukraine #UkraineRussia #UkraineRussiaCrisis https://t.co/7TxUbz3h8b\n",
            "---------------\n",
            "~ \"Bombs costing $100,000 from a plane that costs $100,000,000 flying at a cost of $40,000 an hour to kill people living on less than $1 a day.\"\n",
            "This is the shit they call war. \"\n",
            "\n",
            "#putin #UkraineRussiaConflict #Russia #UkraineUnderAttack #ukraineRussia #UkraineRussiaCrisis https://t.co/QjNZeS5Veb\n",
            "---------------\n",
            "\"Bombs costing $100,000 from a plane that costs $100,000,000 flying at a cost of $40,000 an hour to kill people living on less than $1 a day.\"\n",
            "This is the shit they call war. \"\n",
            "\n",
            " #UkraineRussiaConflict #Russia #UkraineUnderAttack #UkraineRussiaWar #UkraineRussiaCrisis #Ukraine https://t.co/sVf4Ek7TkT\n",
            "---------------\n",
            "\"Bombs costing $100,000 from a plane that costs $100,000,000 flying at a cost of $40,000 an hour to kill people living on less than $1 a day.\"\n",
            "This is the shit they call war. \"\n",
            "\n",
            "#putin #UkraineRussiaConflict #Russia #UkraineUnderAttack #UkraineRussia #UkraineRussiaCrisis #Ukraine https://t.co/8BBtTwPxxI\n",
            "---------------\n",
            "___________________________________________________________________________________________\n"
          ]
        }
      ]
    },
    {
      "cell_type": "code",
      "source": [
        ""
      ],
      "metadata": {
        "id": "gn0HGjWC-zX5"
      },
      "execution_count": 59,
      "outputs": []
    }
  ],
  "metadata": {
    "interpreter": {
      "hash": "e2cd697ea1a65fb50dbc24e0f8485a2ca518dbc7d7a135f655e94e4f59b8539e"
    },
    "kernelspec": {
      "display_name": "Python 3.10.2 ('venv': venv)",
      "language": "python",
      "name": "python3"
    },
    "language_info": {
      "codemirror_mode": {
        "name": "ipython",
        "version": 3
      },
      "file_extension": ".py",
      "mimetype": "text/x-python",
      "name": "python",
      "nbconvert_exporter": "python",
      "pygments_lexer": "ipython3",
      "version": "3.10.2"
    },
    "orig_nbformat": 4,
    "colab": {
      "name": "ukraine.ipynb",
      "provenance": [],
      "include_colab_link": true
    },
    "accelerator": "GPU",
    "gpuClass": "standard"
  },
  "nbformat": 4,
  "nbformat_minor": 0
}