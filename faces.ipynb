{
  "cells": [
    {
      "cell_type": "markdown",
      "metadata": {
        "id": "view-in-github",
        "colab_type": "text"
      },
      "source": [
        "<a href=\"https://colab.research.google.com/github/ranieri-unimi/faces-malchiodi-2022/blob/main/faces.ipynb\" target=\"_parent\"><img src=\"https://colab.research.google.com/assets/colab-badge.svg\" alt=\"Open In Colab\"/></a>"
      ]
    },
    {
      "cell_type": "markdown",
      "metadata": {
        "id": "RgQoZYRAWKCK"
      },
      "source": [
        "### run once"
      ]
    },
    {
      "cell_type": "code",
      "source": [
        "!pip install pyspark\n",
        "!pip install findspark"
      ],
      "metadata": {
        "id": "2uhwYor6WVuT",
        "outputId": "25e21223-6d09-4bb1-bd61-e3d9a589dffb",
        "colab": {
          "base_uri": "https://localhost:8080/"
        }
      },
      "execution_count": 1,
      "outputs": [
        {
          "output_type": "stream",
          "name": "stdout",
          "text": [
            "Looking in indexes: https://pypi.org/simple, https://us-python.pkg.dev/colab-wheels/public/simple/\n",
            "Collecting pyspark\n",
            "  Downloading pyspark-3.3.0.tar.gz (281.3 MB)\n",
            "\u001b[K     |████████████████████████████████| 281.3 MB 49 kB/s \n",
            "\u001b[?25hCollecting py4j==0.10.9.5\n",
            "  Downloading py4j-0.10.9.5-py2.py3-none-any.whl (199 kB)\n",
            "\u001b[K     |████████████████████████████████| 199 kB 68.3 MB/s \n",
            "\u001b[?25hBuilding wheels for collected packages: pyspark\n",
            "  Building wheel for pyspark (setup.py) ... \u001b[?25l\u001b[?25hdone\n",
            "  Created wheel for pyspark: filename=pyspark-3.3.0-py2.py3-none-any.whl size=281764026 sha256=c148bfc1698a7e7546f68363fef059ec38c0a62972b720fbaabe94b9d34268ca\n",
            "  Stored in directory: /root/.cache/pip/wheels/7a/8e/1b/f73a52650d2e5f337708d9f6a1750d451a7349a867f928b885\n",
            "Successfully built pyspark\n",
            "Installing collected packages: py4j, pyspark\n",
            "Successfully installed py4j-0.10.9.5 pyspark-3.3.0\n",
            "Looking in indexes: https://pypi.org/simple, https://us-python.pkg.dev/colab-wheels/public/simple/\n",
            "Collecting findspark\n",
            "  Downloading findspark-2.0.1-py2.py3-none-any.whl (4.4 kB)\n",
            "Installing collected packages: findspark\n",
            "Successfully installed findspark-2.0.1\n"
          ]
        }
      ]
    },
    {
      "cell_type": "code",
      "execution_count": 2,
      "metadata": {
        "id": "7mH3gc9TWKCM"
      },
      "outputs": [],
      "source": [
        "import os\n",
        "os.environ[\"KAGGLE_USERNAME\"] = 'ranieriunimi'\n",
        "os.environ[\"KAGGLE_KEY\"] = str(hex(232307088475198570779809482024044346960))[2:]"
      ]
    },
    {
      "cell_type": "code",
      "execution_count": 3,
      "metadata": {
        "id": "ngXoXE4KWKCN",
        "outputId": "f6225ef9-afdb-4421-9e01-11967e90a675",
        "colab": {
          "base_uri": "https://localhost:8080/"
        }
      },
      "outputs": [
        {
          "output_type": "stream",
          "name": "stdout",
          "text": [
            "Downloading ukraine-russian-crisis-twitter-dataset-1-2-m-rows.zip to ./datasets\n",
            "100% 9.75G/9.76G [00:57<00:00, 191MB/s]\n",
            "100% 9.76G/9.76G [00:57<00:00, 184MB/s]\n"
          ]
        }
      ],
      "source": [
        "ref = 'bwandowando/ukraine-russian-crisis-twitter-dataset-1-2-m-rows'\n",
        "!mkdir datasets\n",
        "!kaggle datasets download $ref --unzip -p ./datasets"
      ]
    },
    {
      "cell_type": "markdown",
      "source": [
        "## ukraine"
      ],
      "metadata": {
        "id": "oAR7LusA5ZOK"
      }
    },
    {
      "cell_type": "code",
      "source": [
        "SAMPLE_SIZE = 2048"
      ],
      "metadata": {
        "id": "c1FjJN8F6ejg"
      },
      "execution_count": 4,
      "outputs": []
    },
    {
      "cell_type": "code",
      "execution_count": 5,
      "metadata": {
        "id": "sqGrV6XdWKCI"
      },
      "outputs": [],
      "source": [
        "import numpy as np\n",
        "import pandas as pd\n",
        "import csv\n",
        "import re\n",
        "import string\n",
        "import random"
      ]
    },
    {
      "cell_type": "code",
      "source": [
        "import pyspark\n",
        "import findspark"
      ],
      "metadata": {
        "id": "NrOTb9eEWSpB"
      },
      "execution_count": 6,
      "outputs": []
    },
    {
      "cell_type": "code",
      "execution_count": 7,
      "metadata": {
        "id": "VoA9_EouWKCO",
        "outputId": "2e183451-5132-42f2-b0fe-aba3eb1ff8da",
        "colab": {
          "base_uri": "https://localhost:8080/"
        }
      },
      "outputs": [
        {
          "output_type": "stream",
          "name": "stderr",
          "text": [
            "/usr/local/lib/python3.7/dist-packages/IPython/core/interactiveshell.py:2882: DtypeWarning: Columns (15) have mixed types.Specify dtype option on import or set low_memory=False.\n",
            "  exec(code_obj, self.user_global_ns, self.user_ns)\n"
          ]
        }
      ],
      "source": [
        "# load dataset \n",
        "filename = r\"./datasets/UkraineCombinedTweetsDeduped20220227-131611.csv.gzip\"\n",
        "pd.set_option(\"display.max_columns\", None)\n",
        "df = pd.read_csv(filename, compression='gzip', index_col=0, encoding='utf-8', quoting=csv.QUOTE_ALL)"
      ]
    },
    {
      "cell_type": "markdown",
      "source": [
        "## data cleaning"
      ],
      "metadata": {
        "id": "i3RapMVFenPc"
      }
    },
    {
      "cell_type": "code",
      "execution_count": 8,
      "metadata": {
        "id": "_frlylt5WKCP"
      },
      "outputs": [],
      "source": [
        "df = df[df.language == 'en']"
      ]
    },
    {
      "cell_type": "code",
      "source": [
        "df = df.text.tolist()"
      ],
      "metadata": {
        "id": "FCWDtxA26udo"
      },
      "execution_count": 9,
      "outputs": []
    },
    {
      "cell_type": "code",
      "source": [
        "df = random.sample(df, SAMPLE_SIZE) if SAMPLE_SIZE else df"
      ],
      "metadata": {
        "id": "emrfoy_gS-33"
      },
      "execution_count": 10,
      "outputs": []
    },
    {
      "cell_type": "code",
      "execution_count": 11,
      "metadata": {
        "id": "5i9KWOCjWKCR"
      },
      "outputs": [],
      "source": [
        "def preprocess_tweet_text(tweet):\n",
        "    tweet = tweet.lower()\n",
        "    tweet = re.sub(r\"http\\S+|www\\S+|https\\S+\", '', tweet, flags=re.MULTILINE)\n",
        "    tweet = tweet.translate(str.maketrans(string.punctuation+'…’”“', ' '*(len(string.punctuation)+4)))  # puntctuation to spaces\n",
        "    tweet = ' '.join(tweet.strip().split())\n",
        "    return tweet"
      ]
    },
    {
      "cell_type": "markdown",
      "metadata": {
        "id": "REaNAuF2WKCS"
      },
      "source": [
        "## hadoop instance"
      ]
    },
    {
      "cell_type": "code",
      "execution_count": 12,
      "metadata": {
        "id": "1gMPGu1YWKCS"
      },
      "outputs": [],
      "source": [
        "from pyspark.sql import SparkSession\n",
        "\n",
        "spark = SparkSession.builder.master(\"local[*]\").getOrCreate()\n",
        "sc = spark.sparkContext"
      ]
    },
    {
      "cell_type": "code",
      "source": [
        "rdd = sc.parallelize(enumerate(df))"
      ],
      "metadata": {
        "id": "_Kll5uQHB5hg"
      },
      "execution_count": 13,
      "outputs": []
    },
    {
      "cell_type": "code",
      "source": [
        "rdd.take(7)"
      ],
      "metadata": {
        "id": "iUkPp6uoa0O4",
        "outputId": "28883e83-a2b1-40bb-8b30-5716327b5bcb",
        "colab": {
          "base_uri": "https://localhost:8080/"
        }
      },
      "execution_count": 14,
      "outputs": [
        {
          "output_type": "execute_result",
          "data": {
            "text/plain": [
              "[(0,\n",
              "  \"Twitter  trends are a mess right now. We've got millions of people spreading misinformation and fake news. There are no reliable sources on #RussiaUkraineConflict: mostly pro-#Ukraine blatant propaganda, and a lot of #Antiputinism. Smartphones are dangerous at times like these.\"),\n",
              " (1,\n",
              "  '#Moldova President calls out flagrant violation of intl. law by #Russia, asks gov to declare state of emergency this evening, police patrols to intensify, requests people to be understanding and help Ukrainians. “We are ready to accommodate several tens of thousands of people”. https://t.co/BVmU1hbZ4r'),\n",
              " (2,\n",
              "  \"Until #Kharkiv surrenders #Russians soldiers don't want to fight against #Ukraine, these are fraternal Slavic races, reasons to fight too are absurd. https://t.co/eeCrcrywsM\"),\n",
              " (3,\n",
              "  'Find it so true man!\\n#UkraineRussiaWar #UNSC #RussiaUkraineWar #Zelensky https://t.co/bszlLrHMyf'),\n",
              " (4,\n",
              "  'Alleged video of #Russian helicopters attacking Hostomel town in the #Kyiv Oblast\\n\\n#RussiaUkraineConflict #Russia #Ukraine https://t.co/RlUTCI1Ieq'),\n",
              " (5,\n",
              "  'Russian people gathered against war saying no to war\\n#UkraineRussia\\n#RussiaUkraineWar https://t.co/hycLWSJllH'),\n",
              " (6,\n",
              "  '\"We won\\'t lay down any weapons\" - #Zelensky stays in #Kyiv https://t.co/M3kU32Sd8V')]"
            ]
          },
          "metadata": {},
          "execution_count": 14
        }
      ]
    },
    {
      "cell_type": "code",
      "source": [
        "def shiftkv(x) : return (x[-1], x[0])"
      ],
      "metadata": {
        "id": "X7ncVMmc_sI6"
      },
      "execution_count": 15,
      "outputs": []
    },
    {
      "cell_type": "code",
      "source": [
        "dataPipe = (rdd\n",
        "            .mapValues(preprocess_tweet_text)\n",
        "            .map(shiftkv)\n",
        "            .reduceByKey(min)\n",
        "            .map(shiftkv)\n",
        ")"
      ],
      "metadata": {
        "id": "8TJTiM7aB-vO"
      },
      "execution_count": 16,
      "outputs": []
    },
    {
      "cell_type": "code",
      "source": [
        "dataPipe.take(7)"
      ],
      "metadata": {
        "id": "6FwCMGxhcb4K",
        "outputId": "69cf6607-3897-4fea-850a-b27db6d8e0f1",
        "colab": {
          "base_uri": "https://localhost:8080/"
        }
      },
      "execution_count": 17,
      "outputs": [
        {
          "output_type": "execute_result",
          "data": {
            "text/plain": [
              "[(1,\n",
              "  'moldova president calls out flagrant violation of intl law by russia asks gov to declare state of emergency this evening police patrols to intensify requests people to be understanding and help ukrainians we are ready to accommodate several tens of thousands of people'),\n",
              " (2,\n",
              "  'until kharkiv surrenders russians soldiers don t want to fight against ukraine these are fraternal slavic races reasons to fight too are absurd'),\n",
              " (3, 'find it so true man ukrainerussiawar unsc russiaukrainewar zelensky'),\n",
              " (4,\n",
              "  'alleged video of russian helicopters attacking hostomel town in the kyiv oblast russiaukraineconflict russia ukraine'),\n",
              " (8,\n",
              "  'azerbaijan is have started photographing the military identity cards of armenian soldiers killed in artsakh in 2020 amp distributing them on 🇺🇦n websites as proof of the participation of the armenian military in hostilities in ukraine don t publish fake news re public press'),\n",
              " (9,\n",
              "  'zelenskyyua s tv address to the russian people might be the most moving speech that i ve ever seen in my entire life the whole world needs to see understand and share this crucial ukrainian message standwithukraine ukraine україна russia россия'),\n",
              " (12,\n",
              "  'the reality of biden vs putin world watching putin russiaukraineconflict with a possibility of worldwar3 russia ukraine wwiii')]"
            ]
          },
          "metadata": {},
          "execution_count": 17
        }
      ]
    },
    {
      "cell_type": "markdown",
      "source": [
        "### foos"
      ],
      "metadata": {
        "id": "5KLgYMu3DFUg"
      }
    },
    {
      "cell_type": "code",
      "source": [
        "!pip install crc16\n",
        "import crc16\n",
        "import binascii"
      ],
      "metadata": {
        "id": "sYUS1RzSpJeA",
        "outputId": "3e7dd623-8b19-4908-eff0-c3f41a3a89b9",
        "colab": {
          "base_uri": "https://localhost:8080/"
        }
      },
      "execution_count": 18,
      "outputs": [
        {
          "output_type": "stream",
          "name": "stdout",
          "text": [
            "Looking in indexes: https://pypi.org/simple, https://us-python.pkg.dev/colab-wheels/public/simple/\n",
            "Collecting crc16\n",
            "  Downloading crc16-0.1.1.zip (20 kB)\n",
            "Building wheels for collected packages: crc16\n",
            "  Building wheel for crc16 (setup.py) ... \u001b[?25l\u001b[?25hdone\n",
            "  Created wheel for crc16: filename=crc16-0.1.1-cp37-cp37m-linux_x86_64.whl size=22881 sha256=14e04903846816405ea17c20bae996c4d06e3f4373a2ba8027ebd2f4ce5216bf\n",
            "  Stored in directory: /root/.cache/pip/wheels/2b/28/c3/e6303cf55de8a79c8c4b1528bd4b5f577d85debdbe916c0e2c\n",
            "Successfully built crc16\n",
            "Installing collected packages: crc16\n",
            "Successfully installed crc16-0.1.1\n"
          ]
        }
      ]
    },
    {
      "cell_type": "markdown",
      "source": [
        "### shingles"
      ],
      "metadata": {
        "id": "aEl3HXq_t3BN"
      }
    },
    {
      "cell_type": "code",
      "source": [
        "SH_LEN = 9"
      ],
      "metadata": {
        "id": "Kd6TFHOnzwH5"
      },
      "execution_count": 19,
      "outputs": []
    },
    {
      "cell_type": "code",
      "source": [
        "shigles = dataPipe.flatMap(lambda x : [(x[0], x[-1][i:i+SH_LEN]) for i in range(len(x[-1])-SH_LEN)]).distinct()"
      ],
      "metadata": {
        "id": "DiKs3Kllt2MB"
      },
      "execution_count": 20,
      "outputs": []
    },
    {
      "cell_type": "code",
      "source": [
        "shigles.take(7)"
      ],
      "metadata": {
        "id": "bIpn4oQ1ciK6",
        "outputId": "8a06557e-ca89-4764-f125-623d69be517e",
        "colab": {
          "base_uri": "https://localhost:8080/"
        }
      },
      "execution_count": 21,
      "outputs": [
        {
          "output_type": "execute_result",
          "data": {
            "text/plain": [
              "[(1, 'moldova p'),\n",
              " (1, 'oldova pr'),\n",
              " (1, 'dova pres'),\n",
              " (1, 'ova presi'),\n",
              " (1, 'va presid'),\n",
              " (1, 'a preside'),\n",
              " (1, ' presiden')]"
            ]
          },
          "metadata": {},
          "execution_count": 21
        }
      ]
    },
    {
      "cell_type": "code",
      "source": [
        "def hashval(x):\n",
        "  bval = bytes(x, 'utf-8')\n",
        "  hval = binascii.crc32(bval) # 4 bytes\n",
        "  return hval"
      ],
      "metadata": {
        "id": "x_K47yb2hhxW"
      },
      "execution_count": 22,
      "outputs": []
    },
    {
      "cell_type": "code",
      "source": [
        "charactMx = shigles.mapValues(hashval).distinct()"
      ],
      "metadata": {
        "id": "GM0QrOF_gznU"
      },
      "execution_count": 23,
      "outputs": []
    },
    {
      "cell_type": "code",
      "source": [
        "charactMx.take(7)"
      ],
      "metadata": {
        "id": "Lriu-tTsc3FG",
        "outputId": "aaf9f6b4-6db4-464a-9474-0a0e81065bd7",
        "colab": {
          "base_uri": "https://localhost:8080/"
        }
      },
      "execution_count": 24,
      "outputs": [
        {
          "output_type": "execute_result",
          "data": {
            "text/plain": [
              "[(1, 951947353),\n",
              " (1, 2387657533),\n",
              " (1, 1661334129),\n",
              " (1, 2597531057),\n",
              " (1, 3999582881),\n",
              " (1, 605588507),\n",
              " (1, 1923190723)]"
            ]
          },
          "metadata": {},
          "execution_count": 24
        }
      ]
    },
    {
      "cell_type": "markdown",
      "source": [
        "### MinHashing"
      ],
      "metadata": {
        "id": "Cml_wQ0DO28d"
      }
    },
    {
      "cell_type": "code",
      "source": [
        "def RN(stop, start = 1) : return random.randrange(start,stop)\n",
        "def RB(B = 4) : return RN(2**(8*B-1),0)*2+1\n",
        "def PF(x, scale, shift, base) : return (scale * x + shift) % base"
      ],
      "metadata": {
        "id": "LT3TGML3simt"
      },
      "execution_count": 25,
      "outputs": []
    },
    {
      "cell_type": "code",
      "source": [
        "import random\n",
        "n_permfoo, b_bands = 15, 3\n",
        "\n",
        "(1 / b_bands)**(1 / (n_permfoo//b_bands)) # threshold"
      ],
      "metadata": {
        "id": "1PH-NSL2JB7q",
        "outputId": "6b8e9709-c434-4137-f1be-10f1afe6cb13",
        "colab": {
          "base_uri": "https://localhost:8080/"
        }
      },
      "execution_count": 26,
      "outputs": [
        {
          "output_type": "execute_result",
          "data": {
            "text/plain": [
              "0.8027415617602307"
            ]
          },
          "metadata": {},
          "execution_count": 26
        }
      ]
    },
    {
      "cell_type": "code",
      "source": [
        "params = [ {'shift':RB(), 'scale':RB(), 'base':2**(8*4)} for _ in range(n_permfoo) ]\n",
        "params"
      ],
      "metadata": {
        "id": "9KTeytyy49L2",
        "outputId": "8bfb7a17-d205-4aa1-d154-91993c0bc8fe",
        "colab": {
          "base_uri": "https://localhost:8080/"
        }
      },
      "execution_count": 27,
      "outputs": [
        {
          "output_type": "execute_result",
          "data": {
            "text/plain": [
              "[{'base': 4294967296, 'scale': 3781094775, 'shift': 277300205},\n",
              " {'base': 4294967296, 'scale': 1203808171, 'shift': 2718487213},\n",
              " {'base': 4294967296, 'scale': 3623957577, 'shift': 3464738027},\n",
              " {'base': 4294967296, 'scale': 183732079, 'shift': 2627346995},\n",
              " {'base': 4294967296, 'scale': 697574343, 'shift': 800712657},\n",
              " {'base': 4294967296, 'scale': 3302116531, 'shift': 668252617},\n",
              " {'base': 4294967296, 'scale': 1341339701, 'shift': 698456999},\n",
              " {'base': 4294967296, 'scale': 2625907173, 'shift': 4133601277},\n",
              " {'base': 4294967296, 'scale': 85380745, 'shift': 4191611121},\n",
              " {'base': 4294967296, 'scale': 2757249719, 'shift': 1892644733},\n",
              " {'base': 4294967296, 'scale': 1369746573, 'shift': 1494008949},\n",
              " {'base': 4294967296, 'scale': 347452949, 'shift': 1218373361},\n",
              " {'base': 4294967296, 'scale': 3737832663, 'shift': 1183785389},\n",
              " {'base': 4294967296, 'scale': 1489357413, 'shift': 2891422953},\n",
              " {'base': 4294967296, 'scale': 2321922795, 'shift': 2473456359}]"
            ]
          },
          "metadata": {},
          "execution_count": 27
        }
      ]
    },
    {
      "cell_type": "code",
      "source": [
        "def gen_perm(x):\n",
        "  doc, shingle = x\n",
        "  return [ ((doc, h), (shingle, h) ) for h in range(n_permfoo)]"
      ],
      "metadata": {
        "id": "rU2c-Bt6mHi-"
      },
      "execution_count": 28,
      "outputs": []
    },
    {
      "cell_type": "code",
      "source": [
        "minHashSignMx = (charactMx\n",
        "                 .flatMap(gen_perm)\n",
        "                 .reduceByKey(lambda a, b : a if PF(a[0], **params[a[-1]]) < PF(b[0], **params[a[-1]]) else b)\n",
        "                 .mapValues(lambda v : v[0])\n",
        ")\n",
        "# (doc, hash) , shingle"
      ],
      "metadata": {
        "id": "aF9vA8Mk7ZOX"
      },
      "execution_count": 29,
      "outputs": []
    },
    {
      "cell_type": "code",
      "source": [
        "minHashSignMx.take(7)"
      ],
      "metadata": {
        "id": "lt-9O9HGd2Uy",
        "outputId": "d1562e6b-8664-4388-fe1c-162de5e26ce4",
        "colab": {
          "base_uri": "https://localhost:8080/"
        }
      },
      "execution_count": 30,
      "outputs": [
        {
          "output_type": "execute_result",
          "data": {
            "text/plain": [
              "[((1, 1), 1886652996),\n",
              " ((1, 3), 1828456720),\n",
              " ((1, 5), 3703021807),\n",
              " ((1, 7), 1072751133),\n",
              " ((1, 9), 2918359914),\n",
              " ((1, 11), 652022045),\n",
              " ((1, 13), 322172028)]"
            ]
          },
          "metadata": {},
          "execution_count": 30
        }
      ]
    },
    {
      "cell_type": "markdown",
      "source": [
        "### LSH"
      ],
      "metadata": {
        "id": "7Co_sAauPB29"
      }
    },
    {
      "cell_type": "code",
      "source": [
        "scale, shift = RN(b_bands), RN(b_bands)\n",
        "bandmap = (lambda x : PF(x, scale, shift, b_bands))"
      ],
      "metadata": {
        "id": "5xL6VFo_Wil-"
      },
      "execution_count": 31,
      "outputs": []
    },
    {
      "cell_type": "code",
      "source": [
        "def band_expand(x):\n",
        "  (doc, h), v = x\n",
        "  return ((doc, bandmap(h)), (h, v))\n",
        "\n",
        "def band_reduct(x):\n",
        "  (doc, band), a = x\n",
        "  return ((hash(tuple(a)), band), doc)"
      ],
      "metadata": {
        "id": "ZQ4H_GDeQmw3"
      },
      "execution_count": 32,
      "outputs": []
    },
    {
      "cell_type": "code",
      "source": [
        "bandMx = (minHashSignMx              # (doc, hashperm) , valshin\n",
        "          .map(band_expand)             # (doc, band) , (hashperm , valshin)\n",
        "          .groupByKey().mapValues(list)    # (doc, band) , [ (hashperm , valshin), (hashperm , valshin) ,(hashperm , valshin), ...]\n",
        "          .mapValues(lambda a : sorted(a, key=lambda x: x[0]))   # (doc, band) , [ (hashperm , valshin), (hashperm , valshin) ,(hashperm , valshin), ...] but sorted\n",
        "          .mapValues(lambda a : [v for _, v in a] )      # (doc, band) , [valshin, valshin, valshin]\n",
        ")"
      ],
      "metadata": {
        "id": "KmTzVfkGQGAp"
      },
      "execution_count": 33,
      "outputs": []
    },
    {
      "cell_type": "code",
      "source": [
        "bandMx.take(7)"
      ],
      "metadata": {
        "id": "xTDLgH0hHnoP",
        "outputId": "4626f003-ef41-4107-bd20-0e0bd3245713",
        "colab": {
          "base_uri": "https://localhost:8080/"
        }
      },
      "execution_count": 34,
      "outputs": [
        {
          "output_type": "execute_result",
          "data": {
            "text/plain": [
              "[((1, 1), [1886652996, 3780031641, 1072751133, 3525282744, 322172028]),\n",
              " ((2, 2), [1333213944, 874229319, 2456131725, 4090047460, 3435266648]),\n",
              " ((2, 0), [1548488324, 2690361315, 315579151, 2506062748, 4165066784]),\n",
              " ((3, 1), [2836851489, 1577500677, 4203223442, 137454761, 2837494594]),\n",
              " ((4, 2), [134623952, 966194064, 471681518, 3938065016, 519034470]),\n",
              " ((4, 0), [2653825398, 1223856657, 966194064, 1806892112, 267726213]),\n",
              " ((8, 2), [1889003806, 990726201, 4271650572, 2244851893, 3435266648])]"
            ]
          },
          "metadata": {},
          "execution_count": 34
        }
      ]
    },
    {
      "cell_type": "code",
      "source": [
        "bandBuckets = (bandMx\n",
        "    .map(band_reduct)                           # (HHH_valshin, band), doc\n",
        "    .groupByKey().mapValues(list)           # (HHH_valshin, band), [doc, doc, doc]\n",
        ")"
      ],
      "metadata": {
        "id": "3_XTgeXSHoON"
      },
      "execution_count": 35,
      "outputs": []
    },
    {
      "cell_type": "code",
      "source": [
        "lst = bandBuckets.filter(lambda x : len(x[1])>1).collect()"
      ],
      "metadata": {
        "id": "12MxsRNpz8wJ"
      },
      "execution_count": 36,
      "outputs": []
    },
    {
      "cell_type": "code",
      "source": [
        "lst"
      ],
      "metadata": {
        "id": "RU7Fve-pHyRG",
        "outputId": "4519e409-7771-49d0-e575-e7451319b8e8",
        "colab": {
          "base_uri": "https://localhost:8080/"
        }
      },
      "execution_count": 37,
      "outputs": [
        {
          "output_type": "execute_result",
          "data": {
            "text/plain": [
              "[((-5082129318915723509, 1), [31, 630]),\n",
              " ((-949560924248017008, 0), [36, 390]),\n",
              " ((6454236028692777106, 0), [90, 1050]),\n",
              " ((3068132518927323487, 2), [196, 1467]),\n",
              " ((913465999955253914, 0), [834, 355]),\n",
              " ((1514760888328223531, 1), [1033, 1045]),\n",
              " ((7803105975657921354, 1), [1199, 1734]),\n",
              " ((-6208552943985150898, 0), [1734, 1199]),\n",
              " ((6706672621367873397, 1), [201, 1404]),\n",
              " ((3550413957492532448, 1), [503, 1447]),\n",
              " ((9160511746229587954, 1), [637, 1469]),\n",
              " ((8055471250737602757, 2), [1404, 201]),\n",
              " ((-1883484680940027095, 1), [36, 390]),\n",
              " ((8121972216558314202, 1), [90, 1050]),\n",
              " ((8416296035383183707, 0), [591, 67]),\n",
              " ((-2694771494769646978, 1), [712, 232]),\n",
              " ((-2540336970540313367, 0), [1033, 1045]),\n",
              " ((-1457824966954666694, 2), [2011, 1197]),\n",
              " ((-8739385336650314657, 0), [503, 1447]),\n",
              " ((7886086883478047490, 2), [12, 599]),\n",
              " ((197303549563865873, 0), [12, 599]),\n",
              " ((4654249619368547339, 2), [36, 390]),\n",
              " ((8452797353214569670, 2), [220, 586]),\n",
              " ((6682962306036711474, 1), [241, 1389]),\n",
              " ((6230399183268835226, 1), [355, 834]),\n",
              " ((8882866858157316116, 2), [834, 355]),\n",
              " ((2003436013397552276, 1), [849, 1178]),\n",
              " ((-4668122994301883233, 0), [1178, 849]),\n",
              " ((-5429477581844720465, 2), [1304, 1547]),\n",
              " ((-2673150406332209138, 2), [1734, 1199]),\n",
              " ((-9222767324313127041, 1), [799, 1346]),\n",
              " ((-782620694834749949, 0), [1404, 201]),\n",
              " ((-5709559682228734221, 0), [153, 375]),\n",
              " ((3581695892301542265, 1), [220, 586]),\n",
              " ((-7741913209224761310, 0), [595, 1517]),\n",
              " ((-2833482328663920794, 0), [733, 1943]),\n",
              " ((1485729312599103641, 0), [1049, 1399]),\n",
              " ((4330835352648968154, 2), [1447, 1555])]"
            ]
          },
          "metadata": {},
          "execution_count": 37
        }
      ]
    },
    {
      "cell_type": "code",
      "source": [
        "for v in dict(lst).values():\n",
        "  for i in v:\n",
        "    print(df[i])\n",
        "    print('---------------')\n",
        "  print('___________________________________________________________________________________________')"
      ],
      "metadata": {
        "id": "SbaLIYSw-rK2",
        "outputId": "501e3e9a-34a1-4c2e-8408-22423eb34e6a",
        "colab": {
          "base_uri": "https://localhost:8080/"
        }
      },
      "execution_count": 38,
      "outputs": [
        {
          "output_type": "stream",
          "name": "stdout",
          "text": [
            "@coingecko @NEARProtocol We want to live in peace. We don't want war. This is a NFT for brotherhood.\n",
            "https://t.co/8n7xH4llEW\n",
            "@opensea @opensea__nft #openseanft #opensea #NFT #NFTs #Ukraina #Russia #RussiaUkraineConflict #RussiaUkraine #UkraineRussia #war #NFTCommunity #nftcollector #NoWar #nowarinukraine https://t.co/gzGkCfHonx\n",
            "---------------\n",
            "@babelonNFT We want to live in peace. We don't want war. This is a NFT for brotherhood.\n",
            "https://t.co/8n7xH4llEW\n",
            "@opensea @opensea__nft #openseanft #opensea #NFT #NFTs #Ukraina #Russia #RussiaUkraineConflict #RussiaUkraine #UkraineRussia #war #NFTCommunity #nftcollector #NoWar #nowarinukraine https://t.co/qL6Y38YAIM\n",
            "---------------\n",
            "___________________________________________________________________________________________\n",
            "RT, SPREAD AND SHARE, YOU CAN HELP UKRAINE #Ukraine #Russia https://t.co/4Lq1Jjs6wc\n",
            "---------------\n",
            "SPREAD AND SHARE, YOU CAN HELP UKRAINE #Ukraine #Russia https://t.co/rp2IFCKMi3\n",
            "---------------\n",
            "___________________________________________________________________________________________\n",
            "#Ukraine\n",
            "Ukrainians wrecking Russian Motorized Infantry with Molotov cocktails at improvised roadblocks on the outskirts of Kyiv https://t.co/FWQzGiu20p\n",
            "---------------\n",
            "Ukrainians wrecking Russian Motorized Infantry with #Molotov cocktails at improvised roadblocks on the outskirts of #Kyiv, #Ukraine.\n",
            " https://t.co/A7lvr0G6Hh\n",
            "---------------\n",
            "___________________________________________________________________________________________\n",
            "Russian embassy's gate in Dublin has been painted with blood red. And very rightly so.\n",
            "\n",
            "#Ukraine #Ukrainian #Kiev\n",
            "#RussiaUkraine #BidenIsAFailure \n",
            "#Kyiv #WWIII https://t.co/t3E23069Ul\n",
            "---------------\n",
            "Russian embassy's gate in Dublin has been painted with blood red. And very rightly so.\n",
            "\n",
            "#Ukraine #PutinIsaWarCriminal \n",
            "#RussiaUkraine #BidenIsAFailure \n",
            "#Kyiv #WWIII https://t.co/PIAVe0UqfK\n",
            "---------------\n",
            "___________________________________________________________________________________________\n",
            "Pres. Volodymyr Zelensky drinks coffee in his military base defending the capital, Kiev against Russians.\n",
            "NO PRESIDENT HAS EVER DONE THIS! 😱\n",
            "\n",
            " #Ukraine #Russia #Kiyv #UkraineRussia #UkraineUnderAttack #UkraineWar #RT https://t.co/647blKUSKm\n",
            "---------------\n",
            "Pres. Volodymyr Zelensky drinks coffee in his military base defending the capital, Kiev against Russians.\n",
            "NO PRESIDENT HAS EVER DONE THIS! 😱\n",
            "\n",
            " #Ukraine #Russia #Kiyv #UkraineRussia #UkraineUnderAttack #UkraineWar https://t.co/je1A7hARt2\n",
            "---------------\n",
            "___________________________________________________________________________________________\n",
            "This photo brought tears to my eyes. Two young Ukrainian children sending off soldiers to fight the Russians. The kids holding hands, the girl holds a stuffed animal, the boy (her brother?) salutes. Look what he has on his back. This picture speaks a thousand words.\n",
            "#ukraine https://t.co/VqC6wccrGh\n",
            "---------------\n",
            "This photo brought tears to my eyes. Two young Ukrainian children sending off soldiers to fight the Russians. The kids holding hands, the girl holds a stuffed animal, the boy (her brother?) salutes. This picture speaks a thousand words.\n",
            "#UkraineRussia #RussiaUkraineWar #Russia https://t.co/n7r1BnQMJc\n",
            "---------------\n",
            "___________________________________________________________________________________________\n",
            "#Ukraine Manchester United and Watford potray a sense of Unity and solidarity as protest against Russia's invasion of Ukraine 🇺🇦 before kick-off. ⚽️ Glory ManUnited. 🙏\n",
            "#Ukraine #UkraineUnderAttack #Kiev #RussiaUkraineWar #Kyiv #StopRussianAggression https://t.co/sX1bU1iWXZ\n",
            "---------------\n",
            "Manchester United and Watford potray a sense of Unity and solidarity as protest against Russia's invasion of Ukraine 🇺🇦 before kick-off. ⚽️ Glory ManUnited. 🙏\n",
            "#Ukraine #UkraineUnderAttack #Kiev #RussiaUkraineWar #Kyiv #StopRussianAggression https://t.co/RogCzjBu4L\n",
            "---------------\n",
            "___________________________________________________________________________________________\n",
            "Manchester United and Watford potray a sense of Unity and solidarity as protest against Russia's invasion of Ukraine 🇺🇦 before kick-off. ⚽️ Glory ManUnited. 🙏\n",
            "#Ukraine #UkraineUnderAttack #Kiev #RussiaUkraineWar #Kyiv #StopRussianAggression https://t.co/RogCzjBu4L\n",
            "---------------\n",
            "#Ukraine Manchester United and Watford potray a sense of Unity and solidarity as protest against Russia's invasion of Ukraine 🇺🇦 before kick-off. ⚽️ Glory ManUnited. 🙏\n",
            "#Ukraine #UkraineUnderAttack #Kiev #RussiaUkraineWar #Kyiv #StopRussianAggression https://t.co/sX1bU1iWXZ\n",
            "---------------\n",
            "___________________________________________________________________________________________\n",
            "⚠️ If you're in #Ukraine and reading this please turn geolocation off on your phone now. Russia is using it to track gatherings. Tell those around you to do the same.\n",
            "---------------\n",
            "⚠️ If you're in Ukraine and reading this please turn geolocation off on your phone now. Russia is using it to track gatherings. Tell those around you to do the same. \n",
            "\n",
            "#RussianArmy \n",
            "#UkraineRussiaWar \n",
            "#Ukraine\n",
            "---------------\n",
            "___________________________________________________________________________________________\n",
            "We call all hackers and digital activists to be united as one. If this war is not won with weapons, it will be won with cyberweapons. Democracy and freedom will destroy fascism and imperialism. #Anonymous #OpRussia #Ukraine #Russia. https://t.co/aRcFWYjFSP\n",
            "---------------\n",
            "We call all hackers and digital activists to be united as one. If this war is not won with weapons, it will be won with cyberweapons. Democracy and freedom will destroy fascism and imperialism. #Anonymous #OpRussia #Ukraine #Russia #Putin . https://t.co/gWxbLMvOuj\n",
            "---------------\n",
            "___________________________________________________________________________________________\n",
            "Ukrainians let a captured Russian soldier to call his parents and inform them that he was a part of the invading army.  #Ukraine #Russia #Putin #Kiev https://t.co/Vfp10Iiubz\n",
            "---------------\n",
            "#UkraineRussia #ukraine\n",
            "Ukrainian let a captured Russian soldier to call his parents and inform them that he was a part of the invading army. https://t.co/0EUHobQsUC\n",
            "---------------\n",
            "___________________________________________________________________________________________\n",
            "⚠️ If you're in Ukraine and reading this please turn geolocation off on your phone now. Russia is using it to track gatherings. Tell those around you to do the same. \n",
            "\n",
            "#RussianArmy \n",
            "#UkraineRussiaWar \n",
            "#Ukraine\n",
            "---------------\n",
            "⚠️ If you're in #Ukraine and reading this please turn geolocation off on your phone now. Russia is using it to track gatherings. Tell those around you to do the same.\n",
            "---------------\n",
            "___________________________________________________________________________________________\n",
            "RT, SPREAD AND SHARE, YOU CAN HELP UKRAINE #Ukraine #Russia https://t.co/4Lq1Jjs6wc\n",
            "---------------\n",
            "SPREAD AND SHARE, YOU CAN HELP UKRAINE #Ukraine #Russia https://t.co/rp2IFCKMi3\n",
            "---------------\n",
            "___________________________________________________________________________________________\n",
            "#Ukraine\n",
            "Ukrainians wrecking Russian Motorized Infantry with Molotov cocktails at improvised roadblocks on the outskirts of Kyiv https://t.co/FWQzGiu20p\n",
            "---------------\n",
            "Ukrainians wrecking Russian Motorized Infantry with #Molotov cocktails at improvised roadblocks on the outskirts of #Kyiv, #Ukraine.\n",
            " https://t.co/A7lvr0G6Hh\n",
            "---------------\n",
            "___________________________________________________________________________________________\n",
            "\"The Ghost Of Kyiv\"#Ukraine #ghostofkyiv https://t.co/9uIn7w3HXp\n",
            "---------------\n",
            "Ghost of Kyiv revealed #Ukraine #ghostofkyiv #UkraineRussia https://t.co/lLkYBteXKk\n",
            "---------------\n",
            "___________________________________________________________________________________________\n",
            "In #Novosibirsk, #Russia, local residents are marching in #protest against the Russian invasion of #Ukraine #RussiaUkraineConflict https://t.co/uItp1AlZMy\n",
            "---------------\n",
            "In #Novosibirsk, #Russia, local residents are marching in #protest against the Russian invasion of #Ukraine:\n",
            "\n",
            "https://t.co/LjgAosDJXg\n",
            "---------------\n",
            "___________________________________________________________________________________________\n",
            "This photo brought tears to my eyes. Two young Ukrainian children sending off soldiers to fight the Russians. The kids holding hands, the girl holds a stuffed animal, the boy (her brother?) salutes. Look what he has on his back. This picture speaks a thousand words.\n",
            "#ukraine https://t.co/VqC6wccrGh\n",
            "---------------\n",
            "This photo brought tears to my eyes. Two young Ukrainian children sending off soldiers to fight the Russians. The kids holding hands, the girl holds a stuffed animal, the boy (her brother?) salutes. This picture speaks a thousand words.\n",
            "#UkraineRussia #RussiaUkraineWar #Russia https://t.co/n7r1BnQMJc\n",
            "---------------\n",
            "___________________________________________________________________________________________\n",
            "A fire in an apartment building after an air attack on Kyiv.\n",
            "#Russia #Ukraine #Kiev #Kyiv #subwaystation #RussiaInvadedUkraine #russianinvasion #Ukraine #UkraineRussiaConflict #Putin\n",
            "https://t.co/LAYq6WRUOB\n",
            "---------------\n",
            "Emotional video #Ukraine soldiers.\n",
            "\n",
            "#Russia #Ukraine #Kiev #Kyiv #subwaystation #RussiaInvadedUkraine #russianinvasion #Ukraine #UkraineRussiaConflict #Putin https://t.co/CH7hqkZxzk\n",
            "---------------\n",
            "___________________________________________________________________________________________\n",
            "We call all hackers and digital activists to be united as one. If this war is not won with weapons, it will be won with cyberweapons. Democracy and freedom will destroy fascism and imperialism. #Anonymous #OpRussia #Ukraine #Russia. https://t.co/aRcFWYjFSP\n",
            "---------------\n",
            "We call all hackers and digital activists to be united as one. If this war is not won with weapons, it will be won with cyberweapons. Democracy and freedom will destroy fascism and imperialism. #Anonymous #OpRussia #Ukraine #Russia #Putin . https://t.co/gWxbLMvOuj\n",
            "---------------\n",
            "___________________________________________________________________________________________\n",
            "The reality of Biden vs Putin. World watching Putin #RussiaUkraineConflict with a possibility of #worldwar3\n",
            "\n",
            "#Russia #Ukraine #WWIII https://t.co/bMSd3BAgFC\n",
            "---------------\n",
            "The reality of Biden vs Putin. World watching Putin... #RussiaUkraineConflict with a possibility of #worldwar3  \n",
            "\n",
            "#Russia #Ukraine #UkraineRussiaConflict #WWIII https://t.co/yqpMQ2aIyO\n",
            "---------------\n",
            "___________________________________________________________________________________________\n",
            "The reality of Biden vs Putin. World watching Putin #RussiaUkraineConflict with a possibility of #worldwar3\n",
            "\n",
            "#Russia #Ukraine #WWIII https://t.co/bMSd3BAgFC\n",
            "---------------\n",
            "The reality of Biden vs Putin. World watching Putin... #RussiaUkraineConflict with a possibility of #worldwar3  \n",
            "\n",
            "#Russia #Ukraine #UkraineRussiaConflict #WWIII https://t.co/yqpMQ2aIyO\n",
            "---------------\n",
            "___________________________________________________________________________________________\n",
            "RT, SPREAD AND SHARE, YOU CAN HELP UKRAINE #Ukraine #Russia https://t.co/4Lq1Jjs6wc\n",
            "---------------\n",
            "SPREAD AND SHARE, YOU CAN HELP UKRAINE #Ukraine #Russia https://t.co/rp2IFCKMi3\n",
            "---------------\n",
            "___________________________________________________________________________________________\n",
            "You are Nigerian? Fleeing out of #Ukraine? \n",
            "You got to Border Control in Poland and were turned back? \n",
            "\n",
            "Do this:\n",
            "\n",
            "Please forward your information details to this WhatsApp # + 48 600 032 155 . It goes directly to the Polish Ambassador who’s resolving such problems. \n",
            "Blessings!🫂✍🏾\n",
            "---------------\n",
            "If You are Nigerian? Fleeing out of #Ukraine? \n",
            "You got to Border Control in Poland and were turned back? \n",
            "\n",
            "Do this:\n",
            "\n",
            "Please forward your information details to this WhatsApp # + 48 600 032 155 . It goes directly to the Polish Ambassador who’s resolving such problems.\n",
            "---------------\n",
            "___________________________________________________________________________________________\n",
            "In the end!! Only the innocent people and soldiers will pay the price💔\n",
            "#Ukraine #UkraineRussia #Putin #UkraineInvasion #Ukrainian #แตงโม #Russia https://t.co/k2mpgQ7I5V\n",
            "---------------\n",
            "Leading from the front\n",
            "But In the end!! Only the innocent people and soldiers will pay the price💔\n",
            "#Ukraine #UkraineRussia #Putin #UkraineInvasion #Ukrainian #แตงโม #Russia https://t.co/ojYKgrl9Sx\n",
            "---------------\n",
            "___________________________________________________________________________________________\n",
            "Pres. Volodymyr Zelensky drinks coffee in his military base defending the capital, Kiev against Russians.\n",
            "NO PRESIDENT HAS EVER DONE THIS! 😱\n",
            "\n",
            " #Ukraine #Russia #Kiyv #UkraineRussia #UkraineUnderAttack #UkraineWar https://t.co/je1A7hARt2\n",
            "---------------\n",
            "Pres. Volodymyr Zelensky drinks coffee in his military base defending the capital, Kiev against Russians.\n",
            "NO PRESIDENT HAS EVER DONE THIS! 😱\n",
            "\n",
            " #Ukraine #Russia #Kiyv #UkraineRussia #UkraineUnderAttack #UkraineWar #RT https://t.co/647blKUSKm\n",
            "---------------\n",
            "___________________________________________________________________________________________\n",
            "Pres. Volodymyr Zelensky drinks coffee in his military base defending the capital, Kiev against Russians.\n",
            "NO PRESIDENT HAS EVER DONE THIS! 😱\n",
            "\n",
            " #Ukraine #Russia #Kiyv #UkraineRussia #UkraineUnderAttack #UkraineWar #RT https://t.co/647blKUSKm\n",
            "---------------\n",
            "Pres. Volodymyr Zelensky drinks coffee in his military base defending the capital, Kiev against Russians.\n",
            "NO PRESIDENT HAS EVER DONE THIS! 😱\n",
            "\n",
            " #Ukraine #Russia #Kiyv #UkraineRussia #UkraineUnderAttack #UkraineWar https://t.co/je1A7hARt2\n",
            "---------------\n",
            "___________________________________________________________________________________________\n",
            "Scenes of anxiety, farewell, #love …\n",
            "Some will not come home again for sure\n",
            "#Putin #worldwar3 #NATO #WWIII #Kiev\n",
            "#Ukraine #Ucrania #Chernobyl #worldwar3 https://t.co/hjGD2WeM0g\n",
            "---------------\n",
            "Scenes of anxiety, farewell, #love …\n",
            "Some will not come home again for sure\n",
            "#Putin #worldwar3 #NATO #WWIII #Kiev\n",
            "#Ukraine #Ucrania #Chernobyl https://t.co/nqe96UB5aj\n",
            "---------------\n",
            "___________________________________________________________________________________________\n",
            "Scenes of anxiety, farewell, #love …\n",
            "Some will not come home again for sure\n",
            "#Putin #worldwar3 #NATO #WWIII #Kiev\n",
            "#Ukraine #Ucrania #Chernobyl https://t.co/nqe96UB5aj\n",
            "---------------\n",
            "Scenes of anxiety, farewell, #love …\n",
            "Some will not come home again for sure\n",
            "#Putin #worldwar3 #NATO #WWIII #Kiev\n",
            "#Ukraine #Ucrania #Chernobyl #worldwar3 https://t.co/hjGD2WeM0g\n",
            "---------------\n",
            "___________________________________________________________________________________________\n",
            "@mblaszczak LIVE NOW!\n",
            "Russia-Ukraine Crisis Livestream.\n",
            "Live with multiple roof cams in Kyiv, Ukraine 🇺🇦.(with sound)\n",
            "Online all night! \n",
            "#UkraineRussia #Ukraine #UkraineUnderAttack #KyivNow #RussiaUkraineWar #RussiaUkraineConflict \n",
            "\n",
            "https://t.co/2rPrNMTvdT\n",
            "---------------\n",
            "@nexta_tv LIVE NOW!\n",
            "Russia-Ukraine Crisis Livestream.\n",
            "Multiple live webcams watching over Kyiv, Ukraine 🇺🇦.(with sound)\n",
            "Online 24/7.\n",
            "#UkraineRussia #Ukraine #UkraineUnderAttack #KyivNow #RussiaUkraineWar #RussiaUkraineConflict\n",
            "\n",
            "https://t.co/cYDh1FB6aS\n",
            "---------------\n",
            "___________________________________________________________________________________________\n",
            "Manchester United and Watford potray a sense of Unity and solidarity as protest against Russia's invasion of Ukraine 🇺🇦 before kick-off. ⚽️ Glory ManUnited. 🙏\n",
            "#Ukraine #UkraineUnderAttack #Kiev #RussiaUkraineWar #Kyiv #StopRussianAggression https://t.co/RogCzjBu4L\n",
            "---------------\n",
            "#Ukraine Manchester United and Watford potray a sense of Unity and solidarity as protest against Russia's invasion of Ukraine 🇺🇦 before kick-off. ⚽️ Glory ManUnited. 🙏\n",
            "#Ukraine #UkraineUnderAttack #Kiev #RussiaUkraineWar #Kyiv #StopRussianAggression https://t.co/sX1bU1iWXZ\n",
            "---------------\n",
            "___________________________________________________________________________________________\n",
            "Video of a Russian warplane targeting a civilian building where a woman and her child live. \n",
            "#Ukraine, unclear location. #ucrania #rusia #russia #TerceraGuerraMundial https://t.co/MoftCQvhqu\n",
            "---------------\n",
            "Russian warplane targeting a civilian building where a woman and her child live. #worldwar3 #Russia #WWIII https://t.co/lzEU7xwQGJ\n",
            "---------------\n",
            "___________________________________________________________________________________________\n",
            "⚠️ If you're in Ukraine and reading this please turn geolocation off on your phone now. Russia is using it to track gatherings. Tell those around you to do the same. \n",
            "\n",
            "#RussianArmy \n",
            "#UkraineRussiaWar \n",
            "#Ukraine\n",
            "---------------\n",
            "⚠️ If you're in #Ukraine and reading this please turn geolocation off on your phone now. Russia is using it to track gatherings. Tell those around you to do the same.\n",
            "---------------\n",
            "___________________________________________________________________________________________\n",
            "Apparently, thousands of Romanians have been waiting in their personal vehicles to pick up #refugees at one of the NE borders with #Ukraine. \n",
            "I'm not often elated at news from back home, but this makes my heart swell. #StandWithUkriane #standwithrefugees https://t.co/pvc4vNvNu7\n",
            "---------------\n",
            "Apparently, thousands of Romanians have been waiting in their personal vehicles to pick up #refugees at one of the NE borders with #Ukraine. \n",
            "I'm not often elated at news from back home, but this makes my heart swell. #worldwar3 #StandWithUkriane https://t.co/QT2vkpYveD\n",
            "---------------\n",
            "___________________________________________________________________________________________\n",
            "You are Nigerian? Fleeing out of #Ukraine? \n",
            "You got to Border Control in Poland and were turned back? \n",
            "\n",
            "Do this:\n",
            "\n",
            "Please forward your information details to this WhatsApp # + 48 600 032 155 . It goes directly to the Polish Ambassador who’s resolving such problems. \n",
            "Blessings!🫂✍🏾\n",
            "---------------\n",
            "If You are Nigerian? Fleeing out of #Ukraine? \n",
            "You got to Border Control in Poland and were turned back? \n",
            "\n",
            "Do this:\n",
            "\n",
            "Please forward your information details to this WhatsApp # + 48 600 032 155 . It goes directly to the Polish Ambassador who’s resolving such problems.\n",
            "---------------\n",
            "___________________________________________________________________________________________\n",
            "We need a million likes for the greatest president ❤️💯\n",
            "He loves the country not the job 🥰\n",
            "#RussiaUkraineConflict #Putin #Ukraine #Russia #UkraineWar https://t.co/LA1lE0nITb\n",
            "---------------\n",
            "We need a million likes for the greatest president ❤️💯\n",
            "He loves the country not the job 🥰\n",
            "#RussiaUkraineConflict #Putin #Ukraine #Russia https://t.co/T1FYbkDdnU\n",
            "---------------\n",
            "___________________________________________________________________________________________\n",
            "In 30-60 mins #Kyiv will be under attack never seen before.#Russia will hit us with all they have. Main Bessarabka market is a target. All parliamentary chats are exploding | EMPR source #Ukraine #RussiaUkraineWar #russianinvasion\n",
            "---------------\n",
            "In 30-60 mins #Kyiv will be under attack never seen before.#Russia will hit us with all they have. Main Bessarabka market is a target. All parliamentary chats are exploding\n",
            "---------------\n",
            "___________________________________________________________________________________________\n",
            "An 80-year-old showed up to join the Ukrainian army, carrying with him a small case with 2 t-shirts, a pair of extra pants, a toothbrush and a few sandwiches for lunch. He said he was doing it for his grandkids. 🇺🇦\n",
            "\n",
            "#Ukraine #war #Russia #UkraineRussiaWar #NATO https://t.co/WaUGbD52Xr\n",
            "---------------\n",
            "An 80-year-old showed up to join the Ukrainian army, carrying with him a small case with 2 t-shirts, a pair of extra pants, a toothbrush and a few sandwiches for lunch. He said he was doing it for his grandkids. 🇺🇦\n",
            "\n",
            "#Ukraine #UkraineRussiaWar #Ukrinian #Kyiv #Zelensky #Anonymous https://t.co/tjMwHgrndm\n",
            "---------------\n",
            "___________________________________________________________________________________________\n",
            "We call all hackers and digital activists to be united as one. If this war is not won with weapons, it will be won with cyberweapons. Democracy and freedom will destroy fascism and imperialism. #Anonymous #OpRussia #Ukraine #Russia #Putin . https://t.co/gWxbLMvOuj\n",
            "---------------\n",
            "We call everyone to be united as one. If this war is not won with weapons, it will be won with cyberweapons. Democracy and freedom will destroy fascism and imperialism. 🇺🇦\n",
            "\n",
            "Everyone share and follow, please help us win the war!\n",
            "\n",
            "#Anonymous #OpRussia #Ukraine #Russia #Putin https://t.co/C8Hy4IBYw9\n",
            "---------------\n",
            "___________________________________________________________________________________________\n"
          ]
        }
      ]
    },
    {
      "cell_type": "code",
      "source": [
        ""
      ],
      "metadata": {
        "id": "gn0HGjWC-zX5"
      },
      "execution_count": 38,
      "outputs": []
    }
  ],
  "metadata": {
    "interpreter": {
      "hash": "e2cd697ea1a65fb50dbc24e0f8485a2ca518dbc7d7a135f655e94e4f59b8539e"
    },
    "kernelspec": {
      "display_name": "Python 3.10.2 ('venv': venv)",
      "language": "python",
      "name": "python3"
    },
    "language_info": {
      "codemirror_mode": {
        "name": "ipython",
        "version": 3
      },
      "file_extension": ".py",
      "mimetype": "text/x-python",
      "name": "python",
      "nbconvert_exporter": "python",
      "pygments_lexer": "ipython3",
      "version": "3.10.2"
    },
    "orig_nbformat": 4,
    "colab": {
      "name": "ukraine.ipynb",
      "provenance": [],
      "include_colab_link": true
    },
    "accelerator": "GPU",
    "gpuClass": "standard"
  },
  "nbformat": 4,
  "nbformat_minor": 0
}